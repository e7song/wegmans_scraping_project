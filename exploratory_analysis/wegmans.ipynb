{
 "cells": [
  {
   "cell_type": "code",
   "execution_count": 1,
   "id": "5c9d5ae5",
   "metadata": {},
   "outputs": [],
   "source": [
    "import requests\n",
    "import time\n",
    "import csv"
   ]
  },
  {
   "cell_type": "markdown",
   "id": "a0a62167",
   "metadata": {},
   "source": [
    "#### Step 1: Checking the Location"
   ]
  },
  {
   "cell_type": "code",
   "execution_count": 2,
   "id": "a5753210",
   "metadata": {},
   "outputs": [],
   "source": [
    "def verifyStore(storeNum : int):\n",
    "    \"\"\"\n",
    "    Grabs the most recent stores from https://www.wegmans.com/api/stores to verify if the queried store id exists.\n",
    "    \n",
    "    \"\"\"\n",
    "    url = \"https://www.wegmans.com/api/stores\"\n",
    "\n",
    "    headers = {\n",
    "    \"Accept\": \"*/*\",\n",
    "    \"Accept-Language\": \"en-US,en;q=0.9,es;q=0.8\",\n",
    "    \"Cache-Control\": \"no-cache\",\n",
    "    \"Pragma\": \"no-cache\",\n",
    "    \"Referer\": \"https://www.wegmans.com/stores\",\n",
    "    \"User-Agent\": \"Mozilla/5.0 (Windows NT 10.0; Win64; x64) AppleWebKit/537.36 \"\n",
    "                \"(KHTML, like Gecko) Chrome/138.0.0.0 Safari/537.36\",\n",
    "    }\n",
    "\n",
    "    resp = requests.get(url, headers=headers)\n",
    "    resp.raise_for_status() # sanity check \n",
    "    stores = resp.json()\n",
    "\n",
    "    for store in stores:\n",
    "        if store[\"storeNumber\"] == storeNum:\n",
    "            print(f\"The queried store is {store['name']}.\")\n",
    "            return True\n",
    "    \n",
    "    print(\"ERR: This store number does not exist.\")\n",
    "    return False\n"
   ]
  },
  {
   "cell_type": "markdown",
   "id": "27478976",
   "metadata": {},
   "source": [
    "#### Step 2: Grabbing all the categories available at the specific store id"
   ]
  },
  {
   "cell_type": "code",
   "execution_count": 3,
   "id": "8c519d03",
   "metadata": {},
   "outputs": [],
   "source": [
    "def getCategories(storeId : int):\n",
    "    \"\"\"\n",
    "    Get a list of all the subcategories that have data from a specific store id.\n",
    "\n",
    "    \"\"\"\n",
    "    headers = {\n",
    "        \"Accept\": \"*/*\",\n",
    "        \"Accept-Language\": \"en-US,en;q=0.9,es;q=0.8\",\n",
    "        \"Cache-Control\": \"no-cache\",\n",
    "        \"Pragma\": \"no-cache\",\n",
    "        \"Referer\": \"https://www.wegmans.com/shop/categories\",\n",
    "        \"User-Agent\": (\n",
    "            \"Mozilla/5.0 (Windows NT 10.0; Win64; x64) AppleWebKit/537.36 \"\n",
    "            \"(KHTML, like Gecko) Chrome/138.0.0.0 Safari/537.36\"\n",
    "        )\n",
    "    }\n",
    "\n",
    "    url = f\"https://www.wegmans.com/api/categories/{storeId}\"\n",
    "    resp = requests.get(url, headers=headers)\n",
    "    resp.raise_for_status() # sanity check \n",
    "    storeData = resp.json()\n",
    "    categories = []\n",
    "    for mainDepartment, subDepartments in storeData[\"subCategoriesWithData\"].items():\n",
    "        categories.extend([cat[\"key\"] for cat in subDepartments])\n",
    "    return categories"
   ]
  },
  {
   "cell_type": "markdown",
   "id": "27316ab7",
   "metadata": {},
   "source": [
    "#### Step 4: For each of the subcategories, grab all the product data"
   ]
  },
  {
   "cell_type": "code",
   "execution_count": 4,
   "id": "6d70e33d",
   "metadata": {},
   "outputs": [],
   "source": [
    "def constructSession():\n",
    "    \"\"\"\n",
    "    Builds a session for querying multiple times.\n",
    "    \n",
    "    \"\"\"\n",
    "    API_KEY = \"9a10b1401634e9a6e55161c3a60c200d\"\n",
    "    APP_ID = \"QGPPR19V8V\"\n",
    "    URL = f\"https://{APP_ID}-dsn.algolia.net/1/indexes/*/queries\"\n",
    "\n",
    "    headers = {\n",
    "        \"x-algolia-api-key\": API_KEY,\n",
    "        \"x-algolia-application-id\": APP_ID,\n",
    "        \"user-agent\": (\n",
    "                    \"Mozilla/5.0 (Windows NT 10.0; Win64; x64) \" \n",
    "                    \"AppleWebKit/537.36 (KHTML, like Gecko) \"\n",
    "                    \"Chrome/138.0.0.0 Safari/537.36\"\n",
    "        ),\n",
    "        \"content-type\": \"application/json\",\n",
    "        \"origin\": \"https://www.wegmans.com\",\n",
    "        \"referer\": \"https://www.wegmans.com/\",\n",
    "    }\n",
    "    session = requests.Session()\n",
    "    session.headers.update(headers)\n",
    "\n",
    "    return session\n"
   ]
  },
  {
   "cell_type": "code",
   "execution_count": 309,
   "id": "bd8ed0f1",
   "metadata": {},
   "outputs": [],
   "source": [
    "def getAllBrands(subId : str, storeId : int, facetName = 'consumerBrandName',pageNum = 0, session = None):\n",
    "    \"\"\"\n",
    "    Some subcategories have >1000 products. Further subdivision can be handled by grabbing consumer brand names.\n",
    "\n",
    "    \"\"\"\n",
    "    \n",
    "    if session == None:\n",
    "        session = constructSession()\n",
    "\n",
    "    APP_ID = \"QGPPR19V8V\"\n",
    "    URL = f\"https://{APP_ID}-dsn.algolia.net/1/indexes/*/queries\"\n",
    "\n",
    "    params = (\n",
    "        \"query=&\"\n",
    "        f\"page={pageNum}&\" \n",
    "        f\"hitsPerPage={0}&\"\n",
    "        f\"filters=storeNumber:{storeId} AND category.key:{subId} AND \"\n",
    "        \"excludeFromWeb:false AND isSoldAtStore:true AND fulfilmentType:instore&\"\n",
    "        f\"facets=%5B%22{facetName}%22%5D&\"\n",
    "        \"maxValuesPerFacet=1000\"\n",
    "    )\n",
    "\n",
    "    payload = {\n",
    "        \"requests\": [\n",
    "            {\n",
    "                \"indexName\": \"products\",\n",
    "                \"params\": params\n",
    "            }\n",
    "        ]\n",
    "    }\n",
    "\n",
    "    resp = session.post(URL, json=payload)\n",
    "    resp.raise_for_status()\n",
    "    res = resp.json()[\"results\"][0]\n",
    "    return res['facets']['consumerBrandName']\n"
   ]
  },
  {
   "cell_type": "code",
   "execution_count": null,
   "id": "2910843b",
   "metadata": {},
   "outputs": [],
   "source": [
    "def getAllBrandsNums(subId: str, storeId: int, facetName: str = 'consumerBrandName',\n",
    "                 pageNum: int = 0, session=None) -> int:\n",
    "    \"\"\"\n",
    "    Returns the count of unique consumerBrandName values for the given store+subcategory.\n",
    "    \"\"\"\n",
    "    if session is None:\n",
    "        session = constructSession()\n",
    "\n",
    "    APP_ID = \"QGPPR19V8V\"\n",
    "    URL    = f\"https://{APP_ID}-dsn.algolia.net/1/indexes/*/queries\"\n",
    "\n",
    "    params = (\n",
    "        \"query=&\"\n",
    "        f\"page={pageNum}&\"\n",
    "        \"hitsPerPage=0&\"\n",
    "        f\"filters=storeNumber:{storeId} AND category.key:{subId} AND \"\n",
    "        \"excludeFromWeb:false AND isSoldAtStore:true AND fulfilmentType:instore&\"\n",
    "        f\"facets=%5B%22{facetName}%22%5D&\"\n",
    "        \"maxValuesPerFacet=1000\"\n",
    "    )\n",
    "\n",
    "    payload = {\n",
    "        \"requests\": [\n",
    "            {\n",
    "                \"indexName\": \"products\",\n",
    "                \"params\": params\n",
    "            }\n",
    "        ]\n",
    "    }\n",
    "\n",
    "    resp = session.post(URL, json=payload)\n",
    "    resp.raise_for_status()\n",
    "    res = resp.json()[\"results\"][0]\n",
    "\n",
    "    # get the dict of { brandName: count }\n",
    "    brands_dict = res.get(\"facets\", {}).get(facetName, {})\n",
    "    # return just the number of distinct brands\n",
    "    return len(brands_dict)\n"
   ]
  },
  {
   "cell_type": "code",
   "execution_count": 306,
   "id": "180e7f5f",
   "metadata": {},
   "outputs": [],
   "source": [
    "def getSubCategoryData(subId : str, storeId : int, hits = 1000, pageNum = 0, brandName = None, session = None):\n",
    "    \"\"\"\n",
    "    Given a store id and a subcategory id, get the data in the form of a dictionary.\n",
    "\n",
    "    \"\"\"\n",
    "    \n",
    "    if session == None:\n",
    "        session = constructSession()\n",
    "\n",
    "    APP_ID = \"QGPPR19V8V\"\n",
    "    URL = f\"https://{APP_ID}-dsn.algolia.net/1/indexes/*/queries\"\n",
    "\n",
    "    params = (\n",
    "        \"query=&\"\n",
    "        f\"page={pageNum}&\" # hitsPerPage should cover everything if the subcategories are the ones being explored\n",
    "        f\"hitsPerPage={hits}&\"\n",
    "        f\"filters=storeNumber:{storeId} AND category.key:{subId} AND \"\n",
    "        \"excludeFromWeb:false AND isSoldAtStore:true AND fulfilmentType:instore\"\n",
    "    )\n",
    "\n",
    "    if brandName:\n",
    "        payload = {\n",
    "            \"requests\": [\n",
    "                {\n",
    "                    \"indexName\": \"products\",\n",
    "                    \"params\": params,\n",
    "                    \"facetFilters\": [[f\"consumerBrandName:{brandName}\"]]\n",
    "                }\n",
    "            ]\n",
    "        }      \n",
    "    else:\n",
    "        payload = {\n",
    "            \"requests\": [\n",
    "                {\n",
    "                    \"indexName\": \"products\",\n",
    "                    \"params\": params\n",
    "                }\n",
    "            ]\n",
    "        }\n",
    "\n",
    "\n",
    "    resp = session.post(URL, json=payload)\n",
    "    resp.raise_for_status()\n",
    "    res = resp.json()[\"results\"][0]\n",
    "\n",
    "    allHits = []\n",
    "\n",
    "    # edge case where a subcategory nbHits > Hits\n",
    "    if res['nbHits'] > len(res['hits']):\n",
    "        print(subId)\n",
    "        allBrands = getAllBrands(subId, storeId, session = session)\n",
    "        # print(getAllBrandsNums(subId, storeId, session = session))\n",
    "        for brandName in allBrands:\n",
    "            allHits.extend(getSubCategoryData(subId, storeId, brandName = brandName, session = session))\n",
    "            time.sleep(0.2)\n",
    "        \n",
    "    else:\n",
    "        allHits = res['hits']\n",
    "\n",
    "    # print(\"all:\" + str(len(allHits)) +  \" nbHits: \" + str(res['nbHits']))\n",
    "    return allHits\n"
   ]
  },
  {
   "cell_type": "code",
   "execution_count": 297,
   "id": "a95fb09c",
   "metadata": {},
   "outputs": [],
   "source": [
    "def getSubCategoryDataIterative(subId, storeId, hits=300, session=None):\n",
    "    session = session or constructSession()\n",
    "    APP_ID = \"QGPPR19V8V\"\n",
    "    URL    = f\"https://{APP_ID}-dsn.algolia.net/1/indexes/*/queries\"\n",
    "\n",
    "    def fetch_page(page):\n",
    "        params = (\n",
    "            \"query=&\"\n",
    "            f\"page={page}&\"\n",
    "            f\"hitsPerPage={hits}&\"\n",
    "            \"filters=\"\n",
    "            f\"storeNumber:{storeId} AND \"\n",
    "            f\"category.key:{subId} AND \"\n",
    "            \"excludeFromWeb:false AND \"\n",
    "            \"isSoldAtStore:true AND \"\n",
    "            \"fulfilmentType:instore\"\n",
    "        )\n",
    "        payload = {\"requests\":[{\"indexName\":\"products\",\"params\":params}]}\n",
    "        # add timeout and retry if you want here\n",
    "        r = session.post(URL, json=payload, timeout=(5,30))\n",
    "        r.raise_for_status()\n",
    "        return r.json()[\"results\"][0]\n",
    "\n",
    "    # first page\n",
    "    first = fetch_page(0)\n",
    "    all_hits = first[\"hits\"]\n",
    "    total_pages = first.get(\"nbPages\", 1)\n",
    "\n",
    "    # remaining pages\n",
    "    for p in range(1, total_pages):\n",
    "        print(f\"Fetching page {p}/{total_pages-1}\")\n",
    "        page_data = fetch_page(p)\n",
    "        all_hits.extend(page_data[\"hits\"])\n",
    "\n",
    "    return all_hits\n"
   ]
  },
  {
   "cell_type": "code",
   "execution_count": 312,
   "id": "27bbf28b",
   "metadata": {},
   "outputs": [],
   "source": [
    "def filteredQuery(subId : str, storeId : int, facet_filter, hits = 1000, session = None):\n",
    "    \n",
    "    if session == None:\n",
    "        session = constructSession()\n",
    "\n",
    "    APP_ID = \"QGPPR19V8V\"\n",
    "    URL = f\"https://{APP_ID}-dsn.algolia.net/1/indexes/*/queries\"\n",
    "\n",
    "    params = (\n",
    "        \"query=&\"\n",
    "        f\"page={0}&\" # hitsPerPage should cover everything if the subcategories are the ones being explored\n",
    "        f\"hitsPerPage={hits}&\"\n",
    "        f\"filters=storeNumber:{storeId} AND category.key:{subId} AND \"\n",
    "        \"excludeFromWeb:false AND isSol\"\n",
    "        \"dAtStore:true AND fulfilmentType:instore\"\n",
    "    )\n",
    "\n",
    "    payload = {\n",
    "        \"requests\": [\n",
    "            {\n",
    "                \"indexName\": \"products\",\n",
    "                \"params\": params,\n",
    "                \"facetFilters\": [facet_filter]\n",
    "            }\n",
    "        ]\n",
    "    }      \n",
    "    \n",
    "    resp = session.post(URL, json=payload)\n",
    "    resp.raise_for_status()\n",
    "    res = resp.json()[\"results\"][0]\n",
    "\n",
    "    return res['hits']"
   ]
  },
  {
   "cell_type": "code",
   "execution_count": 329,
   "id": "cb740147",
   "metadata": {},
   "outputs": [],
   "source": [
    "def getSubCategoryDataBlobs(subId : str, storeId : int, hits = 1000, brandName = None, session = None):\n",
    "    \"\"\"\n",
    "    Given a store id and a subcategory id, get the data in the form of a dictionary.\n",
    "\n",
    "    \"\"\"\n",
    "    \n",
    "    if session == None:\n",
    "        session = constructSession()\n",
    "\n",
    "    APP_ID = \"QGPPR19V8V\"\n",
    "    URL = f\"https://{APP_ID}-dsn.algolia.net/1/indexes/*/queries\"\n",
    "\n",
    "    params = (\n",
    "        \"query=&\"\n",
    "        f\"page={0}&\" # hitsPerPage should cover everything if the subcategories are the ones being explored\n",
    "        f\"hitsPerPage={hits}&\"\n",
    "        f\"filters=storeNumber:{storeId} AND category.key:{subId} AND \"\n",
    "        \"excludeFromWeb:false AND isSoldAtStore:true AND fulfilmentType:instore\"\n",
    "    )\n",
    "\n",
    "    if brandName:\n",
    "        payload = {\n",
    "            \"requests\": [\n",
    "                {\n",
    "                    \"indexName\": \"products\",\n",
    "                    \"params\": params,\n",
    "                    \"facetFilters\": [[f\"consumerBrandName:{brandName}\"]]\n",
    "                }\n",
    "            ]\n",
    "        }      \n",
    "    else:\n",
    "        payload = {\n",
    "            \"requests\": [\n",
    "                {\n",
    "                    \"indexName\": \"products\",\n",
    "                    \"params\": params\n",
    "                }\n",
    "            ]\n",
    "        }\n",
    "\n",
    "\n",
    "    resp = session.post(URL, json=payload)\n",
    "    resp.raise_for_status()\n",
    "    res = resp.json()[\"results\"][0]\n",
    "\n",
    "    allHits = []\n",
    "\n",
    "    # edge case where a subcategory nbHits > Hits\n",
    "    if res['nbHits'] > len(res['hits']):\n",
    "        brand_dct = getAllBrands(subId, storeId)\n",
    "\n",
    "        curr_filter = []\n",
    "        curr_sum = 0\n",
    "        for brand, total in brand_dct.items():\n",
    "            if curr_sum + total >= 1000:\n",
    "                curr_sum = total\n",
    "\n",
    "                # do the query, add to allHits\n",
    "                allHits.extend(filteredQuery(subId, storeId, curr_filter, session = session))\n",
    "\n",
    "                curr_filter = [f'consumerBrandName:{brand}']\n",
    "            else:\n",
    "                curr_filter.append(f'consumerBrandName:{brand}')\n",
    "                curr_sum += total\n",
    "        \n",
    "        if curr_filter: # still some categories left\n",
    "            allHits.extend(filteredQuery(subId, storeId, curr_filter, session = session))\n",
    "        \n",
    "    else:\n",
    "        allHits = res['hits']\n",
    "    \n",
    "\n",
    "\n",
    "    # print(\"all:\" + str(len(allHits)) +  \" nbHits: \" + str(res['nbHits']))\n",
    "    return allHits\n",
    "\n"
   ]
  },
  {
   "cell_type": "code",
   "execution_count": 84,
   "id": "202b47f5",
   "metadata": {},
   "outputs": [],
   "source": [
    "bruh = getAllBrandsNums('2957337', 156).values()"
   ]
  },
  {
   "cell_type": "code",
   "execution_count": 322,
   "id": "f53fa0a1",
   "metadata": {},
   "outputs": [],
   "source": [
    "test = getSubCategoryDataBlobs('5108174', 156, hits=1000)"
   ]
  },
  {
   "cell_type": "code",
   "execution_count": 323,
   "id": "dc300ae2",
   "metadata": {},
   "outputs": [
    {
     "data": {
      "text/plain": [
       "1136"
      ]
     },
     "execution_count": 323,
     "metadata": {},
     "output_type": "execute_result"
    }
   ],
   "source": [
    "len(test)"
   ]
  },
  {
   "cell_type": "code",
   "execution_count": null,
   "id": "4ba68cea",
   "metadata": {},
   "outputs": [],
   "source": [
    "brand_dct = getAllBrands('5108174', 156)\n",
    "\n",
    "curr_filter = []\n",
    "curr_sum = 0\n",
    "for brand, total in brand_dct:\n",
    "    if curr_sum + total >= 1000:\n",
    "        curr_sum = total\n",
    "\n",
    "        # do the query, add to allHits\n",
    "\n",
    "        curr_filter = [f'consumerBrandName:{brand}']\n",
    "    else:\n",
    "        curr_filter.append(f'consumerBrandName:{brand}')\n",
    "        curr_sum += total"
   ]
  },
  {
   "cell_type": "code",
   "execution_count": 308,
   "id": "67775c0f",
   "metadata": {},
   "outputs": [
    {
     "data": {
      "text/plain": [
       "1136"
      ]
     },
     "execution_count": 308,
     "metadata": {},
     "output_type": "execute_result"
    }
   ],
   "source": [
    "len(test)"
   ]
  },
  {
   "cell_type": "code",
   "execution_count": null,
   "id": "1cc8786f",
   "metadata": {},
   "outputs": [],
   "source": []
  },
  {
   "cell_type": "code",
   "execution_count": 298,
   "id": "bdbd8010",
   "metadata": {},
   "outputs": [
    {
     "name": "stdout",
     "output_type": "stream",
     "text": [
      "Fetching page 1/3\n",
      "Fetching page 2/3\n",
      "Fetching page 3/3\n"
     ]
    }
   ],
   "source": [
    "new_test = getSubCategoryDataIterative('5108174', 156)"
   ]
  },
  {
   "cell_type": "code",
   "execution_count": 299,
   "id": "355e00bf",
   "metadata": {},
   "outputs": [
    {
     "data": {
      "text/plain": [
       "1000"
      ]
     },
     "execution_count": 299,
     "metadata": {},
     "output_type": "execute_result"
    }
   ],
   "source": [
    "len(new_test)"
   ]
  },
  {
   "cell_type": "code",
   "execution_count": 281,
   "id": "eda002fb",
   "metadata": {},
   "outputs": [
    {
     "data": {
      "text/plain": [
       "1000"
      ]
     },
     "execution_count": 281,
     "metadata": {},
     "output_type": "execute_result"
    }
   ],
   "source": [
    "len(new_test)"
   ]
  },
  {
   "cell_type": "code",
   "execution_count": 274,
   "id": "c810b460",
   "metadata": {},
   "outputs": [
    {
     "data": {
      "text/plain": [
       "999"
      ]
     },
     "execution_count": 274,
     "metadata": {},
     "output_type": "execute_result"
    }
   ],
   "source": [
    "len(test['hits'])"
   ]
  },
  {
   "cell_type": "code",
   "execution_count": 275,
   "id": "4da0d2b5",
   "metadata": {},
   "outputs": [
    {
     "data": {
      "text/plain": [
       "2"
      ]
     },
     "execution_count": 275,
     "metadata": {},
     "output_type": "execute_result"
    }
   ],
   "source": [
    "test['nbPages']"
   ]
  },
  {
   "cell_type": "code",
   "execution_count": 113,
   "id": "c1546860",
   "metadata": {},
   "outputs": [],
   "source": [
    "lst = getAllBrands('2957337', 156)"
   ]
  },
  {
   "cell_type": "code",
   "execution_count": 114,
   "id": "031af903",
   "metadata": {},
   "outputs": [],
   "source": [
    "filter_lst = []\n",
    "for brand in lst:\n",
    "    filter_lst.append(f\"NOT consumerBrandName:{brand}\")"
   ]
  },
  {
   "cell_type": "code",
   "execution_count": 116,
   "id": "622a417b",
   "metadata": {},
   "outputs": [
    {
     "data": {
      "text/plain": [
       "\"NOT consumerBrandName:Wegmans AND NOT consumerBrandName:Poppi AND NOT consumerBrandName:Starbucks AND NOT consumerBrandName:Gatorade AND NOT consumerBrandName:Traditional Medicinals AND NOT consumerBrandName:Bigelow AND NOT consumerBrandName:Polar AND NOT consumerBrandName:Celestial Seasonings AND NOT consumerBrandName:Pepsi AND NOT consumerBrandName:La Colombe AND NOT consumerBrandName:Red Bull AND NOT consumerBrandName:Peet's Coffee AND NOT consumerBrandName:Ocean Spray AND NOT consumerBrandName:Fever-Tree AND NOT consumerBrandName:Coca-Cola AND NOT consumerBrandName:Alani Nu AND NOT consumerBrandName:Canada Dry AND NOT consumerBrandName:Core Power AND NOT consumerBrandName:Dunkin' AND NOT consumerBrandName:Ghost AND NOT consumerBrandName:Monster AND NOT consumerBrandName:Yogi AND NOT consumerBrandName:Dr Pepper AND NOT consumerBrandName:Ito En AND NOT consumerBrandName:MiO AND NOT consumerBrandName:Stur AND NOT consumerBrandName:Counter Culture AND NOT consumerBrandName:Snapple AND NOT consumerBrandName:Sprite AND NOT consumerBrandName:vitaminwater AND NOT consumerBrandName:Crystal Light AND NOT consumerBrandName:7-UP AND NOT consumerBrandName:Diet Coke AND NOT consumerBrandName:Hint AND NOT consumerBrandName:Mountain Dew AND NOT consumerBrandName:Pure Leaf AND NOT consumerBrandName:nutpods AND NOT consumerBrandName:Almond Breeze AND NOT consumerBrandName:Bloom AND NOT consumerBrandName:Coffee-Mate AND NOT consumerBrandName:Elmhurst AND NOT consumerBrandName:Melitta AND NOT consumerBrandName:Prime AND NOT consumerBrandName:Sunkist AND NOT consumerBrandName:Tazo AND NOT consumerBrandName:A&W AND NOT consumerBrandName:Cafe Bustelo AND NOT consumerBrandName:Fiji AND NOT consumerBrandName:Olipop AND NOT consumerBrandName:Rishi AND NOT consumerBrandName:Schweppes AND NOT consumerBrandName:Smartwater AND NOT consumerBrandName:Spindrift AND NOT consumerBrandName:AriZona AND NOT consumerBrandName:Essentia AND NOT consumerBrandName:Honest AND NOT consumerBrandName:Lavazza AND NOT consumerBrandName:Mingle AND NOT consumerBrandName:Mott's AND NOT consumerBrandName:Sanpellegrino AND NOT consumerBrandName:Sparkling Ice AND NOT consumerBrandName:Swiss Miss AND NOT consumerBrandName:Tim Hortons AND NOT consumerBrandName:Unwell AND NOT consumerBrandName:Vita Coco AND NOT consumerBrandName:Zevia AND NOT consumerBrandName:Capri Sun AND NOT consumerBrandName:Coca-Cola Zero Sugar AND NOT consumerBrandName:Death Wish Coffee Co AND NOT consumerBrandName:Four Sigmatic AND NOT consumerBrandName:Gatorlyte AND NOT consumerBrandName:Guayaki AND NOT consumerBrandName:Harney & Sons AND NOT consumerBrandName:Illy AND NOT consumerBrandName:Intelligentsia AND NOT consumerBrandName:Izze AND NOT consumerBrandName:Juicy Juice AND NOT consumerBrandName:LaCroix AND NOT consumerBrandName:Poland Spring AND NOT consumerBrandName:Saranac AND NOT consumerBrandName:Saratoga AND NOT consumerBrandName:Seagrams AND NOT consumerBrandName:Starry AND NOT consumerBrandName:Stok AND NOT consumerBrandName:Swoon Brands LLC AND NOT consumerBrandName:Torani AND NOT consumerBrandName:Wyler's AND NOT consumerBrandName:Blue Bottle Coffee AND NOT consumerBrandName:Blue Lotus Chai AND NOT consumerBrandName:Calypso AND NOT consumerBrandName:Clear Theory AND NOT consumerBrandName:Culture Pop AND NOT consumerBrandName:Fanta AND NOT consumerBrandName:Fresca AND NOT consumerBrandName:Hal's New York AND NOT consumerBrandName:Hoplark AND NOT consumerBrandName:Hugo Coffee Roasters AND NOT consumerBrandName:Lakewood AND NOT consumerBrandName:Maison Perrier AND NOT consumerBrandName:Oatly AND NOT consumerBrandName:Peet's AND NOT consumerBrandName:Pop & Bottle AND NOT consumerBrandName:Prime Hydration AND NOT consumerBrandName:Propel AND NOT consumerBrandName:Reed's AND NOT consumerBrandName:S.Pellegrino AND NOT consumerBrandName:4C AND NOT consumerBrandName:Blue Diamond AND NOT consumerBrandName:Boylan Bottling AND NOT consumerBrandName:Califia Farms AND NOT consumerBrandName:Coffee Mate AND NOT consumerBrandName:Crush AND NOT consumerBrandName:Dole AND NOT consumerBrandName:Evian AND NOT consumerBrandName:Folgers AND NOT consumerBrandName:GoodPop AND NOT consumerBrandName:Goslings AND NOT consumerBrandName:Green Mountain Coffee Roasters AND NOT consumerBrandName:Hershey's AND NOT consumerBrandName:International Delight AND NOT consumerBrandName:Kettl AND NOT consumerBrandName:Lipton AND NOT consumerBrandName:MUG AND NOT consumerBrandName:Malk AND NOT consumerBrandName:Martinelli's AND NOT consumerBrandName:Master Of Mixes AND NOT consumerBrandName:Matcha Kari AND NOT consumerBrandName:Milkadamia AND NOT consumerBrandName:Monster Energy Ultra AND NOT consumerBrandName:Q Mixers AND NOT consumerBrandName:R.W. Knudsen Family AND NOT consumerBrandName:Santa Cruz Organic AND NOT consumerBrandName:Seagram's AND NOT consumerBrandName:Sicilia AND NOT consumerBrandName:Smart Juice AND NOT consumerBrandName:Snapple Tea AND NOT consumerBrandName:So Delicious Dairy Free AND NOT consumerBrandName:Stumptown AND NOT consumerBrandName:Stumptown Coffee Roasters AND NOT consumerBrandName:Super Coffee AND NOT consumerBrandName:The Ginger People AND NOT consumerBrandName:The Mountain Valley AND NOT consumerBrandName:Tost AND NOT consumerBrandName:True Lemon AND NOT consumerBrandName:VOLCANO AND NOT consumerBrandName:Vahdam AND NOT consumerBrandName:West Life AND NOT consumerBrandName:Zing Zang AND NOT consumerBrandName:A & W AND NOT consumerBrandName:Agalima AND NOT consumerBrandName:Alani AND NOT consumerBrandName:Angostura AND NOT consumerBrandName:Barq's AND NOT consumerBrandName:Clamato AND NOT consumerBrandName:Coke AND NOT consumerBrandName:Diet Pepsi AND NOT consumerBrandName:Diet Stewart's AND NOT consumerBrandName:Donut Shop AND NOT consumerBrandName:Evamor AND NOT consumerBrandName:Fee Brothers AND NOT consumerBrandName:Ferrara AND NOT consumerBrandName:Gerolsteiner AND NOT consumerBrandName:Iridescent AND NOT consumerBrandName:LIPTON PURE LEAF AND NOT consumerBrandName:Lakewood Organic AND NOT consumerBrandName:Land O Lakes AND NOT consumerBrandName:Leaner Creamer AND NOT consumerBrandName:Libby's AND NOT consumerBrandName:Luxardo AND NOT consumerBrandName:Matcha Love AND NOT consumerBrandName:MiO Energy AND NOT consumerBrandName:Minute Maid AND NOT consumerBrandName:Monster Energy AND NOT consumerBrandName:Monster Rehab AND NOT consumerBrandName:Nellie & Joes AND NOT consumerBrandName:Nescafe AND NOT consumerBrandName:Nesquik AND NOT consumerBrandName:Paromi AND NOT consumerBrandName:Pick On Us AND NOT consumerBrandName:Prince of Peace AND NOT consumerBrandName:Q AND NOT consumerBrandName:R.W. Knudsen AND NOT consumerBrandName:Re'al AND NOT consumerBrandName:ReaLime AND NOT consumerBrandName:Red Bull - North America Inc. AND NOT consumerBrandName:Roar AND NOT consumerBrandName:Rose's AND NOT consumerBrandName:STARBUCKS FRAPPUCCINO AND NOT consumerBrandName:Stewart's AND NOT consumerBrandName:Sunsweet AND NOT consumerBrandName:The Original Donut Shop AND NOT consumerBrandName:Tres Agaves AND NOT consumerBrandName:V8 AND NOT consumerBrandName:WestSoy\""
      ]
     },
     "execution_count": 116,
     "metadata": {},
     "output_type": "execute_result"
    }
   ],
   "source": [
    "\" AND \".join(filter_lst)"
   ]
  },
  {
   "cell_type": "code",
   "execution_count": 371,
   "id": "8f052ac5",
   "metadata": {},
   "outputs": [],
   "source": [
    "def fetch_unbranded(subId, storeId, **opts):\n",
    "    \"\"\"\n",
    "    Fetches only products with NO consumerBrandName set.\n",
    "    \"\"\"\n",
    "    session = opts.pop(\"session\", None) or constructSession()\n",
    "\n",
    "    APP_ID = \"QGPPR19V8V\"\n",
    "    URL = f\"https://{APP_ID}-dsn.algolia.net/1/indexes/*/queries\"\n",
    "    lst = getAllBrands(subId, storeId)\n",
    "    filter_lst = []\n",
    "    for brand in lst:\n",
    "        filter_lst.append(f\"NOT consumerBrandName:%27{brand}%27\")\n",
    "    negative_filter = \" AND \".join(filter_lst[0:3])\n",
    "    print(negative_filter)\n",
    "    params = (\n",
    "        \"query=&\"\n",
    "        f\"page={opts.get('pageNum',0)}&\"\n",
    "        f\"hitsPerPage={opts.get('hits',1000)}&\"\n",
    "        f\"filters=storeNumber:{storeId} AND category.key:{subId} AND \"\n",
    "        \"excludeFromWeb:false AND isSoldAtStore:true AND fulfilmentType:instore AND \"\n",
    "        f\"{negative_filter}\"\n",
    "    )\n",
    "    payload = {\"requests\":[{\"indexName\":\"products\",\"params\":params}]}\n",
    "    r = session.post(URL, json=payload); r.raise_for_status()\n",
    "    return r.json()[\"results\"][0]\n",
    "\n"
   ]
  },
  {
   "cell_type": "markdown",
   "id": "e73c8ce0",
   "metadata": {},
   "source": [
    "checkpoint: manual check to see what is missing versus what is in my dataset"
   ]
  },
  {
   "cell_type": "code",
   "execution_count": 372,
   "id": "684da53d",
   "metadata": {},
   "outputs": [
    {
     "name": "stdout",
     "output_type": "stream",
     "text": [
      "NOT consumerBrandName:%27Wegmans%27 AND NOT consumerBrandName:%27Pepperidge Farm%27 AND NOT consumerBrandName:%27Goldfish%27\n",
      "Unbranded nbHits = 1571\n"
     ]
    }
   ],
   "source": [
    "A = fetch_unbranded('5108174', 1, hits=1000, pageNum=0)\n",
    "print(\"Unbranded nbHits =\", A[\"nbHits\"])\n"
   ]
  },
  {
   "cell_type": "code",
   "execution_count": null,
   "id": "1a7c1295",
   "metadata": {},
   "outputs": [
    {
     "name": "stdout",
     "output_type": "stream",
     "text": [
      "NOT consumerBrandName:'Wegmans' AND NOT consumerBrandName:'Snyder's of Hanover'\n"
     ]
    },
    {
     "ename": "HTTPError",
     "evalue": "400 Client Error: Bad Request for url: https://qgppr19v8v-dsn.algolia.net/1/indexes/*/queries",
     "output_type": "error",
     "traceback": [
      "\u001b[1;31m---------------------------------------------------------------------------\u001b[0m",
      "\u001b[1;31mHTTPError\u001b[0m                                 Traceback (most recent call last)",
      "Cell \u001b[1;32mIn[350], line 1\u001b[0m\n\u001b[1;32m----> 1\u001b[0m B \u001b[38;5;241m=\u001b[39m fetch_unbranded(\u001b[38;5;124m'\u001b[39m\u001b[38;5;124m5108174\u001b[39m\u001b[38;5;124m'\u001b[39m, \u001b[38;5;241m156\u001b[39m, hits\u001b[38;5;241m=\u001b[39m\u001b[38;5;241m1000\u001b[39m, pageNum\u001b[38;5;241m=\u001b[39m\u001b[38;5;241m0\u001b[39m)\n\u001b[0;32m      2\u001b[0m \u001b[38;5;28mprint\u001b[39m(\u001b[38;5;124m\"\u001b[39m\u001b[38;5;124mUnbranded nbHits =\u001b[39m\u001b[38;5;124m\"\u001b[39m, B[\u001b[38;5;124m\"\u001b[39m\u001b[38;5;124mnbHits\u001b[39m\u001b[38;5;124m\"\u001b[39m])\n",
      "Cell \u001b[1;32mIn[349], line 24\u001b[0m, in \u001b[0;36mfetch_unbranded\u001b[1;34m(subId, storeId, **opts)\u001b[0m\n\u001b[0;32m     15\u001b[0m params \u001b[38;5;241m=\u001b[39m (\n\u001b[0;32m     16\u001b[0m     \u001b[38;5;124m\"\u001b[39m\u001b[38;5;124mquery=&\u001b[39m\u001b[38;5;124m\"\u001b[39m\n\u001b[0;32m     17\u001b[0m     \u001b[38;5;124mf\u001b[39m\u001b[38;5;124m\"\u001b[39m\u001b[38;5;124mpage=\u001b[39m\u001b[38;5;132;01m{\u001b[39;00mopts\u001b[38;5;241m.\u001b[39mget(\u001b[38;5;124m'\u001b[39m\u001b[38;5;124mpageNum\u001b[39m\u001b[38;5;124m'\u001b[39m,\u001b[38;5;241m0\u001b[39m)\u001b[38;5;132;01m}\u001b[39;00m\u001b[38;5;124m&\u001b[39m\u001b[38;5;124m\"\u001b[39m\n\u001b[1;32m   (...)\u001b[0m\n\u001b[0;32m     21\u001b[0m     \u001b[38;5;124mf\u001b[39m\u001b[38;5;124m\"\u001b[39m\u001b[38;5;132;01m{\u001b[39;00mnegative_filter\u001b[38;5;132;01m}\u001b[39;00m\u001b[38;5;124m\"\u001b[39m\n\u001b[0;32m     22\u001b[0m )\n\u001b[0;32m     23\u001b[0m payload \u001b[38;5;241m=\u001b[39m {\u001b[38;5;124m\"\u001b[39m\u001b[38;5;124mrequests\u001b[39m\u001b[38;5;124m\"\u001b[39m:[{\u001b[38;5;124m\"\u001b[39m\u001b[38;5;124mindexName\u001b[39m\u001b[38;5;124m\"\u001b[39m:\u001b[38;5;124m\"\u001b[39m\u001b[38;5;124mproducts\u001b[39m\u001b[38;5;124m\"\u001b[39m,\u001b[38;5;124m\"\u001b[39m\u001b[38;5;124mparams\u001b[39m\u001b[38;5;124m\"\u001b[39m:params}]}\n\u001b[1;32m---> 24\u001b[0m r \u001b[38;5;241m=\u001b[39m session\u001b[38;5;241m.\u001b[39mpost(URL, json\u001b[38;5;241m=\u001b[39mpayload); r\u001b[38;5;241m.\u001b[39mraise_for_status()\n\u001b[0;32m     25\u001b[0m \u001b[38;5;28;01mreturn\u001b[39;00m r\u001b[38;5;241m.\u001b[39mjson()[\u001b[38;5;124m\"\u001b[39m\u001b[38;5;124mresults\u001b[39m\u001b[38;5;124m\"\u001b[39m][\u001b[38;5;241m0\u001b[39m]\n",
      "File \u001b[1;32mc:\\Users\\erics\\anaconda3\\Lib\\site-packages\\requests\\models.py:1024\u001b[0m, in \u001b[0;36mResponse.raise_for_status\u001b[1;34m(self)\u001b[0m\n\u001b[0;32m   1019\u001b[0m     http_error_msg \u001b[38;5;241m=\u001b[39m (\n\u001b[0;32m   1020\u001b[0m         \u001b[38;5;124mf\u001b[39m\u001b[38;5;124m\"\u001b[39m\u001b[38;5;132;01m{\u001b[39;00m\u001b[38;5;28mself\u001b[39m\u001b[38;5;241m.\u001b[39mstatus_code\u001b[38;5;132;01m}\u001b[39;00m\u001b[38;5;124m Server Error: \u001b[39m\u001b[38;5;132;01m{\u001b[39;00mreason\u001b[38;5;132;01m}\u001b[39;00m\u001b[38;5;124m for url: \u001b[39m\u001b[38;5;132;01m{\u001b[39;00m\u001b[38;5;28mself\u001b[39m\u001b[38;5;241m.\u001b[39murl\u001b[38;5;132;01m}\u001b[39;00m\u001b[38;5;124m\"\u001b[39m\n\u001b[0;32m   1021\u001b[0m     )\n\u001b[0;32m   1023\u001b[0m \u001b[38;5;28;01mif\u001b[39;00m http_error_msg:\n\u001b[1;32m-> 1024\u001b[0m     \u001b[38;5;28;01mraise\u001b[39;00m HTTPError(http_error_msg, response\u001b[38;5;241m=\u001b[39m\u001b[38;5;28mself\u001b[39m)\n",
      "\u001b[1;31mHTTPError\u001b[0m: 400 Client Error: Bad Request for url: https://qgppr19v8v-dsn.algolia.net/1/indexes/*/queries"
     ]
    }
   ],
   "source": [
    "B = fetch_unbranded('5108174', 156, hits=1000, pageNum=0)\n",
    "print(\"Unbranded nbHits =\", B[\"nbHits\"])"
   ]
  },
  {
   "cell_type": "code",
   "execution_count": 44,
   "id": "1e93d0f9",
   "metadata": {},
   "outputs": [],
   "source": [
    "STORE_ID = 156\n",
    "session = constructSession()\n",
    "allCategories = getCategories(STORE_ID)"
   ]
  },
  {
   "cell_type": "markdown",
   "id": "8e36c46b",
   "metadata": {},
   "source": [
    "Step 5: main function"
   ]
  },
  {
   "cell_type": "code",
   "execution_count": 45,
   "id": "e0e03abb",
   "metadata": {},
   "outputs": [],
   "source": [
    "fieldnames = [\n",
    "    \"productName\",\n",
    "    \"upc\",\n",
    "    \"lastUpdated\",\n",
    "    \"productKeywords\",\n",
    "    \"isAvailable\",\n",
    "    \"consumerBrandName\",\n",
    "    \"popularTags\",\n",
    "    \"filterTags\",\n",
    "    \"webProductDescription\",\n",
    "    \"price_inStore_unitPrice\",\n",
    "    \"price_inStore_amount\",\n",
    "    \"skuId\",\n",
    "    \"taxCode\",\n",
    "    \"packSize\",\n",
    "    \"productId\",\n",
    "    \"productDescription\"\n",
    "]\n",
    "\n"
   ]
  },
  {
   "cell_type": "code",
   "execution_count": 330,
   "id": "8003e3a9",
   "metadata": {},
   "outputs": [],
   "source": [
    "STORE_ID = 156\n",
    "session = constructSession()\n",
    "allCategories = getCategories(STORE_ID)\n"
   ]
  },
  {
   "cell_type": "code",
   "execution_count": 331,
   "id": "582f923f",
   "metadata": {},
   "outputs": [],
   "source": [
    "numProds = 0\n",
    "with open(f\"wegmans_store_{STORE_ID}_{int(time.time())}.csv\", \"w\", newline=\"\", encoding=\"utf-8\") as f:\n",
    "    writer = csv.DictWriter(f, fieldnames = fieldnames, lineterminator=\"\\n\")\n",
    "    writer.writeheader()\n",
    "\n",
    "    for subcategory in allCategories:\n",
    "        subData = getSubCategoryDataBlobs(subcategory, STORE_ID, session = session)\n",
    "        for product in subData:\n",
    "            numProds += 1\n",
    "            row = {}\n",
    "            for attr in fieldnames:\n",
    "                if attr.startswith(\"price_inStore_\"):\n",
    "                    subkey = attr.split(\"_\")[-1]  \n",
    "                    row[attr] = product.get(\"price_inStore\", {}).get(subkey, \"\")\n",
    "                else:\n",
    "                    row[attr] = product.get(attr, \"\")\n",
    "            writer.writerow(row)\n",
    "        time.sleep(0.2)"
   ]
  },
  {
   "cell_type": "code",
   "execution_count": null,
   "id": "668b2369",
   "metadata": {},
   "outputs": [],
   "source": [
    "getSubCategoryData()"
   ]
  },
  {
   "cell_type": "code",
   "execution_count": 48,
   "id": "5313c621",
   "metadata": {},
   "outputs": [
    {
     "name": "stdout",
     "output_type": "stream",
     "text": [
      "14799\n"
     ]
    }
   ],
   "source": [
    "print(numProds)"
   ]
  },
  {
   "cell_type": "code",
   "execution_count": 160,
   "id": "f6340372",
   "metadata": {},
   "outputs": [],
   "source": [
    "import pandas as pd"
   ]
  },
  {
   "cell_type": "code",
   "execution_count": 332,
   "id": "bbc060e2",
   "metadata": {},
   "outputs": [],
   "source": [
    "df = pd.read_csv('wegmans_store_156_1752988156.csv')"
   ]
  },
  {
   "cell_type": "code",
   "execution_count": 333,
   "id": "c81f3565",
   "metadata": {},
   "outputs": [
    {
     "data": {
      "text/plain": [
       "(14798, 16)"
      ]
     },
     "execution_count": 333,
     "metadata": {},
     "output_type": "execute_result"
    }
   ],
   "source": [
    "df.shape"
   ]
  },
  {
   "cell_type": "code",
   "execution_count": 252,
   "id": "6e7943b3",
   "metadata": {},
   "outputs": [],
   "source": [
    "verify = set(df['productId'])"
   ]
  },
  {
   "cell_type": "code",
   "execution_count": 253,
   "id": "d74524e3",
   "metadata": {},
   "outputs": [
    {
     "data": {
      "text/plain": [
       "'543949'"
      ]
     },
     "execution_count": 253,
     "metadata": {},
     "output_type": "execute_result"
    }
   ],
   "source": [
    "A['hits'][0]['productId']"
   ]
  },
  {
   "cell_type": "code",
   "execution_count": 254,
   "id": "295ab176",
   "metadata": {},
   "outputs": [
    {
     "name": "stdout",
     "output_type": "stream",
     "text": [
      "{'loyaltyInstoreDiscount': [], 'categories': {'lvl0': 'Grocery', 'lvl1': 'Grocery > Chips & Snack Foods', 'lvl2': 'Grocery > Chips & Snack Foods > Chips'}, 'loyaltyDeliveryDiscount': [], 'maxQuantity': 99, 'taxCode': '0568-000', 'productDescription': 'Lays Salt & Vinegar Potato Chips Party Size 12.5 OZ', 'hasOffers': True, 'requiredMinimumAgeToBuy': 0, 'lastUpdated': '2025-07-16T09:09:03+00:00', 'images': ['https://images.wegmans.com/is/image/wegmanscsprod/804790_PrimaryImage?eTag=1746539151180'], 'webProductDescription': 'Potato Chips, Salt & Vinegar', 'productID': '804790', 'planogram': {'aisle': '05A', 'shelf': '1', 'aisleSide': 'L', 'section': '2'}, 'fulfilmentType': ['instore', 'pickup', 'delivery'], 'bottleDeposit': 0, 'discountType': '', 'isSoldAtStore': True, 'filterTags': ['Family Pack'], 'upc': ['00028400310581'], 'slug': '804790-Potato-Chips-Salt-Vinegar', 'categoryPageId': ['Grocery', 'Grocery > Chips & Snack Foods', 'Grocery > Chips & Snack Foods > Chips'], 'isAlcoholItem': False, 'price_inStoreLoyalty': {}, 'reviewCount': 0, 'keywords': ['salt & vinegar potato chips', 'chips'], 'productName': 'Potato Chips, Salt & Vinegar', 'excludeFromWeb': False, 'price_inStore': {'unitPrice': '$0.44/ounce', 'amount': 5.49, 'channelKey': '156-Instore'}, 'categoryNodes': {'lvl0': 'Grocery', 'lvl1': 'Chips & Snack Foods', 'lvl2': 'Chips'}, 'category': [{'name': 'Chips', 'key': '2957477', 'seo': 'Chips-2957477'}, {'name': 'Chips & Snack Foods', 'key': '5108174', 'seo': 'Chips-Snack-Foods-5108174'}, {'name': 'Grocery', 'key': '2957334', 'seo': 'Grocery-2957334'}], 'packSize': '12.5 ounce', 'nutrition': {'serving': {'servingSize': '28', 'servingsPerContainer': '13'}, 'nutritions': [{'general': [{'name': 'Calories', 'quantity': 150, 'percentOfDaily': 0}, {'name': 'Total Fat', 'quantity': 10, 'unitOfMeasure': 'g', 'percentOfDaily': 12}, {'name': 'Saturated Fat', 'quantity': 1.5, 'unitOfMeasure': 'g', 'percentOfDaily': 7}, {'name': 'Trans Fat', 'quantity': 0, 'unitOfMeasure': 'g', 'percentOfDaily': 0}, {'name': 'Cholesterol', 'quantity': 0, 'unitOfMeasure': 'mg', 'percentOfDaily': 0}, {'name': 'Sodium', 'quantity': 220, 'unitOfMeasure': 'mg', 'percentOfDaily': 10}, {'name': 'Total Carbohydrate', 'quantity': 15, 'unitOfMeasure': 'g', 'percentOfDaily': 6}, {'name': 'Dietary Fiber', 'quantity': 1, 'unitOfMeasure': 'g', 'percentOfDaily': 5}, {'name': 'Total Sugars', 'quantity': 1, 'unitOfMeasure': 'g', 'percentOfDaily': 0}, {'name': 'Includes Added Sugars', 'quantity': 0, 'unitOfMeasure': 'g', 'percentOfDaily': 0}, {'name': 'Protein', 'quantity': 2, 'unitOfMeasure': 'g', 'percentOfDaily': 0}], 'vitamins': [{'name': 'Vitamin D', 'quantity': 0, 'unitOfMeasure': 'mcg', 'percentOfDaily': 0}, {'name': 'Calcium', 'quantity': 10, 'unitOfMeasure': 'mg', 'percentOfDaily': 0}, {'name': 'Iron', 'quantity': 0.5, 'unitOfMeasure': 'mg', 'percentOfDaily': 2}, {'name': 'Potassium', 'quantity': 330, 'unitOfMeasure': 'mg', 'percentOfDaily': 6}]}]}, 'skuId': '804790', 'isSoldByWeight': False, 'averageStarRating': 0, 'restrictedOTC': False, 'productId': '804790', 'isLoyalty': False, 'storeNumber': '156', 'isNewItem': False, 'popularTags': ['Family Pack'], 'digitalCouponsOfferIds': ['5567987', '7141877'], 'isIWSProduct': False, 'ebtEligible': True, 'onlineApproxUnitWeight': 0, 'ingredients': 'Potatoes, Vegetable Oil (Sunflower, Corn and/or Canola Oil), Salt & Vinegar Seasoning (Maltodextrin [Made From Corn], Natural Flavors, Salt, Malic Acid, and Vinegar)', 'onlineSellByUnit': 'ea', 'isAvailable': True, 'price_delivery': {'unitPrice': '$0.51/ounce', 'amount': 6.39, 'channelKey': '156-Delivery'}, 'price_deliveryLoyalty': {}, 'categoryFacets': {'type': ['Potato'], 'flavor': ['Salt & Vinegar']}, 'productKeywords': ['salt & vinegar potato chips', 'chips'], '_highlightResult': {'productName': {'value': 'Potato Chips, Salt & Vinegar', 'matchLevel': 'none', 'matchedWords': []}}, 'wellnessKeys': [], 'objectID': '156-804790'}\n"
     ]
    }
   ],
   "source": [
    "for prod in A['hits']:\n",
    "    if int(prod['productId']) not in verify:\n",
    "        print(prod)\n",
    "        culp = prod\n",
    "\n",
    "for prod in B['hits']:\n",
    "    if int(prod['productId']) not in verify:\n",
    "        print(prod)\n",
    "        culp = prod\n",
    "    else:\n",
    "        ex = prod"
   ]
  },
  {
   "cell_type": "code",
   "execution_count": 258,
   "id": "ef14f3ec",
   "metadata": {},
   "outputs": [
    {
     "data": {
      "text/plain": [
       "{'loyaltyInstoreDiscount': [],\n",
       " 'categories': {'lvl0': 'Grocery',\n",
       "  'lvl1': 'Grocery > Chips & Snack Foods',\n",
       "  'lvl2': 'Grocery > Chips & Snack Foods > Chips'},\n",
       " 'loyaltyDeliveryDiscount': [],\n",
       " 'maxQuantity': 99,\n",
       " 'taxCode': '0568-000',\n",
       " 'productDescription': 'Lays Salt & Vinegar Potato Chips Party Size 12.5 OZ',\n",
       " 'hasOffers': True,\n",
       " 'requiredMinimumAgeToBuy': 0,\n",
       " 'lastUpdated': '2025-07-16T09:09:03+00:00',\n",
       " 'images': ['https://images.wegmans.com/is/image/wegmanscsprod/804790_PrimaryImage?eTag=1746539151180'],\n",
       " 'webProductDescription': 'Potato Chips, Salt & Vinegar',\n",
       " 'productID': '804790',\n",
       " 'planogram': {'aisle': '05A', 'shelf': '1', 'aisleSide': 'L', 'section': '2'},\n",
       " 'fulfilmentType': ['instore', 'pickup', 'delivery'],\n",
       " 'bottleDeposit': 0,\n",
       " 'discountType': '',\n",
       " 'isSoldAtStore': True,\n",
       " 'filterTags': ['Family Pack'],\n",
       " 'upc': ['00028400310581'],\n",
       " 'slug': '804790-Potato-Chips-Salt-Vinegar',\n",
       " 'categoryPageId': ['Grocery',\n",
       "  'Grocery > Chips & Snack Foods',\n",
       "  'Grocery > Chips & Snack Foods > Chips'],\n",
       " 'isAlcoholItem': False,\n",
       " 'price_inStoreLoyalty': {},\n",
       " 'reviewCount': 0,\n",
       " 'keywords': ['salt & vinegar potato chips', 'chips'],\n",
       " 'productName': 'Potato Chips, Salt & Vinegar',\n",
       " 'excludeFromWeb': False,\n",
       " 'price_inStore': {'unitPrice': '$0.44/ounce',\n",
       "  'amount': 5.49,\n",
       "  'channelKey': '156-Instore'},\n",
       " 'categoryNodes': {'lvl0': 'Grocery',\n",
       "  'lvl1': 'Chips & Snack Foods',\n",
       "  'lvl2': 'Chips'},\n",
       " 'category': [{'name': 'Chips', 'key': '2957477', 'seo': 'Chips-2957477'},\n",
       "  {'name': 'Chips & Snack Foods',\n",
       "   'key': '5108174',\n",
       "   'seo': 'Chips-Snack-Foods-5108174'},\n",
       "  {'name': 'Grocery', 'key': '2957334', 'seo': 'Grocery-2957334'}],\n",
       " 'packSize': '12.5 ounce',\n",
       " 'nutrition': {'serving': {'servingSize': '28', 'servingsPerContainer': '13'},\n",
       "  'nutritions': [{'general': [{'name': 'Calories',\n",
       "      'quantity': 150,\n",
       "      'percentOfDaily': 0},\n",
       "     {'name': 'Total Fat',\n",
       "      'quantity': 10,\n",
       "      'unitOfMeasure': 'g',\n",
       "      'percentOfDaily': 12},\n",
       "     {'name': 'Saturated Fat',\n",
       "      'quantity': 1.5,\n",
       "      'unitOfMeasure': 'g',\n",
       "      'percentOfDaily': 7},\n",
       "     {'name': 'Trans Fat',\n",
       "      'quantity': 0,\n",
       "      'unitOfMeasure': 'g',\n",
       "      'percentOfDaily': 0},\n",
       "     {'name': 'Cholesterol',\n",
       "      'quantity': 0,\n",
       "      'unitOfMeasure': 'mg',\n",
       "      'percentOfDaily': 0},\n",
       "     {'name': 'Sodium',\n",
       "      'quantity': 220,\n",
       "      'unitOfMeasure': 'mg',\n",
       "      'percentOfDaily': 10},\n",
       "     {'name': 'Total Carbohydrate',\n",
       "      'quantity': 15,\n",
       "      'unitOfMeasure': 'g',\n",
       "      'percentOfDaily': 6},\n",
       "     {'name': 'Dietary Fiber',\n",
       "      'quantity': 1,\n",
       "      'unitOfMeasure': 'g',\n",
       "      'percentOfDaily': 5},\n",
       "     {'name': 'Total Sugars',\n",
       "      'quantity': 1,\n",
       "      'unitOfMeasure': 'g',\n",
       "      'percentOfDaily': 0},\n",
       "     {'name': 'Includes Added Sugars',\n",
       "      'quantity': 0,\n",
       "      'unitOfMeasure': 'g',\n",
       "      'percentOfDaily': 0},\n",
       "     {'name': 'Protein',\n",
       "      'quantity': 2,\n",
       "      'unitOfMeasure': 'g',\n",
       "      'percentOfDaily': 0}],\n",
       "    'vitamins': [{'name': 'Vitamin D',\n",
       "      'quantity': 0,\n",
       "      'unitOfMeasure': 'mcg',\n",
       "      'percentOfDaily': 0},\n",
       "     {'name': 'Calcium',\n",
       "      'quantity': 10,\n",
       "      'unitOfMeasure': 'mg',\n",
       "      'percentOfDaily': 0},\n",
       "     {'name': 'Iron',\n",
       "      'quantity': 0.5,\n",
       "      'unitOfMeasure': 'mg',\n",
       "      'percentOfDaily': 2},\n",
       "     {'name': 'Potassium',\n",
       "      'quantity': 330,\n",
       "      'unitOfMeasure': 'mg',\n",
       "      'percentOfDaily': 6}]}]},\n",
       " 'skuId': '804790',\n",
       " 'isSoldByWeight': False,\n",
       " 'averageStarRating': 0,\n",
       " 'restrictedOTC': False,\n",
       " 'productId': '804790',\n",
       " 'isLoyalty': False,\n",
       " 'storeNumber': '156',\n",
       " 'isNewItem': False,\n",
       " 'popularTags': ['Family Pack'],\n",
       " 'digitalCouponsOfferIds': ['5567987', '7141877'],\n",
       " 'isIWSProduct': False,\n",
       " 'ebtEligible': True,\n",
       " 'onlineApproxUnitWeight': 0,\n",
       " 'ingredients': 'Potatoes, Vegetable Oil (Sunflower, Corn and/or Canola Oil), Salt & Vinegar Seasoning (Maltodextrin [Made From Corn], Natural Flavors, Salt, Malic Acid, and Vinegar)',\n",
       " 'onlineSellByUnit': 'ea',\n",
       " 'isAvailable': True,\n",
       " 'price_delivery': {'unitPrice': '$0.51/ounce',\n",
       "  'amount': 6.39,\n",
       "  'channelKey': '156-Delivery'},\n",
       " 'price_deliveryLoyalty': {},\n",
       " 'categoryFacets': {'type': ['Potato'], 'flavor': ['Salt & Vinegar']},\n",
       " 'productKeywords': ['salt & vinegar potato chips', 'chips'],\n",
       " '_highlightResult': {'productName': {'value': 'Potato Chips, Salt & Vinegar',\n",
       "   'matchLevel': 'none',\n",
       "   'matchedWords': []}},\n",
       " 'wellnessKeys': [],\n",
       " 'objectID': '156-804790'}"
      ]
     },
     "execution_count": 258,
     "metadata": {},
     "output_type": "execute_result"
    }
   ],
   "source": [
    "culp"
   ]
  },
  {
   "cell_type": "code",
   "execution_count": 257,
   "id": "20c3b154",
   "metadata": {},
   "outputs": [
    {
     "ename": "KeyError",
     "evalue": "'consumerBrandName'",
     "output_type": "error",
     "traceback": [
      "\u001b[1;31m---------------------------------------------------------------------------\u001b[0m",
      "\u001b[1;31mKeyError\u001b[0m                                  Traceback (most recent call last)",
      "Cell \u001b[1;32mIn[257], line 1\u001b[0m\n\u001b[1;32m----> 1\u001b[0m culp[\u001b[38;5;124m'\u001b[39m\u001b[38;5;124mconsumerBrandName\u001b[39m\u001b[38;5;124m'\u001b[39m]\n",
      "\u001b[1;31mKeyError\u001b[0m: 'consumerBrandName'"
     ]
    }
   ],
   "source": [
    "culp['consumerBrandName']"
   ]
  },
  {
   "cell_type": "code",
   "execution_count": 204,
   "id": "8167825e",
   "metadata": {},
   "outputs": [
    {
     "data": {
      "text/plain": [
       "32"
      ]
     },
     "execution_count": 204,
     "metadata": {},
     "output_type": "execute_result"
    }
   ],
   "source": [
    "len(A) + len(B)"
   ]
  },
  {
   "cell_type": "code",
   "execution_count": 205,
   "id": "4a6f65d1",
   "metadata": {},
   "outputs": [
    {
     "data": {
      "text/plain": [
       "{'productName': 'Seltzer Water, Blackberry',\n",
       " 'slug': '841182-Seltzer-Water-Blackberry',\n",
       " 'bottleDeposit': 0.05,\n",
       " 'requiredMinimumAgeToBuy': 0,\n",
       " 'productDescription': \"Hal's New York Blackberry Sparkling Water - Single 20 FO\",\n",
       " 'excludeFromWeb': False,\n",
       " 'loyaltyDeliveryDiscount': [],\n",
       " 'maxQuantity': 99,\n",
       " 'categoryNodes': {'lvl0': 'Grocery',\n",
       "  'lvl1': 'Beverages',\n",
       "  'lvl2': 'Sparkling & Seltzer Water'},\n",
       " 'lastUpdated': '2025-07-14T23:33:01+00:00',\n",
       " 'category': [{'name': 'Sparkling & Seltzer Water',\n",
       "   'key': '5681772',\n",
       "   'seo': 'Sparkling-Seltzer-Water-5681772'},\n",
       "  {'name': 'Beverages', 'key': '2957337', 'seo': 'Beverages-2957337'},\n",
       "  {'name': 'Grocery', 'key': '2957334', 'seo': 'Grocery-2957334'}],\n",
       " 'isSoldByWeight': False,\n",
       " 'averageStarRating': 0,\n",
       " 'isNewItem': False,\n",
       " 'isAvailable': True,\n",
       " 'onlineApproxUnitWeight': 0,\n",
       " 'upc': ['00855036005266', '10855036005263'],\n",
       " 'popularTags': [],\n",
       " 'productKeywords': ['blackberry sparkling water', 'water'],\n",
       " 'productID': '841182',\n",
       " 'price_deliveryLoyalty': {},\n",
       " 'loyaltyInstoreDiscount': [],\n",
       " 'reviewCount': 0,\n",
       " '_highlightResult': {'productName': {'value': 'Seltzer Water, Blackberry',\n",
       "   'matchLevel': 'none',\n",
       "   'matchedWords': []}},\n",
       " 'categories': {'lvl0': 'Grocery',\n",
       "  'lvl1': 'Grocery > Beverages',\n",
       "  'lvl2': 'Grocery > Beverages > Sparkling & Seltzer Water'},\n",
       " 'price_delivery': {'unitPrice': '$0.17/fl. oz.',\n",
       "  'amount': 3.49,\n",
       "  'channelKey': '156-Delivery'},\n",
       " 'packSize': '20 fl. oz.',\n",
       " 'productId': '841182',\n",
       " 'categoryFacets': {},\n",
       " 'keywords': ['blackberry sparkling water', 'water'],\n",
       " 'onlineSellByUnit': 'ea',\n",
       " 'isLoyalty': False,\n",
       " 'isSoldAtStore': True,\n",
       " 'price_inStore': {'unitPrice': '$0.15/fl. oz.',\n",
       "  'amount': 2.99,\n",
       "  'channelKey': '156-Instore'},\n",
       " 'wellnessKeys': [],\n",
       " 'images': [],\n",
       " 'webProductDescription': 'Seltzer Water, Blackberry',\n",
       " 'categoryPageId': ['Grocery',\n",
       "  'Grocery > Beverages',\n",
       "  'Grocery > Beverages > Sparkling & Seltzer Water'],\n",
       " 'planogram': {'aisle': 'Front End Register Area'},\n",
       " 'restrictedOTC': False,\n",
       " 'isIWSProduct': False,\n",
       " 'objectID': '156-841182',\n",
       " 'filterTags': [],\n",
       " 'discountType': '',\n",
       " 'isAlcoholItem': False,\n",
       " 'fulfilmentType': ['instore', 'pickup', 'delivery'],\n",
       " 'digitalCouponsOfferIds': ['5567987'],\n",
       " 'skuId': '841182',\n",
       " 'storeNumber': '156',\n",
       " 'price_inStoreLoyalty': {},\n",
       " 'taxCode': '0525-000',\n",
       " 'ebtEligible': True,\n",
       " 'hasOffers': True}"
      ]
     },
     "execution_count": 205,
     "metadata": {},
     "output_type": "execute_result"
    }
   ],
   "source": [
    "culp"
   ]
  },
  {
   "cell_type": "code",
   "execution_count": 193,
   "id": "751dde88",
   "metadata": {},
   "outputs": [
    {
     "name": "stdout",
     "output_type": "stream",
     "text": [
      "The queried store is Astor Place.\n"
     ]
    },
    {
     "data": {
      "text/plain": [
       "True"
      ]
     },
     "execution_count": 193,
     "metadata": {},
     "output_type": "execute_result"
    }
   ],
   "source": [
    "verifyStore(156)"
   ]
  },
  {
   "cell_type": "code",
   "execution_count": 188,
   "id": "5802a5b4",
   "metadata": {},
   "outputs": [
    {
     "data": {
      "text/plain": [
       "dict_keys(['isIWSProduct', 'categoryFacets', 'productKeywords', 'consumerBrandName', 'popularTags', 'price_deliveryLoyalty', 'nutrition', 'keywords', 'isNewItem', 'wellnessKeys', 'webProductDescription', 'storeNumber', 'loyaltyInstoreDiscount', 'skuId', 'images', '_highlightResult', 'productName', 'productDescription', 'onlineSellByUnit', 'averageStarRating', 'reviewCount', 'onlineApproxUnitWeight', 'upc', 'packSize', 'categories', 'isSoldByWeight', 'isLoyalty', 'bottleDeposit', 'fulfilmentType', 'taxCode', 'ingredients', 'restrictedOTC', 'categoryNodes', 'category', 'hasOffers', 'price_inStoreLoyalty', 'price_delivery', 'digitalCouponsOfferIds', 'requiredMinimumAgeToBuy', 'lastUpdated', 'productId', 'discountType', 'categoryPageId', 'planogram', 'isAlcoholItem', 'productID', 'price_inStore', 'filterTags', 'objectID', 'excludeFromWeb', 'consumerSubBrandName', 'slug', 'ebtEligible', 'isSoldAtStore', 'isAvailable', 'loyaltyDeliveryDiscount', 'maxQuantity'])"
      ]
     },
     "execution_count": 188,
     "metadata": {},
     "output_type": "execute_result"
    }
   ],
   "source": [
    "prod.keys()"
   ]
  },
  {
   "cell_type": "code",
   "execution_count": 17,
   "id": "e9d25db7",
   "metadata": {},
   "outputs": [
    {
     "data": {
      "text/plain": [
       "14799.0"
      ]
     },
     "execution_count": 17,
     "metadata": {},
     "output_type": "execute_result"
    }
   ],
   "source": [
    "numProds/2"
   ]
  },
  {
   "cell_type": "markdown",
   "id": "b9b80114",
   "metadata": {},
   "source": [
    "#### Step 6: safety checks"
   ]
  },
  {
   "cell_type": "code",
   "execution_count": 69,
   "id": "9b7a010a",
   "metadata": {},
   "outputs": [],
   "source": [
    "def getNumData(storeId : int, hits = 1000, pageNum = 0, brandName = None, session = None):\n",
    "    \"\"\"\n",
    "    Given a store id and a subcategory id, get the data in the form of a dictionary.\n",
    "\n",
    "    \"\"\"\n",
    "    \n",
    "    if session == None:\n",
    "        session = constructSession()\n",
    "\n",
    "    APP_ID = \"QGPPR19V8V\"\n",
    "    URL = f\"https://{APP_ID}-dsn.algolia.net/1/indexes/*/queries\"\n",
    "\n",
    "    params = (\n",
    "        \"query=&\"\n",
    "        f\"page={pageNum}&\" # hitsPerPage should cover everything if the subcategories are the ones being explored\n",
    "        f\"hitsPerPage={hits}&\"\n",
    "        f\"filters=storeNumber:{storeId} AND \"\n",
    "        \"excludeFromWeb:false AND isSoldAtStore:true AND fulfilmentType:instore\"\n",
    "    )\n",
    "\n",
    "    if brandName:\n",
    "        payload = {\n",
    "            \"requests\": [\n",
    "                {\n",
    "                    \"indexName\": \"products\",\n",
    "                    \"params\": params,\n",
    "                    \"facetFilters\": [[f\"consumerBrandName:{brandName}\"]]\n",
    "                }\n",
    "            ]\n",
    "        }      \n",
    "    else:\n",
    "        payload = {\n",
    "            \"requests\": [\n",
    "                {\n",
    "                    \"indexName\": \"products\",\n",
    "                    \"params\": params\n",
    "                }\n",
    "            ]\n",
    "        }\n",
    "\n",
    "\n",
    "    resp = session.post(URL, json=payload)\n",
    "    resp.raise_for_status()\n",
    "    res = resp.json()[\"results\"][0]\n",
    "\n",
    "    return res\n"
   ]
  },
  {
   "cell_type": "code",
   "execution_count": 335,
   "id": "5538a5bb",
   "metadata": {},
   "outputs": [
    {
     "data": {
      "text/plain": [
       "46806"
      ]
     },
     "execution_count": 335,
     "metadata": {},
     "output_type": "execute_result"
    }
   ],
   "source": [
    "getNumData(1)['nbHits']"
   ]
  },
  {
   "cell_type": "code",
   "execution_count": 338,
   "id": "6175d9ff",
   "metadata": {},
   "outputs": [
    {
     "data": {
      "text/plain": [
       "46806"
      ]
     },
     "execution_count": 338,
     "metadata": {},
     "output_type": "execute_result"
    }
   ],
   "source": [
    "getNumData(1)['nbHits']"
   ]
  },
  {
   "cell_type": "code",
   "execution_count": 70,
   "id": "433a86fa",
   "metadata": {},
   "outputs": [],
   "source": [
    "sanity = getNumData(156)"
   ]
  },
  {
   "cell_type": "code",
   "execution_count": 72,
   "id": "3e1067e9",
   "metadata": {},
   "outputs": [
    {
     "data": {
      "text/plain": [
       "dict_keys(['hits', 'nbHits', 'hitsPerPage', 'index', 'page', 'nbPages', 'processingTimeMS', 'processingTimingsMS', 'exhaustiveNbHits', 'exhaustiveTypo', 'query', 'queryAfterRemoval', 'params', 'renderingContent', 'exhaustive', 'aiReRanking'])"
      ]
     },
     "execution_count": 72,
     "metadata": {},
     "output_type": "execute_result"
    }
   ],
   "source": [
    "sanity.keys()"
   ]
  },
  {
   "cell_type": "code",
   "execution_count": 74,
   "id": "b635a1f6",
   "metadata": {},
   "outputs": [
    {
     "data": {
      "text/plain": [
       "{'nbHits': True, 'typo': True}"
      ]
     },
     "execution_count": 74,
     "metadata": {},
     "output_type": "execute_result"
    }
   ],
   "source": [
    "sanity['exhaustive']"
   ]
  },
  {
   "cell_type": "code",
   "execution_count": 373,
   "id": "35f2f95b",
   "metadata": {},
   "outputs": [],
   "source": [
    "html_ = \"\"\"\n",
    "<ul class=\"list tw:px-1 tw:pl-3 tw:py-4\"><li><label class=\"component--shop-sidebar-filters-checkbox global--form-text\"><input class=\"checkbox\" type=\"checkbox\"><span aria-hidden=\"true\" class=\"checkbox-icon\"><svg class=\"\" data-testid=\"IconCheckboxUnselected\" fill=\"none\" height=\"20\" viewBox=\"0 0 20 20\" width=\"20\" xmlns=\"http://www.w3.org/2000/svg\"><rect fill=\"white\" height=\"19\" rx=\"3.5\" stroke=\"#6F6F6F\" width=\"19\" x=\"0.5\" y=\"0.5\"></rect></svg></span>Wegmans (310)</label></li><li><label class=\"component--shop-sidebar-filters-checkbox global--form-text\"><input class=\"checkbox\" type=\"checkbox\"><span aria-hidden=\"true\" class=\"checkbox-icon\"><svg class=\"\" data-testid=\"IconCheckboxUnselected\" fill=\"none\" height=\"20\" viewBox=\"0 0 20 20\" width=\"20\" xmlns=\"http://www.w3.org/2000/svg\"><rect fill=\"white\" height=\"19\" rx=\"3.5\" stroke=\"#6F6F6F\" width=\"19\" x=\"0.5\" y=\"0.5\"></rect></svg></span>Pepperidge Farm (54)</label></li><li><label class=\"component--shop-sidebar-filters-checkbox global--form-text\"><input class=\"checkbox\" type=\"checkbox\"><span aria-hidden=\"true\" class=\"checkbox-icon\"><svg class=\"\" data-testid=\"IconCheckboxUnselected\" fill=\"none\" height=\"20\" viewBox=\"0 0 20 20\" width=\"20\" xmlns=\"http://www.w3.org/2000/svg\"><rect fill=\"white\" height=\"19\" rx=\"3.5\" stroke=\"#6F6F6F\" width=\"19\" x=\"0.5\" y=\"0.5\"></rect></svg></span>Goldfish (43)</label></li><li><label class=\"component--shop-sidebar-filters-checkbox global--form-text\"><input class=\"checkbox\" type=\"checkbox\"><span aria-hidden=\"true\" class=\"checkbox-icon\"><svg class=\"\" data-testid=\"IconCheckboxUnselected\" fill=\"none\" height=\"20\" viewBox=\"0 0 20 20\" width=\"20\" xmlns=\"http://www.w3.org/2000/svg\"><rect fill=\"white\" height=\"19\" rx=\"3.5\" stroke=\"#6F6F6F\" width=\"19\" x=\"0.5\" y=\"0.5\"></rect></svg></span>Lay's (41)</label></li><li><label class=\"component--shop-sidebar-filters-checkbox global--form-text\"><input class=\"checkbox\" type=\"checkbox\"><span aria-hidden=\"true\" class=\"checkbox-icon\"><svg class=\"\" data-testid=\"IconCheckboxUnselected\" fill=\"none\" height=\"20\" viewBox=\"0 0 20 20\" width=\"20\" xmlns=\"http://www.w3.org/2000/svg\"><rect fill=\"white\" height=\"19\" rx=\"3.5\" stroke=\"#6F6F6F\" width=\"19\" x=\"0.5\" y=\"0.5\"></rect></svg></span>Snyder's of Hanover (41)</label></li><li><label class=\"component--shop-sidebar-filters-checkbox global--form-text\"><input class=\"checkbox\" type=\"checkbox\"><span aria-hidden=\"true\" class=\"checkbox-icon\"><svg class=\"\" data-testid=\"IconCheckboxUnselected\" fill=\"none\" height=\"20\" viewBox=\"0 0 20 20\" width=\"20\" xmlns=\"http://www.w3.org/2000/svg\"><rect fill=\"white\" height=\"19\" rx=\"3.5\" stroke=\"#6F6F6F\" width=\"19\" x=\"0.5\" y=\"0.5\"></rect></svg></span>Oreo (38)</label></li><li><label class=\"component--shop-sidebar-filters-checkbox global--form-text\"><input class=\"checkbox\" type=\"checkbox\"><span aria-hidden=\"true\" class=\"checkbox-icon\"><svg class=\"\" data-testid=\"IconCheckboxUnselected\" fill=\"none\" height=\"20\" viewBox=\"0 0 20 20\" width=\"20\" xmlns=\"http://www.w3.org/2000/svg\"><rect fill=\"white\" height=\"19\" rx=\"3.5\" stroke=\"#6F6F6F\" width=\"19\" x=\"0.5\" y=\"0.5\"></rect></svg></span>Tostitos (34)</label></li><li><label class=\"component--shop-sidebar-filters-checkbox global--form-text\"><input class=\"checkbox\" type=\"checkbox\"><span aria-hidden=\"true\" class=\"checkbox-icon\"><svg class=\"\" data-testid=\"IconCheckboxUnselected\" fill=\"none\" height=\"20\" viewBox=\"0 0 20 20\" width=\"20\" xmlns=\"http://www.w3.org/2000/svg\"><rect fill=\"white\" height=\"19\" rx=\"3.5\" stroke=\"#6F6F6F\" width=\"19\" x=\"0.5\" y=\"0.5\"></rect></svg></span>Utz (34)</label></li><li><label class=\"component--shop-sidebar-filters-checkbox global--form-text\"><input class=\"checkbox\" type=\"checkbox\"><span aria-hidden=\"true\" class=\"checkbox-icon\"><svg class=\"\" data-testid=\"IconCheckboxUnselected\" fill=\"none\" height=\"20\" viewBox=\"0 0 20 20\" width=\"20\" xmlns=\"http://www.w3.org/2000/svg\"><rect fill=\"white\" height=\"19\" rx=\"3.5\" stroke=\"#6F6F6F\" width=\"19\" x=\"0.5\" y=\"0.5\"></rect></svg></span>Ritz (33)</label></li><li><label class=\"component--shop-sidebar-filters-checkbox global--form-text\"><input class=\"checkbox\" type=\"checkbox\"><span aria-hidden=\"true\" class=\"checkbox-icon\"><svg class=\"\" data-testid=\"IconCheckboxUnselected\" fill=\"none\" height=\"20\" viewBox=\"0 0 20 20\" width=\"20\" xmlns=\"http://www.w3.org/2000/svg\"><rect fill=\"white\" height=\"19\" rx=\"3.5\" stroke=\"#6F6F6F\" width=\"19\" x=\"0.5\" y=\"0.5\"></rect></svg></span>Cheez-It (28)</label></li><li><label class=\"component--shop-sidebar-filters-checkbox global--form-text\"><input class=\"checkbox\" type=\"checkbox\"><span aria-hidden=\"true\" class=\"checkbox-icon\"><svg class=\"\" data-testid=\"IconCheckboxUnselected\" fill=\"none\" height=\"20\" viewBox=\"0 0 20 20\" width=\"20\" xmlns=\"http://www.w3.org/2000/svg\"><rect fill=\"white\" height=\"19\" rx=\"3.5\" stroke=\"#6F6F6F\" width=\"19\" x=\"0.5\" y=\"0.5\"></rect></svg></span>Doritos (26)</label></li><li><label class=\"component--shop-sidebar-filters-checkbox global--form-text\"><input class=\"checkbox\" type=\"checkbox\"><span aria-hidden=\"true\" class=\"checkbox-icon\"><svg class=\"\" data-testid=\"IconCheckboxUnselected\" fill=\"none\" height=\"20\" viewBox=\"0 0 20 20\" width=\"20\" xmlns=\"http://www.w3.org/2000/svg\"><rect fill=\"white\" height=\"19\" rx=\"3.5\" stroke=\"#6F6F6F\" width=\"19\" x=\"0.5\" y=\"0.5\"></rect></svg></span>Triscuit (26)</label></li><li><label class=\"component--shop-sidebar-filters-checkbox global--form-text\"><input class=\"checkbox\" type=\"checkbox\"><span aria-hidden=\"true\" class=\"checkbox-icon\"><svg class=\"\" data-testid=\"IconCheckboxUnselected\" fill=\"none\" height=\"20\" viewBox=\"0 0 20 20\" width=\"20\" xmlns=\"http://www.w3.org/2000/svg\"><rect fill=\"white\" height=\"19\" rx=\"3.5\" stroke=\"#6F6F6F\" width=\"19\" x=\"0.5\" y=\"0.5\"></rect></svg></span>Cape Cod (25)</label></li><li><label class=\"component--shop-sidebar-filters-checkbox global--form-text\"><input class=\"checkbox\" type=\"checkbox\"><span aria-hidden=\"true\" class=\"checkbox-icon\"><svg class=\"\" data-testid=\"IconCheckboxUnselected\" fill=\"none\" height=\"20\" viewBox=\"0 0 20 20\" width=\"20\" xmlns=\"http://www.w3.org/2000/svg\"><rect fill=\"white\" height=\"19\" rx=\"3.5\" stroke=\"#6F6F6F\" width=\"19\" x=\"0.5\" y=\"0.5\"></rect></svg></span>Little Debbie (23)</label></li><li><label class=\"component--shop-sidebar-filters-checkbox global--form-text\"><input class=\"checkbox\" type=\"checkbox\"><span aria-hidden=\"true\" class=\"checkbox-icon\"><svg class=\"\" data-testid=\"IconCheckboxUnselected\" fill=\"none\" height=\"20\" viewBox=\"0 0 20 20\" width=\"20\" xmlns=\"http://www.w3.org/2000/svg\"><rect fill=\"white\" height=\"19\" rx=\"3.5\" stroke=\"#6F6F6F\" width=\"19\" x=\"0.5\" y=\"0.5\"></rect></svg></span>Chips Ahoy! (22)</label></li><li><label class=\"component--shop-sidebar-filters-checkbox global--form-text\"><input class=\"checkbox\" type=\"checkbox\"><span aria-hidden=\"true\" class=\"checkbox-icon\"><svg class=\"\" data-testid=\"IconCheckboxUnselected\" fill=\"none\" height=\"20\" viewBox=\"0 0 20 20\" width=\"20\" xmlns=\"http://www.w3.org/2000/svg\"><rect fill=\"white\" height=\"19\" rx=\"3.5\" stroke=\"#6F6F6F\" width=\"19\" x=\"0.5\" y=\"0.5\"></rect></svg></span>Simple Mills (22)</label></li><li><label class=\"component--shop-sidebar-filters-checkbox global--form-text\"><input class=\"checkbox\" type=\"checkbox\"><span aria-hidden=\"true\" class=\"checkbox-icon\"><svg class=\"\" data-testid=\"IconCheckboxUnselected\" fill=\"none\" height=\"20\" viewBox=\"0 0 20 20\" width=\"20\" xmlns=\"http://www.w3.org/2000/svg\"><rect fill=\"white\" height=\"19\" rx=\"3.5\" stroke=\"#6F6F6F\" width=\"19\" x=\"0.5\" y=\"0.5\"></rect></svg></span>Siete (20)</label></li><li><label class=\"component--shop-sidebar-filters-checkbox global--form-text\"><input class=\"checkbox\" type=\"checkbox\"><span aria-hidden=\"true\" class=\"checkbox-icon\"><svg class=\"\" data-testid=\"IconCheckboxUnselected\" fill=\"none\" height=\"20\" viewBox=\"0 0 20 20\" width=\"20\" xmlns=\"http://www.w3.org/2000/svg\"><rect fill=\"white\" height=\"19\" rx=\"3.5\" stroke=\"#6F6F6F\" width=\"19\" x=\"0.5\" y=\"0.5\"></rect></svg></span>Keebler (19)</label></li><li><label class=\"component--shop-sidebar-filters-checkbox global--form-text\"><input class=\"checkbox\" type=\"checkbox\"><span aria-hidden=\"true\" class=\"checkbox-icon\"><svg class=\"\" data-testid=\"IconCheckboxUnselected\" fill=\"none\" height=\"20\" viewBox=\"0 0 20 20\" width=\"20\" xmlns=\"http://www.w3.org/2000/svg\"><rect fill=\"white\" height=\"19\" rx=\"3.5\" stroke=\"#6F6F6F\" width=\"19\" x=\"0.5\" y=\"0.5\"></rect></svg></span>Voortman Bakery (17)</label></li><li><label class=\"component--shop-sidebar-filters-checkbox global--form-text\"><input class=\"checkbox\" type=\"checkbox\"><span aria-hidden=\"true\" class=\"checkbox-icon\"><svg class=\"\" data-testid=\"IconCheckboxUnselected\" fill=\"none\" height=\"20\" viewBox=\"0 0 20 20\" width=\"20\" xmlns=\"http://www.w3.org/2000/svg\"><rect fill=\"white\" height=\"19\" rx=\"3.5\" stroke=\"#6F6F6F\" width=\"19\" x=\"0.5\" y=\"0.5\"></rect></svg></span>Pringles (16)</label></li><li><label class=\"component--shop-sidebar-filters-checkbox global--form-text\"><input class=\"checkbox\" type=\"checkbox\"><span aria-hidden=\"true\" class=\"checkbox-icon\"><svg class=\"\" data-testid=\"IconCheckboxUnselected\" fill=\"none\" height=\"20\" viewBox=\"0 0 20 20\" width=\"20\" xmlns=\"http://www.w3.org/2000/svg\"><rect fill=\"white\" height=\"19\" rx=\"3.5\" stroke=\"#6F6F6F\" width=\"19\" x=\"0.5\" y=\"0.5\"></rect></svg></span>Schar (16)</label></li><li><label class=\"component--shop-sidebar-filters-checkbox global--form-text\"><input class=\"checkbox\" type=\"checkbox\"><span aria-hidden=\"true\" class=\"checkbox-icon\"><svg class=\"\" data-testid=\"IconCheckboxUnselected\" fill=\"none\" height=\"20\" viewBox=\"0 0 20 20\" width=\"20\" xmlns=\"http://www.w3.org/2000/svg\"><rect fill=\"white\" height=\"19\" rx=\"3.5\" stroke=\"#6F6F6F\" width=\"19\" x=\"0.5\" y=\"0.5\"></rect></svg></span>Snack Factory (16)</label></li><li><label class=\"component--shop-sidebar-filters-checkbox global--form-text\"><input class=\"checkbox\" type=\"checkbox\"><span aria-hidden=\"true\" class=\"checkbox-icon\"><svg class=\"\" data-testid=\"IconCheckboxUnselected\" fill=\"none\" height=\"20\" viewBox=\"0 0 20 20\" width=\"20\" xmlns=\"http://www.w3.org/2000/svg\"><rect fill=\"white\" height=\"19\" rx=\"3.5\" stroke=\"#6F6F6F\" width=\"19\" x=\"0.5\" y=\"0.5\"></rect></svg></span>Frito Lay (15)</label></li><li><label class=\"component--shop-sidebar-filters-checkbox global--form-text\"><input class=\"checkbox\" type=\"checkbox\"><span aria-hidden=\"true\" class=\"checkbox-icon\"><svg class=\"\" data-testid=\"IconCheckboxUnselected\" fill=\"none\" height=\"20\" viewBox=\"0 0 20 20\" width=\"20\" xmlns=\"http://www.w3.org/2000/svg\"><rect fill=\"white\" height=\"19\" rx=\"3.5\" stroke=\"#6F6F6F\" width=\"19\" x=\"0.5\" y=\"0.5\"></rect></svg></span>Tate's Bake Shop (15)</label></li><li><label class=\"component--shop-sidebar-filters-checkbox global--form-text\"><input class=\"checkbox\" type=\"checkbox\"><span aria-hidden=\"true\" class=\"checkbox-icon\"><svg class=\"\" data-testid=\"IconCheckboxUnselected\" fill=\"none\" height=\"20\" viewBox=\"0 0 20 20\" width=\"20\" xmlns=\"http://www.w3.org/2000/svg\"><rect fill=\"white\" height=\"19\" rx=\"3.5\" stroke=\"#6F6F6F\" width=\"19\" x=\"0.5\" y=\"0.5\"></rect></svg></span>Annie's (14)</label></li><li><label class=\"component--shop-sidebar-filters-checkbox global--form-text\"><input class=\"checkbox\" type=\"checkbox\"><span aria-hidden=\"true\" class=\"checkbox-icon\"><svg class=\"\" data-testid=\"IconCheckboxUnselected\" fill=\"none\" height=\"20\" viewBox=\"0 0 20 20\" width=\"20\" xmlns=\"http://www.w3.org/2000/svg\"><rect fill=\"white\" height=\"19\" rx=\"3.5\" stroke=\"#6F6F6F\" width=\"19\" x=\"0.5\" y=\"0.5\"></rect></svg></span>Cheetos (14)</label></li><li><label class=\"component--shop-sidebar-filters-checkbox global--form-text\"><input class=\"checkbox\" type=\"checkbox\"><span aria-hidden=\"true\" class=\"checkbox-icon\"><svg class=\"\" data-testid=\"IconCheckboxUnselected\" fill=\"none\" height=\"20\" viewBox=\"0 0 20 20\" width=\"20\" xmlns=\"http://www.w3.org/2000/svg\"><rect fill=\"white\" height=\"19\" rx=\"3.5\" stroke=\"#6F6F6F\" width=\"19\" x=\"0.5\" y=\"0.5\"></rect></svg></span>Hostess (14)</label></li><li><label class=\"component--shop-sidebar-filters-checkbox global--form-text\"><input class=\"checkbox\" type=\"checkbox\"><span aria-hidden=\"true\" class=\"checkbox-icon\"><svg class=\"\" data-testid=\"IconCheckboxUnselected\" fill=\"none\" height=\"20\" viewBox=\"0 0 20 20\" width=\"20\" xmlns=\"http://www.w3.org/2000/svg\"><rect fill=\"white\" height=\"19\" rx=\"3.5\" stroke=\"#6F6F6F\" width=\"19\" x=\"0.5\" y=\"0.5\"></rect></svg></span>Wise (14)</label></li><li><label class=\"component--shop-sidebar-filters-checkbox global--form-text\"><input class=\"checkbox\" type=\"checkbox\"><span aria-hidden=\"true\" class=\"checkbox-icon\"><svg class=\"\" data-testid=\"IconCheckboxUnselected\" fill=\"none\" height=\"20\" viewBox=\"0 0 20 20\" width=\"20\" xmlns=\"http://www.w3.org/2000/svg\"><rect fill=\"white\" height=\"19\" rx=\"3.5\" stroke=\"#6F6F6F\" width=\"19\" x=\"0.5\" y=\"0.5\"></rect></svg></span>belVita (14)</label></li><li><label class=\"component--shop-sidebar-filters-checkbox global--form-text\"><input class=\"checkbox\" type=\"checkbox\"><span aria-hidden=\"true\" class=\"checkbox-icon\"><svg class=\"\" data-testid=\"IconCheckboxUnselected\" fill=\"none\" height=\"20\" viewBox=\"0 0 20 20\" width=\"20\" xmlns=\"http://www.w3.org/2000/svg\"><rect fill=\"white\" height=\"19\" rx=\"3.5\" stroke=\"#6F6F6F\" width=\"19\" x=\"0.5\" y=\"0.5\"></rect></svg></span>Kernel Season's (13)</label></li><li><label class=\"component--shop-sidebar-filters-checkbox global--form-text\"><input class=\"checkbox\" type=\"checkbox\"><span aria-hidden=\"true\" class=\"checkbox-icon\"><svg class=\"\" data-testid=\"IconCheckboxUnselected\" fill=\"none\" height=\"20\" viewBox=\"0 0 20 20\" width=\"20\" xmlns=\"http://www.w3.org/2000/svg\"><rect fill=\"white\" height=\"19\" rx=\"3.5\" stroke=\"#6F6F6F\" width=\"19\" x=\"0.5\" y=\"0.5\"></rect></svg></span>Lance (13)</label></li><li><label class=\"component--shop-sidebar-filters-checkbox global--form-text\"><input class=\"checkbox\" type=\"checkbox\"><span aria-hidden=\"true\" class=\"checkbox-icon\"><svg class=\"\" data-testid=\"IconCheckboxUnselected\" fill=\"none\" height=\"20\" viewBox=\"0 0 20 20\" width=\"20\" xmlns=\"http://www.w3.org/2000/svg\"><rect fill=\"white\" height=\"19\" rx=\"3.5\" stroke=\"#6F6F6F\" width=\"19\" x=\"0.5\" y=\"0.5\"></rect></svg></span>Jack Link's (12)</label></li><li><label class=\"component--shop-sidebar-filters-checkbox global--form-text\"><input class=\"checkbox\" type=\"checkbox\"><span aria-hidden=\"true\" class=\"checkbox-icon\"><svg class=\"\" data-testid=\"IconCheckboxUnselected\" fill=\"none\" height=\"20\" viewBox=\"0 0 20 20\" width=\"20\" xmlns=\"http://www.w3.org/2000/svg\"><rect fill=\"white\" height=\"19\" rx=\"3.5\" stroke=\"#6F6F6F\" width=\"19\" x=\"0.5\" y=\"0.5\"></rect></svg></span>Ruffles (12)</label></li><li><label class=\"component--shop-sidebar-filters-checkbox global--form-text\"><input class=\"checkbox\" type=\"checkbox\"><span aria-hidden=\"true\" class=\"checkbox-icon\"><svg class=\"\" data-testid=\"IconCheckboxUnselected\" fill=\"none\" height=\"20\" viewBox=\"0 0 20 20\" width=\"20\" xmlns=\"http://www.w3.org/2000/svg\"><rect fill=\"white\" height=\"19\" rx=\"3.5\" stroke=\"#6F6F6F\" width=\"19\" x=\"0.5\" y=\"0.5\"></rect></svg></span>Welch's (11)</label></li><li><label class=\"component--shop-sidebar-filters-checkbox global--form-text\"><input class=\"checkbox\" type=\"checkbox\"><span aria-hidden=\"true\" class=\"checkbox-icon\"><svg class=\"\" data-testid=\"IconCheckboxUnselected\" fill=\"none\" height=\"20\" viewBox=\"0 0 20 20\" width=\"20\" xmlns=\"http://www.w3.org/2000/svg\"><rect fill=\"white\" height=\"19\" rx=\"3.5\" stroke=\"#6F6F6F\" width=\"19\" x=\"0.5\" y=\"0.5\"></rect></svg></span>Planters (10)</label></li><li><label class=\"component--shop-sidebar-filters-checkbox global--form-text\"><input class=\"checkbox\" type=\"checkbox\"><span aria-hidden=\"true\" class=\"checkbox-icon\"><svg class=\"\" data-testid=\"IconCheckboxUnselected\" fill=\"none\" height=\"20\" viewBox=\"0 0 20 20\" width=\"20\" xmlns=\"http://www.w3.org/2000/svg\"><rect fill=\"white\" height=\"19\" rx=\"3.5\" stroke=\"#6F6F6F\" width=\"19\" x=\"0.5\" y=\"0.5\"></rect></svg></span>Quaker (10)</label></li><li><label class=\"component--shop-sidebar-filters-checkbox global--form-text\"><input class=\"checkbox\" type=\"checkbox\"><span aria-hidden=\"true\" class=\"checkbox-icon\"><svg class=\"\" data-testid=\"IconCheckboxUnselected\" fill=\"none\" height=\"20\" viewBox=\"0 0 20 20\" width=\"20\" xmlns=\"http://www.w3.org/2000/svg\"><rect fill=\"white\" height=\"19\" rx=\"3.5\" stroke=\"#6F6F6F\" width=\"19\" x=\"0.5\" y=\"0.5\"></rect></svg></span>The Good Crisp Company (10)</label></li><li><label class=\"component--shop-sidebar-filters-checkbox global--form-text\"><input class=\"checkbox\" type=\"checkbox\"><span aria-hidden=\"true\" class=\"checkbox-icon\"><svg class=\"\" data-testid=\"IconCheckboxUnselected\" fill=\"none\" height=\"20\" viewBox=\"0 0 20 20\" width=\"20\" xmlns=\"http://www.w3.org/2000/svg\"><rect fill=\"white\" height=\"19\" rx=\"3.5\" stroke=\"#6F6F6F\" width=\"19\" x=\"0.5\" y=\"0.5\"></rect></svg></span>Wheat Thins (10)</label></li><li><label class=\"component--shop-sidebar-filters-checkbox global--form-text\"><input class=\"checkbox\" type=\"checkbox\"><span aria-hidden=\"true\" class=\"checkbox-icon\"><svg class=\"\" data-testid=\"IconCheckboxUnselected\" fill=\"none\" height=\"20\" viewBox=\"0 0 20 20\" width=\"20\" xmlns=\"http://www.w3.org/2000/svg\"><rect fill=\"white\" height=\"19\" rx=\"3.5\" stroke=\"#6F6F6F\" width=\"19\" x=\"0.5\" y=\"0.5\"></rect></svg></span>Archway (9)</label></li><li><label class=\"component--shop-sidebar-filters-checkbox global--form-text\"><input class=\"checkbox\" type=\"checkbox\"><span aria-hidden=\"true\" class=\"checkbox-icon\"><svg class=\"\" data-testid=\"IconCheckboxUnselected\" fill=\"none\" height=\"20\" viewBox=\"0 0 20 20\" width=\"20\" xmlns=\"http://www.w3.org/2000/svg\"><rect fill=\"white\" height=\"19\" rx=\"3.5\" stroke=\"#6F6F6F\" width=\"19\" x=\"0.5\" y=\"0.5\"></rect></svg></span>Crunchmaster (9)</label></li><li><label class=\"component--shop-sidebar-filters-checkbox global--form-text\"><input class=\"checkbox\" type=\"checkbox\"><span aria-hidden=\"true\" class=\"checkbox-icon\"><svg class=\"\" data-testid=\"IconCheckboxUnselected\" fill=\"none\" height=\"20\" viewBox=\"0 0 20 20\" width=\"20\" xmlns=\"http://www.w3.org/2000/svg\"><rect fill=\"white\" height=\"19\" rx=\"3.5\" stroke=\"#6F6F6F\" width=\"19\" x=\"0.5\" y=\"0.5\"></rect></svg></span>Fritos (9)</label></li><li><label class=\"component--shop-sidebar-filters-checkbox global--form-text\"><input class=\"checkbox\" type=\"checkbox\"><span aria-hidden=\"true\" class=\"checkbox-icon\"><svg class=\"\" data-testid=\"IconCheckboxUnselected\" fill=\"none\" height=\"20\" viewBox=\"0 0 20 20\" width=\"20\" xmlns=\"http://www.w3.org/2000/svg\"><rect fill=\"white\" height=\"19\" rx=\"3.5\" stroke=\"#6F6F6F\" width=\"19\" x=\"0.5\" y=\"0.5\"></rect></svg></span>LesserEvil (9)</label></li><li><label class=\"component--shop-sidebar-filters-checkbox global--form-text\"><input class=\"checkbox\" type=\"checkbox\"><span aria-hidden=\"true\" class=\"checkbox-icon\"><svg class=\"\" data-testid=\"IconCheckboxUnselected\" fill=\"none\" height=\"20\" viewBox=\"0 0 20 20\" width=\"20\" xmlns=\"http://www.w3.org/2000/svg\"><rect fill=\"white\" height=\"19\" rx=\"3.5\" stroke=\"#6F6F6F\" width=\"19\" x=\"0.5\" y=\"0.5\"></rect></svg></span>Lundberg Family Farms (9)</label></li><li><label class=\"component--shop-sidebar-filters-checkbox global--form-text\"><input class=\"checkbox\" type=\"checkbox\"><span aria-hidden=\"true\" class=\"checkbox-icon\"><svg class=\"\" data-testid=\"IconCheckboxUnselected\" fill=\"none\" height=\"20\" viewBox=\"0 0 20 20\" width=\"20\" xmlns=\"http://www.w3.org/2000/svg\"><rect fill=\"white\" height=\"19\" rx=\"3.5\" stroke=\"#6F6F6F\" width=\"19\" x=\"0.5\" y=\"0.5\"></rect></svg></span>Orville Redenbacher's (9)</label></li><li><label class=\"component--shop-sidebar-filters-checkbox global--form-text\"><input class=\"checkbox\" type=\"checkbox\"><span aria-hidden=\"true\" class=\"checkbox-icon\"><svg class=\"\" data-testid=\"IconCheckboxUnselected\" fill=\"none\" height=\"20\" viewBox=\"0 0 20 20\" width=\"20\" xmlns=\"http://www.w3.org/2000/svg\"><rect fill=\"white\" height=\"19\" rx=\"3.5\" stroke=\"#6F6F6F\" width=\"19\" x=\"0.5\" y=\"0.5\"></rect></svg></span>Partake (9)</label></li><li><label class=\"component--shop-sidebar-filters-checkbox global--form-text\"><input class=\"checkbox\" type=\"checkbox\"><span aria-hidden=\"true\" class=\"checkbox-icon\"><svg class=\"\" data-testid=\"IconCheckboxUnselected\" fill=\"none\" height=\"20\" viewBox=\"0 0 20 20\" width=\"20\" xmlns=\"http://www.w3.org/2000/svg\"><rect fill=\"white\" height=\"19\" rx=\"3.5\" stroke=\"#6F6F6F\" width=\"19\" x=\"0.5\" y=\"0.5\"></rect></svg></span>Smartfood (9)</label></li><li><label class=\"component--shop-sidebar-filters-checkbox global--form-text\"><input class=\"checkbox\" type=\"checkbox\"><span aria-hidden=\"true\" class=\"checkbox-icon\"><svg class=\"\" data-testid=\"IconCheckboxUnselected\" fill=\"none\" height=\"20\" viewBox=\"0 0 20 20\" width=\"20\" xmlns=\"http://www.w3.org/2000/svg\"><rect fill=\"white\" height=\"19\" rx=\"3.5\" stroke=\"#6F6F6F\" width=\"19\" x=\"0.5\" y=\"0.5\"></rect></svg></span>Stacy's (9)</label></li><li><label class=\"component--shop-sidebar-filters-checkbox global--form-text\"><input class=\"checkbox\" type=\"checkbox\"><span aria-hidden=\"true\" class=\"checkbox-icon\"><svg class=\"\" data-testid=\"IconCheckboxUnselected\" fill=\"none\" height=\"20\" viewBox=\"0 0 20 20\" width=\"20\" xmlns=\"http://www.w3.org/2000/svg\"><rect fill=\"white\" height=\"19\" rx=\"3.5\" stroke=\"#6F6F6F\" width=\"19\" x=\"0.5\" y=\"0.5\"></rect></svg></span>Country Archer (8)</label></li><li><label class=\"component--shop-sidebar-filters-checkbox global--form-text\"><input class=\"checkbox\" type=\"checkbox\"><span aria-hidden=\"true\" class=\"checkbox-icon\"><svg class=\"\" data-testid=\"IconCheckboxUnselected\" fill=\"none\" height=\"20\" viewBox=\"0 0 20 20\" width=\"20\" xmlns=\"http://www.w3.org/2000/svg\"><rect fill=\"white\" height=\"19\" rx=\"3.5\" stroke=\"#6F6F6F\" width=\"19\" x=\"0.5\" y=\"0.5\"></rect></svg></span>Entenmann's (8)</label></li><li><label class=\"component--shop-sidebar-filters-checkbox global--form-text\"><input class=\"checkbox\" type=\"checkbox\"><span aria-hidden=\"true\" class=\"checkbox-icon\"><svg class=\"\" data-testid=\"IconCheckboxUnselected\" fill=\"none\" height=\"20\" viewBox=\"0 0 20 20\" width=\"20\" xmlns=\"http://www.w3.org/2000/svg\"><rect fill=\"white\" height=\"19\" rx=\"3.5\" stroke=\"#6F6F6F\" width=\"19\" x=\"0.5\" y=\"0.5\"></rect></svg></span>Goodie Girl (8)</label></li><li><label class=\"component--shop-sidebar-filters-checkbox global--form-text\"><input class=\"checkbox\" type=\"checkbox\"><span aria-hidden=\"true\" class=\"checkbox-icon\"><svg class=\"\" data-testid=\"IconCheckboxUnselected\" fill=\"none\" height=\"20\" viewBox=\"0 0 20 20\" width=\"20\" xmlns=\"http://www.w3.org/2000/svg\"><rect fill=\"white\" height=\"19\" rx=\"3.5\" stroke=\"#6F6F6F\" width=\"19\" x=\"0.5\" y=\"0.5\"></rect></svg></span>MadeGood (8)</label></li><li><label class=\"component--shop-sidebar-filters-checkbox global--form-text\"><input class=\"checkbox\" type=\"checkbox\"><span aria-hidden=\"true\" class=\"checkbox-icon\"><svg class=\"\" data-testid=\"IconCheckboxUnselected\" fill=\"none\" height=\"20\" viewBox=\"0 0 20 20\" width=\"20\" xmlns=\"http://www.w3.org/2000/svg\"><rect fill=\"white\" height=\"19\" rx=\"3.5\" stroke=\"#6F6F6F\" width=\"19\" x=\"0.5\" y=\"0.5\"></rect></svg></span>PopCorners (8)</label></li><li><label class=\"component--shop-sidebar-filters-checkbox global--form-text\"><input class=\"checkbox\" type=\"checkbox\"><span aria-hidden=\"true\" class=\"checkbox-icon\"><svg class=\"\" data-testid=\"IconCheckboxUnselected\" fill=\"none\" height=\"20\" viewBox=\"0 0 20 20\" width=\"20\" xmlns=\"http://www.w3.org/2000/svg\"><rect fill=\"white\" height=\"19\" rx=\"3.5\" stroke=\"#6F6F6F\" width=\"19\" x=\"0.5\" y=\"0.5\"></rect></svg></span>Premium (8)</label></li><li><label class=\"component--shop-sidebar-filters-checkbox global--form-text\"><input class=\"checkbox\" type=\"checkbox\"><span aria-hidden=\"true\" class=\"checkbox-icon\"><svg class=\"\" data-testid=\"IconCheckboxUnselected\" fill=\"none\" height=\"20\" viewBox=\"0 0 20 20\" width=\"20\" xmlns=\"http://www.w3.org/2000/svg\"><rect fill=\"white\" height=\"19\" rx=\"3.5\" stroke=\"#6F6F6F\" width=\"19\" x=\"0.5\" y=\"0.5\"></rect></svg></span>Real Food From the Ground Up (8)</label></li><li><label class=\"component--shop-sidebar-filters-checkbox global--form-text\"><input class=\"checkbox\" type=\"checkbox\"><span aria-hidden=\"true\" class=\"checkbox-icon\"><svg class=\"\" data-testid=\"IconCheckboxUnselected\" fill=\"none\" height=\"20\" viewBox=\"0 0 20 20\" width=\"20\" xmlns=\"http://www.w3.org/2000/svg\"><rect fill=\"white\" height=\"19\" rx=\"3.5\" stroke=\"#6F6F6F\" width=\"19\" x=\"0.5\" y=\"0.5\"></rect></svg></span>Rold Gold (8)</label></li><li><label class=\"component--shop-sidebar-filters-checkbox global--form-text\"><input class=\"checkbox\" type=\"checkbox\"><span aria-hidden=\"true\" class=\"checkbox-icon\"><svg class=\"\" data-testid=\"IconCheckboxUnselected\" fill=\"none\" height=\"20\" viewBox=\"0 0 20 20\" width=\"20\" xmlns=\"http://www.w3.org/2000/svg\"><rect fill=\"white\" height=\"19\" rx=\"3.5\" stroke=\"#6F6F6F\" width=\"19\" x=\"0.5\" y=\"0.5\"></rect></svg></span>Xochitl (8)</label></li><li><label class=\"component--shop-sidebar-filters-checkbox global--form-text\"><input class=\"checkbox\" type=\"checkbox\"><span aria-hidden=\"true\" class=\"checkbox-icon\"><svg class=\"\" data-testid=\"IconCheckboxUnselected\" fill=\"none\" height=\"20\" viewBox=\"0 0 20 20\" width=\"20\" xmlns=\"http://www.w3.org/2000/svg\"><rect fill=\"white\" height=\"19\" rx=\"3.5\" stroke=\"#6F6F6F\" width=\"19\" x=\"0.5\" y=\"0.5\"></rect></svg></span>Back to Nature (7)</label></li><li><label class=\"component--shop-sidebar-filters-checkbox global--form-text\"><input class=\"checkbox\" type=\"checkbox\"><span aria-hidden=\"true\" class=\"checkbox-icon\"><svg class=\"\" data-testid=\"IconCheckboxUnselected\" fill=\"none\" height=\"20\" viewBox=\"0 0 20 20\" width=\"20\" xmlns=\"http://www.w3.org/2000/svg\"><rect fill=\"white\" height=\"19\" rx=\"3.5\" stroke=\"#6F6F6F\" width=\"19\" x=\"0.5\" y=\"0.5\"></rect></svg></span>Club (7)</label></li><li><label class=\"component--shop-sidebar-filters-checkbox global--form-text\"><input class=\"checkbox\" type=\"checkbox\"><span aria-hidden=\"true\" class=\"checkbox-icon\"><svg class=\"\" data-testid=\"IconCheckboxUnselected\" fill=\"none\" height=\"20\" viewBox=\"0 0 20 20\" width=\"20\" xmlns=\"http://www.w3.org/2000/svg\"><rect fill=\"white\" height=\"19\" rx=\"3.5\" stroke=\"#6F6F6F\" width=\"19\" x=\"0.5\" y=\"0.5\"></rect></svg></span>Pace (7)</label></li><li><label class=\"component--shop-sidebar-filters-checkbox global--form-text\"><input class=\"checkbox\" type=\"checkbox\"><span aria-hidden=\"true\" class=\"checkbox-icon\"><svg class=\"\" data-testid=\"IconCheckboxUnselected\" fill=\"none\" height=\"20\" viewBox=\"0 0 20 20\" width=\"20\" xmlns=\"http://www.w3.org/2000/svg\"><rect fill=\"white\" height=\"19\" rx=\"3.5\" stroke=\"#6F6F6F\" width=\"19\" x=\"0.5\" y=\"0.5\"></rect></svg></span>Setton Farms (7)</label></li><li><label class=\"component--shop-sidebar-filters-checkbox global--form-text\"><input class=\"checkbox\" type=\"checkbox\"><span aria-hidden=\"true\" class=\"checkbox-icon\"><svg class=\"\" data-testid=\"IconCheckboxUnselected\" fill=\"none\" height=\"20\" viewBox=\"0 0 20 20\" width=\"20\" xmlns=\"http://www.w3.org/2000/svg\"><rect fill=\"white\" height=\"19\" rx=\"3.5\" stroke=\"#6F6F6F\" width=\"19\" x=\"0.5\" y=\"0.5\"></rect></svg></span>SkinnyPop (7)</label></li><li><label class=\"component--shop-sidebar-filters-checkbox global--form-text\"><input class=\"checkbox\" type=\"checkbox\"><span aria-hidden=\"true\" class=\"checkbox-icon\"><svg class=\"\" data-testid=\"IconCheckboxUnselected\" fill=\"none\" height=\"20\" viewBox=\"0 0 20 20\" width=\"20\" xmlns=\"http://www.w3.org/2000/svg\"><rect fill=\"white\" height=\"19\" rx=\"3.5\" stroke=\"#6F6F6F\" width=\"19\" x=\"0.5\" y=\"0.5\"></rect></svg></span>Stauffer's (7)</label></li><li><label class=\"component--shop-sidebar-filters-checkbox global--form-text\"><input class=\"checkbox\" type=\"checkbox\"><span aria-hidden=\"true\" class=\"checkbox-icon\"><svg class=\"\" data-testid=\"IconCheckboxUnselected\" fill=\"none\" height=\"20\" viewBox=\"0 0 20 20\" width=\"20\" xmlns=\"http://www.w3.org/2000/svg\"><rect fill=\"white\" height=\"19\" rx=\"3.5\" stroke=\"#6F6F6F\" width=\"19\" x=\"0.5\" y=\"0.5\"></rect></svg></span>Sun-Maid (7)</label></li><li><label class=\"component--shop-sidebar-filters-checkbox global--form-text\"><input class=\"checkbox\" type=\"checkbox\"><span aria-hidden=\"true\" class=\"checkbox-icon\"><svg class=\"\" data-testid=\"IconCheckboxUnselected\" fill=\"none\" height=\"20\" viewBox=\"0 0 20 20\" width=\"20\" xmlns=\"http://www.w3.org/2000/svg\"><rect fill=\"white\" height=\"19\" rx=\"3.5\" stroke=\"#6F6F6F\" width=\"19\" x=\"0.5\" y=\"0.5\"></rect></svg></span>Angie's Boomchickapop (6)</label></li><li><label class=\"component--shop-sidebar-filters-checkbox global--form-text\"><input class=\"checkbox\" type=\"checkbox\"><span aria-hidden=\"true\" class=\"checkbox-icon\"><svg class=\"\" data-testid=\"IconCheckboxUnselected\" fill=\"none\" height=\"20\" viewBox=\"0 0 20 20\" width=\"20\" xmlns=\"http://www.w3.org/2000/svg\"><rect fill=\"white\" height=\"19\" rx=\"3.5\" stroke=\"#6F6F6F\" width=\"19\" x=\"0.5\" y=\"0.5\"></rect></svg></span>Chomps (6)</label></li><li><label class=\"component--shop-sidebar-filters-checkbox global--form-text\"><input class=\"checkbox\" type=\"checkbox\"><span aria-hidden=\"true\" class=\"checkbox-icon\"><svg class=\"\" data-testid=\"IconCheckboxUnselected\" fill=\"none\" height=\"20\" viewBox=\"0 0 20 20\" width=\"20\" xmlns=\"http://www.w3.org/2000/svg\"><rect fill=\"white\" height=\"19\" rx=\"3.5\" stroke=\"#6F6F6F\" width=\"19\" x=\"0.5\" y=\"0.5\"></rect></svg></span>Dot's Homestyle Pretzels (6)</label></li><li><label class=\"component--shop-sidebar-filters-checkbox global--form-text\"><input class=\"checkbox\" type=\"checkbox\"><span aria-hidden=\"true\" class=\"checkbox-icon\"><svg class=\"\" data-testid=\"IconCheckboxUnselected\" fill=\"none\" height=\"20\" viewBox=\"0 0 20 20\" width=\"20\" xmlns=\"http://www.w3.org/2000/svg\"><rect fill=\"white\" height=\"19\" rx=\"3.5\" stroke=\"#6F6F6F\" width=\"19\" x=\"0.5\" y=\"0.5\"></rect></svg></span>Good Thins (6)</label></li><li><label class=\"component--shop-sidebar-filters-checkbox global--form-text\"><input class=\"checkbox\" type=\"checkbox\"><span aria-hidden=\"true\" class=\"checkbox-icon\"><svg class=\"\" data-testid=\"IconCheckboxUnselected\" fill=\"none\" height=\"20\" viewBox=\"0 0 20 20\" width=\"20\" xmlns=\"http://www.w3.org/2000/svg\"><rect fill=\"white\" height=\"19\" rx=\"3.5\" stroke=\"#6F6F6F\" width=\"19\" x=\"0.5\" y=\"0.5\"></rect></svg></span>Honey Maid (6)</label></li><li><label class=\"component--shop-sidebar-filters-checkbox global--form-text\"><input class=\"checkbox\" type=\"checkbox\"><span aria-hidden=\"true\" class=\"checkbox-icon\"><svg class=\"\" data-testid=\"IconCheckboxUnselected\" fill=\"none\" height=\"20\" viewBox=\"0 0 20 20\" width=\"20\" xmlns=\"http://www.w3.org/2000/svg\"><rect fill=\"white\" height=\"19\" rx=\"3.5\" stroke=\"#6F6F6F\" width=\"19\" x=\"0.5\" y=\"0.5\"></rect></svg></span>Kettle Brand (6)</label></li><li><label class=\"component--shop-sidebar-filters-checkbox global--form-text\"><input class=\"checkbox\" type=\"checkbox\"><span aria-hidden=\"true\" class=\"checkbox-icon\"><svg class=\"\" data-testid=\"IconCheckboxUnselected\" fill=\"none\" height=\"20\" viewBox=\"0 0 20 20\" width=\"20\" xmlns=\"http://www.w3.org/2000/svg\"><rect fill=\"white\" height=\"19\" rx=\"3.5\" stroke=\"#6F6F6F\" width=\"19\" x=\"0.5\" y=\"0.5\"></rect></svg></span>Mary Macleod's Shortbread (6)</label></li><li><label class=\"component--shop-sidebar-filters-checkbox global--form-text\"><input class=\"checkbox\" type=\"checkbox\"><span aria-hidden=\"true\" class=\"checkbox-icon\"><svg class=\"\" data-testid=\"IconCheckboxUnselected\" fill=\"none\" height=\"20\" viewBox=\"0 0 20 20\" width=\"20\" xmlns=\"http://www.w3.org/2000/svg\"><rect fill=\"white\" height=\"19\" rx=\"3.5\" stroke=\"#6F6F6F\" width=\"19\" x=\"0.5\" y=\"0.5\"></rect></svg></span>Mauna Loa (6)</label></li><li><label class=\"component--shop-sidebar-filters-checkbox global--form-text\"><input class=\"checkbox\" type=\"checkbox\"><span aria-hidden=\"true\" class=\"checkbox-icon\"><svg class=\"\" data-testid=\"IconCheckboxUnselected\" fill=\"none\" height=\"20\" viewBox=\"0 0 20 20\" width=\"20\" xmlns=\"http://www.w3.org/2000/svg\"><rect fill=\"white\" height=\"19\" rx=\"3.5\" stroke=\"#6F6F6F\" width=\"19\" x=\"0.5\" y=\"0.5\"></rect></svg></span>Milton's (6)</label></li><li><label class=\"component--shop-sidebar-filters-checkbox global--form-text\"><input class=\"checkbox\" type=\"checkbox\"><span aria-hidden=\"true\" class=\"checkbox-icon\"><svg class=\"\" data-testid=\"IconCheckboxUnselected\" fill=\"none\" height=\"20\" viewBox=\"0 0 20 20\" width=\"20\" xmlns=\"http://www.w3.org/2000/svg\"><rect fill=\"white\" height=\"19\" rx=\"3.5\" stroke=\"#6F6F6F\" width=\"19\" x=\"0.5\" y=\"0.5\"></rect></svg></span>Newman's Own (6)</label></li><li><label class=\"component--shop-sidebar-filters-checkbox global--form-text\"><input class=\"checkbox\" type=\"checkbox\"><span aria-hidden=\"true\" class=\"checkbox-icon\"><svg class=\"\" data-testid=\"IconCheckboxUnselected\" fill=\"none\" height=\"20\" viewBox=\"0 0 20 20\" width=\"20\" xmlns=\"http://www.w3.org/2000/svg\"><rect fill=\"white\" height=\"19\" rx=\"3.5\" stroke=\"#6F6F6F\" width=\"19\" x=\"0.5\" y=\"0.5\"></rect></svg></span>Ocean Spray (6)</label></li><li><label class=\"component--shop-sidebar-filters-checkbox global--form-text\"><input class=\"checkbox\" type=\"checkbox\"><span aria-hidden=\"true\" class=\"checkbox-icon\"><svg class=\"\" data-testid=\"IconCheckboxUnselected\" fill=\"none\" height=\"20\" viewBox=\"0 0 20 20\" width=\"20\" xmlns=\"http://www.w3.org/2000/svg\"><rect fill=\"white\" height=\"19\" rx=\"3.5\" stroke=\"#6F6F6F\" width=\"19\" x=\"0.5\" y=\"0.5\"></rect></svg></span>Rustic Bakery (6)</label></li><li><label class=\"component--shop-sidebar-filters-checkbox global--form-text\"><input class=\"checkbox\" type=\"checkbox\"><span aria-hidden=\"true\" class=\"checkbox-icon\"><svg class=\"\" data-testid=\"IconCheckboxUnselected\" fill=\"none\" height=\"20\" viewBox=\"0 0 20 20\" width=\"20\" xmlns=\"http://www.w3.org/2000/svg\"><rect fill=\"white\" height=\"19\" rx=\"3.5\" stroke=\"#6F6F6F\" width=\"19\" x=\"0.5\" y=\"0.5\"></rect></svg></span>Stella D'oro (6)</label></li><li><label class=\"component--shop-sidebar-filters-checkbox global--form-text\"><input class=\"checkbox\" type=\"checkbox\"><span aria-hidden=\"true\" class=\"checkbox-icon\"><svg class=\"\" data-testid=\"IconCheckboxUnselected\" fill=\"none\" height=\"20\" viewBox=\"0 0 20 20\" width=\"20\" xmlns=\"http://www.w3.org/2000/svg\"><rect fill=\"white\" height=\"19\" rx=\"3.5\" stroke=\"#6F6F6F\" width=\"19\" x=\"0.5\" y=\"0.5\"></rect></svg></span>SunChips (6)</label></li><li><label class=\"component--shop-sidebar-filters-checkbox global--form-text\"><input class=\"checkbox\" type=\"checkbox\"><span aria-hidden=\"true\" class=\"checkbox-icon\"><svg class=\"\" data-testid=\"IconCheckboxUnselected\" fill=\"none\" height=\"20\" viewBox=\"0 0 20 20\" width=\"20\" xmlns=\"http://www.w3.org/2000/svg\"><rect fill=\"white\" height=\"19\" rx=\"3.5\" stroke=\"#6F6F6F\" width=\"19\" x=\"0.5\" y=\"0.5\"></rect></svg></span>THE DAILY CRAVE (6)</label></li><li><label class=\"component--shop-sidebar-filters-checkbox global--form-text\"><input class=\"checkbox\" type=\"checkbox\"><span aria-hidden=\"true\" class=\"checkbox-icon\"><svg class=\"\" data-testid=\"IconCheckboxUnselected\" fill=\"none\" height=\"20\" viewBox=\"0 0 20 20\" width=\"20\" xmlns=\"http://www.w3.org/2000/svg\"><rect fill=\"white\" height=\"19\" rx=\"3.5\" stroke=\"#6F6F6F\" width=\"19\" x=\"0.5\" y=\"0.5\"></rect></svg></span>Toasteds (6)</label></li><li><label class=\"component--shop-sidebar-filters-checkbox global--form-text\"><input class=\"checkbox\" type=\"checkbox\"><span aria-hidden=\"true\" class=\"checkbox-icon\"><svg class=\"\" data-testid=\"IconCheckboxUnselected\" fill=\"none\" height=\"20\" viewBox=\"0 0 20 20\" width=\"20\" xmlns=\"http://www.w3.org/2000/svg\"><rect fill=\"white\" height=\"19\" rx=\"3.5\" stroke=\"#6F6F6F\" width=\"19\" x=\"0.5\" y=\"0.5\"></rect></svg></span>Town House (6)</label></li><li><label class=\"component--shop-sidebar-filters-checkbox global--form-text\"><input class=\"checkbox\" type=\"checkbox\"><span aria-hidden=\"true\" class=\"checkbox-icon\"><svg class=\"\" data-testid=\"IconCheckboxUnselected\" fill=\"none\" height=\"20\" viewBox=\"0 0 20 20\" width=\"20\" xmlns=\"http://www.w3.org/2000/svg\"><rect fill=\"white\" height=\"19\" rx=\"3.5\" stroke=\"#6F6F6F\" width=\"19\" x=\"0.5\" y=\"0.5\"></rect></svg></span>Boulder Canyon (5)</label></li><li><label class=\"component--shop-sidebar-filters-checkbox global--form-text\"><input class=\"checkbox\" type=\"checkbox\"><span aria-hidden=\"true\" class=\"checkbox-icon\"><svg class=\"\" data-testid=\"IconCheckboxUnselected\" fill=\"none\" height=\"20\" viewBox=\"0 0 20 20\" width=\"20\" xmlns=\"http://www.w3.org/2000/svg\"><rect fill=\"white\" height=\"19\" rx=\"3.5\" stroke=\"#6F6F6F\" width=\"19\" x=\"0.5\" y=\"0.5\"></rect></svg></span>Chester's (5)</label></li><li><label class=\"component--shop-sidebar-filters-checkbox global--form-text\"><input class=\"checkbox\" type=\"checkbox\"><span aria-hidden=\"true\" class=\"checkbox-icon\"><svg class=\"\" data-testid=\"IconCheckboxUnselected\" fill=\"none\" height=\"20\" viewBox=\"0 0 20 20\" width=\"20\" xmlns=\"http://www.w3.org/2000/svg\"><rect fill=\"white\" height=\"19\" rx=\"3.5\" stroke=\"#6F6F6F\" width=\"19\" x=\"0.5\" y=\"0.5\"></rect></svg></span>Chex Mix (5)</label></li><li><label class=\"component--shop-sidebar-filters-checkbox global--form-text\"><input class=\"checkbox\" type=\"checkbox\"><span aria-hidden=\"true\" class=\"checkbox-icon\"><svg class=\"\" data-testid=\"IconCheckboxUnselected\" fill=\"none\" height=\"20\" viewBox=\"0 0 20 20\" width=\"20\" xmlns=\"http://www.w3.org/2000/svg\"><rect fill=\"white\" height=\"19\" rx=\"3.5\" stroke=\"#6F6F6F\" width=\"19\" x=\"0.5\" y=\"0.5\"></rect></svg></span>Drizzilicious (5)</label></li><li><label class=\"component--shop-sidebar-filters-checkbox global--form-text\"><input class=\"checkbox\" type=\"checkbox\"><span aria-hidden=\"true\" class=\"checkbox-icon\"><svg class=\"\" data-testid=\"IconCheckboxUnselected\" fill=\"none\" height=\"20\" viewBox=\"0 0 20 20\" width=\"20\" xmlns=\"http://www.w3.org/2000/svg\"><rect fill=\"white\" height=\"19\" rx=\"3.5\" stroke=\"#6F6F6F\" width=\"19\" x=\"0.5\" y=\"0.5\"></rect></svg></span>From The Ground Up (5)</label></li><li><label class=\"component--shop-sidebar-filters-checkbox global--form-text\"><input class=\"checkbox\" type=\"checkbox\"><span aria-hidden=\"true\" class=\"checkbox-icon\"><svg class=\"\" data-testid=\"IconCheckboxUnselected\" fill=\"none\" height=\"20\" viewBox=\"0 0 20 20\" width=\"20\" xmlns=\"http://www.w3.org/2000/svg\"><rect fill=\"white\" height=\"19\" rx=\"3.5\" stroke=\"#6F6F6F\" width=\"19\" x=\"0.5\" y=\"0.5\"></rect></svg></span>Harvest Snaps (5)</label></li><li><label class=\"component--shop-sidebar-filters-checkbox global--form-text\"><input class=\"checkbox\" type=\"checkbox\"><span aria-hidden=\"true\" class=\"checkbox-icon\"><svg class=\"\" data-testid=\"IconCheckboxUnselected\" fill=\"none\" height=\"20\" viewBox=\"0 0 20 20\" width=\"20\" xmlns=\"http://www.w3.org/2000/svg\"><rect fill=\"white\" height=\"19\" rx=\"3.5\" stroke=\"#6F6F6F\" width=\"19\" x=\"0.5\" y=\"0.5\"></rect></svg></span>Herdez (5)</label></li><li><label class=\"component--shop-sidebar-filters-checkbox global--form-text\"><input class=\"checkbox\" type=\"checkbox\"><span aria-hidden=\"true\" class=\"checkbox-icon\"><svg class=\"\" data-testid=\"IconCheckboxUnselected\" fill=\"none\" height=\"20\" viewBox=\"0 0 20 20\" width=\"20\" xmlns=\"http://www.w3.org/2000/svg\"><rect fill=\"white\" height=\"19\" rx=\"3.5\" stroke=\"#6F6F6F\" width=\"19\" x=\"0.5\" y=\"0.5\"></rect></svg></span>Jolly Time (5)</label></li><li><label class=\"component--shop-sidebar-filters-checkbox global--form-text\"><input class=\"checkbox\" type=\"checkbox\"><span aria-hidden=\"true\" class=\"checkbox-icon\"><svg class=\"\" data-testid=\"IconCheckboxUnselected\" fill=\"none\" height=\"20\" viewBox=\"0 0 20 20\" width=\"20\" xmlns=\"http://www.w3.org/2000/svg\"><rect fill=\"white\" height=\"19\" rx=\"3.5\" stroke=\"#6F6F6F\" width=\"19\" x=\"0.5\" y=\"0.5\"></rect></svg></span>Nabisco (5)</label></li><li><label class=\"component--shop-sidebar-filters-checkbox global--form-text\"><input class=\"checkbox\" type=\"checkbox\"><span aria-hidden=\"true\" class=\"checkbox-icon\"><svg class=\"\" data-testid=\"IconCheckboxUnselected\" fill=\"none\" height=\"20\" viewBox=\"0 0 20 20\" width=\"20\" xmlns=\"http://www.w3.org/2000/svg\"><rect fill=\"white\" height=\"19\" rx=\"3.5\" stroke=\"#6F6F6F\" width=\"19\" x=\"0.5\" y=\"0.5\"></rect></svg></span>Nutty &amp; Fruity (5)</label></li><li><label class=\"component--shop-sidebar-filters-checkbox global--form-text\"><input class=\"checkbox\" type=\"checkbox\"><span aria-hidden=\"true\" class=\"checkbox-icon\"><svg class=\"\" data-testid=\"IconCheckboxUnselected\" fill=\"none\" height=\"20\" viewBox=\"0 0 20 20\" width=\"20\" xmlns=\"http://www.w3.org/2000/svg\"><rect fill=\"white\" height=\"19\" rx=\"3.5\" stroke=\"#6F6F6F\" width=\"19\" x=\"0.5\" y=\"0.5\"></rect></svg></span>Pamela's (5)</label></li><li><label class=\"component--shop-sidebar-filters-checkbox global--form-text\"><input class=\"checkbox\" type=\"checkbox\"><span aria-hidden=\"true\" class=\"checkbox-icon\"><svg class=\"\" data-testid=\"IconCheckboxUnselected\" fill=\"none\" height=\"20\" viewBox=\"0 0 20 20\" width=\"20\" xmlns=\"http://www.w3.org/2000/svg\"><rect fill=\"white\" height=\"19\" rx=\"3.5\" stroke=\"#6F6F6F\" width=\"19\" x=\"0.5\" y=\"0.5\"></rect></svg></span>Quinn (5)</label></li><li><label class=\"component--shop-sidebar-filters-checkbox global--form-text\"><input class=\"checkbox\" type=\"checkbox\"><span aria-hidden=\"true\" class=\"checkbox-icon\"><svg class=\"\" data-testid=\"IconCheckboxUnselected\" fill=\"none\" height=\"20\" viewBox=\"0 0 20 20\" width=\"20\" xmlns=\"http://www.w3.org/2000/svg\"><rect fill=\"white\" height=\"19\" rx=\"3.5\" stroke=\"#6F6F6F\" width=\"19\" x=\"0.5\" y=\"0.5\"></rect></svg></span>Sunsweet (5)</label></li><li><label class=\"component--shop-sidebar-filters-checkbox global--form-text\"><input class=\"checkbox\" type=\"checkbox\"><span aria-hidden=\"true\" class=\"checkbox-icon\"><svg class=\"\" data-testid=\"IconCheckboxUnselected\" fill=\"none\" height=\"20\" viewBox=\"0 0 20 20\" width=\"20\" xmlns=\"http://www.w3.org/2000/svg\"><rect fill=\"white\" height=\"19\" rx=\"3.5\" stroke=\"#6F6F6F\" width=\"19\" x=\"0.5\" y=\"0.5\"></rect></svg></span>Teddy Grahams (5)</label></li><li><label class=\"component--shop-sidebar-filters-checkbox global--form-text\"><input class=\"checkbox\" type=\"checkbox\"><span aria-hidden=\"true\" class=\"checkbox-icon\"><svg class=\"\" data-testid=\"IconCheckboxUnselected\" fill=\"none\" height=\"20\" viewBox=\"0 0 20 20\" width=\"20\" xmlns=\"http://www.w3.org/2000/svg\"><rect fill=\"white\" height=\"19\" rx=\"3.5\" stroke=\"#6F6F6F\" width=\"19\" x=\"0.5\" y=\"0.5\"></rect></svg></span>Terra (5)</label></li><li><label class=\"component--shop-sidebar-filters-checkbox global--form-text\"><input class=\"checkbox\" type=\"checkbox\"><span aria-hidden=\"true\" class=\"checkbox-icon\"><svg class=\"\" data-testid=\"IconCheckboxUnselected\" fill=\"none\" height=\"20\" viewBox=\"0 0 20 20\" width=\"20\" xmlns=\"http://www.w3.org/2000/svg\"><rect fill=\"white\" height=\"19\" rx=\"3.5\" stroke=\"#6F6F6F\" width=\"19\" x=\"0.5\" y=\"0.5\"></rect></svg></span>Top Seedz (5)</label></li><li><label class=\"component--shop-sidebar-filters-checkbox global--form-text\"><input class=\"checkbox\" type=\"checkbox\"><span aria-hidden=\"true\" class=\"checkbox-icon\"><svg class=\"\" data-testid=\"IconCheckboxUnselected\" fill=\"none\" height=\"20\" viewBox=\"0 0 20 20\" width=\"20\" xmlns=\"http://www.w3.org/2000/svg\"><rect fill=\"white\" height=\"19\" rx=\"3.5\" stroke=\"#6F6F6F\" width=\"19\" x=\"0.5\" y=\"0.5\"></rect></svg></span>Unique Snacks (5)</label></li><li><label class=\"component--shop-sidebar-filters-checkbox global--form-text\"><input class=\"checkbox\" type=\"checkbox\"><span aria-hidden=\"true\" class=\"checkbox-icon\"><svg class=\"\" data-testid=\"IconCheckboxUnselected\" fill=\"none\" height=\"20\" viewBox=\"0 0 20 20\" width=\"20\" xmlns=\"http://www.w3.org/2000/svg\"><rect fill=\"white\" height=\"19\" rx=\"3.5\" stroke=\"#6F6F6F\" width=\"19\" x=\"0.5\" y=\"0.5\"></rect></svg></span>Wilde (5)</label></li><li><label class=\"component--shop-sidebar-filters-checkbox global--form-text\"><input class=\"checkbox\" type=\"checkbox\"><span aria-hidden=\"true\" class=\"checkbox-icon\"><svg class=\"\" data-testid=\"IconCheckboxUnselected\" fill=\"none\" height=\"20\" viewBox=\"0 0 20 20\" width=\"20\" xmlns=\"http://www.w3.org/2000/svg\"><rect fill=\"white\" height=\"19\" rx=\"3.5\" stroke=\"#6F6F6F\" width=\"19\" x=\"0.5\" y=\"0.5\"></rect></svg></span>Wonderful Pistachios (5)</label></li><li><label class=\"component--shop-sidebar-filters-checkbox global--form-text\"><input class=\"checkbox\" type=\"checkbox\"><span aria-hidden=\"true\" class=\"checkbox-icon\"><svg class=\"\" data-testid=\"IconCheckboxUnselected\" fill=\"none\" height=\"20\" viewBox=\"0 0 20 20\" width=\"20\" xmlns=\"http://www.w3.org/2000/svg\"><rect fill=\"white\" height=\"19\" rx=\"3.5\" stroke=\"#6F6F6F\" width=\"19\" x=\"0.5\" y=\"0.5\"></rect></svg></span>Absolutely! Gluten Free (4)</label></li><li><label class=\"component--shop-sidebar-filters-checkbox global--form-text\"><input class=\"checkbox\" type=\"checkbox\"><span aria-hidden=\"true\" class=\"checkbox-icon\"><svg class=\"\" data-testid=\"IconCheckboxUnselected\" fill=\"none\" height=\"20\" viewBox=\"0 0 20 20\" width=\"20\" xmlns=\"http://www.w3.org/2000/svg\"><rect fill=\"white\" height=\"19\" rx=\"3.5\" stroke=\"#6F6F6F\" width=\"19\" x=\"0.5\" y=\"0.5\"></rect></svg></span>Bare (4)</label></li><li><label class=\"component--shop-sidebar-filters-checkbox global--form-text\"><input class=\"checkbox\" type=\"checkbox\"><span aria-hidden=\"true\" class=\"checkbox-icon\"><svg class=\"\" data-testid=\"IconCheckboxUnselected\" fill=\"none\" height=\"20\" viewBox=\"0 0 20 20\" width=\"20\" xmlns=\"http://www.w3.org/2000/svg\"><rect fill=\"white\" height=\"19\" rx=\"3.5\" stroke=\"#6F6F6F\" width=\"19\" x=\"0.5\" y=\"0.5\"></rect></svg></span>Biena (4)</label></li><li><label class=\"component--shop-sidebar-filters-checkbox global--form-text\"><input class=\"checkbox\" type=\"checkbox\"><span aria-hidden=\"true\" class=\"checkbox-icon\"><svg class=\"\" data-testid=\"IconCheckboxUnselected\" fill=\"none\" height=\"20\" viewBox=\"0 0 20 20\" width=\"20\" xmlns=\"http://www.w3.org/2000/svg\"><rect fill=\"white\" height=\"19\" rx=\"3.5\" stroke=\"#6F6F6F\" width=\"19\" x=\"0.5\" y=\"0.5\"></rect></svg></span>Blue Diamond Almonds (4)</label></li><li><label class=\"component--shop-sidebar-filters-checkbox global--form-text\"><input class=\"checkbox\" type=\"checkbox\"><span aria-hidden=\"true\" class=\"checkbox-icon\"><svg class=\"\" data-testid=\"IconCheckboxUnselected\" fill=\"none\" height=\"20\" viewBox=\"0 0 20 20\" width=\"20\" xmlns=\"http://www.w3.org/2000/svg\"><rect fill=\"white\" height=\"19\" rx=\"3.5\" stroke=\"#6F6F6F\" width=\"19\" x=\"0.5\" y=\"0.5\"></rect></svg></span>Brothers All Natural (4)</label></li><li><label class=\"component--shop-sidebar-filters-checkbox global--form-text\"><input class=\"checkbox\" type=\"checkbox\"><span aria-hidden=\"true\" class=\"checkbox-icon\"><svg class=\"\" data-testid=\"IconCheckboxUnselected\" fill=\"none\" height=\"20\" viewBox=\"0 0 20 20\" width=\"20\" xmlns=\"http://www.w3.org/2000/svg\"><rect fill=\"white\" height=\"19\" rx=\"3.5\" stroke=\"#6F6F6F\" width=\"19\" x=\"0.5\" y=\"0.5\"></rect></svg></span>Carr's (4)</label></li><li><label class=\"component--shop-sidebar-filters-checkbox global--form-text\"><input class=\"checkbox\" type=\"checkbox\"><span aria-hidden=\"true\" class=\"checkbox-icon\"><svg class=\"\" data-testid=\"IconCheckboxUnselected\" fill=\"none\" height=\"20\" viewBox=\"0 0 20 20\" width=\"20\" xmlns=\"http://www.w3.org/2000/svg\"><rect fill=\"white\" height=\"19\" rx=\"3.5\" stroke=\"#6F6F6F\" width=\"19\" x=\"0.5\" y=\"0.5\"></rect></svg></span>Dewey's Bakery (4)</label></li><li><label class=\"component--shop-sidebar-filters-checkbox global--form-text\"><input class=\"checkbox\" type=\"checkbox\"><span aria-hidden=\"true\" class=\"checkbox-icon\"><svg class=\"\" data-testid=\"IconCheckboxUnselected\" fill=\"none\" height=\"20\" viewBox=\"0 0 20 20\" width=\"20\" xmlns=\"http://www.w3.org/2000/svg\"><rect fill=\"white\" height=\"19\" rx=\"3.5\" stroke=\"#6F6F6F\" width=\"19\" x=\"0.5\" y=\"0.5\"></rect></svg></span>Emmy's Organics (4)</label></li><li><label class=\"component--shop-sidebar-filters-checkbox global--form-text\"><input class=\"checkbox\" type=\"checkbox\"><span aria-hidden=\"true\" class=\"checkbox-icon\"><svg class=\"\" data-testid=\"IconCheckboxUnselected\" fill=\"none\" height=\"20\" viewBox=\"0 0 20 20\" width=\"20\" xmlns=\"http://www.w3.org/2000/svg\"><rect fill=\"white\" height=\"19\" rx=\"3.5\" stroke=\"#6F6F6F\" width=\"19\" x=\"0.5\" y=\"0.5\"></rect></svg></span>Every Body Eat (4)</label></li><li><label class=\"component--shop-sidebar-filters-checkbox global--form-text\"><input class=\"checkbox\" type=\"checkbox\"><span aria-hidden=\"true\" class=\"checkbox-icon\"><svg class=\"\" data-testid=\"IconCheckboxUnselected\" fill=\"none\" height=\"20\" viewBox=\"0 0 20 20\" width=\"20\" xmlns=\"http://www.w3.org/2000/svg\"><rect fill=\"white\" height=\"19\" rx=\"3.5\" stroke=\"#6F6F6F\" width=\"19\" x=\"0.5\" y=\"0.5\"></rect></svg></span>Fit Joy (4)</label></li><li><label class=\"component--shop-sidebar-filters-checkbox global--form-text\"><input class=\"checkbox\" type=\"checkbox\"><span aria-hidden=\"true\" class=\"checkbox-icon\"><svg class=\"\" data-testid=\"IconCheckboxUnselected\" fill=\"none\" height=\"20\" viewBox=\"0 0 20 20\" width=\"20\" xmlns=\"http://www.w3.org/2000/svg\"><rect fill=\"white\" height=\"19\" rx=\"3.5\" stroke=\"#6F6F6F\" width=\"19\" x=\"0.5\" y=\"0.5\"></rect></svg></span>Glutino (4)</label></li><li><label class=\"component--shop-sidebar-filters-checkbox global--form-text\"><input class=\"checkbox\" type=\"checkbox\"><span aria-hidden=\"true\" class=\"checkbox-icon\"><svg class=\"\" data-testid=\"IconCheckboxUnselected\" fill=\"none\" height=\"20\" viewBox=\"0 0 20 20\" width=\"20\" xmlns=\"http://www.w3.org/2000/svg\"><rect fill=\"white\" height=\"19\" rx=\"3.5\" stroke=\"#6F6F6F\" width=\"19\" x=\"0.5\" y=\"0.5\"></rect></svg></span>Good Health (4)</label></li><li><label class=\"component--shop-sidebar-filters-checkbox global--form-text\"><input class=\"checkbox\" type=\"checkbox\"><span aria-hidden=\"true\" class=\"checkbox-icon\"><svg class=\"\" data-testid=\"IconCheckboxUnselected\" fill=\"none\" height=\"20\" viewBox=\"0 0 20 20\" width=\"20\" xmlns=\"http://www.w3.org/2000/svg\"><rect fill=\"white\" height=\"19\" rx=\"3.5\" stroke=\"#6F6F6F\" width=\"19\" x=\"0.5\" y=\"0.5\"></rect></svg></span>Gratify (4)</label></li><li><label class=\"component--shop-sidebar-filters-checkbox global--form-text\"><input class=\"checkbox\" type=\"checkbox\"><span aria-hidden=\"true\" class=\"checkbox-icon\"><svg class=\"\" data-testid=\"IconCheckboxUnselected\" fill=\"none\" height=\"20\" viewBox=\"0 0 20 20\" width=\"20\" xmlns=\"http://www.w3.org/2000/svg\"><rect fill=\"white\" height=\"19\" rx=\"3.5\" stroke=\"#6F6F6F\" width=\"19\" x=\"0.5\" y=\"0.5\"></rect></svg></span>Hippeas (4)</label></li><li><label class=\"component--shop-sidebar-filters-checkbox global--form-text\"><input class=\"checkbox\" type=\"checkbox\"><span aria-hidden=\"true\" class=\"checkbox-icon\"><svg class=\"\" data-testid=\"IconCheckboxUnselected\" fill=\"none\" height=\"20\" viewBox=\"0 0 20 20\" width=\"20\" xmlns=\"http://www.w3.org/2000/svg\"><rect fill=\"white\" height=\"19\" rx=\"3.5\" stroke=\"#6F6F6F\" width=\"19\" x=\"0.5\" y=\"0.5\"></rect></svg></span>Jennies (4)</label></li><li><label class=\"component--shop-sidebar-filters-checkbox global--form-text\"><input class=\"checkbox\" type=\"checkbox\"><span aria-hidden=\"true\" class=\"checkbox-icon\"><svg class=\"\" data-testid=\"IconCheckboxUnselected\" fill=\"none\" height=\"20\" viewBox=\"0 0 20 20\" width=\"20\" xmlns=\"http://www.w3.org/2000/svg\"><rect fill=\"white\" height=\"19\" rx=\"3.5\" stroke=\"#6F6F6F\" width=\"19\" x=\"0.5\" y=\"0.5\"></rect></svg></span>Kellogg's (4)</label></li><li><label class=\"component--shop-sidebar-filters-checkbox global--form-text\"><input class=\"checkbox\" type=\"checkbox\"><span aria-hidden=\"true\" class=\"checkbox-icon\"><svg class=\"\" data-testid=\"IconCheckboxUnselected\" fill=\"none\" height=\"20\" viewBox=\"0 0 20 20\" width=\"20\" xmlns=\"http://www.w3.org/2000/svg\"><rect fill=\"white\" height=\"19\" rx=\"3.5\" stroke=\"#6F6F6F\" width=\"19\" x=\"0.5\" y=\"0.5\"></rect></svg></span>Late July (4)</label></li><li><label class=\"component--shop-sidebar-filters-checkbox global--form-text\"><input class=\"checkbox\" type=\"checkbox\"><span aria-hidden=\"true\" class=\"checkbox-icon\"><svg class=\"\" data-testid=\"IconCheckboxUnselected\" fill=\"none\" height=\"20\" viewBox=\"0 0 20 20\" width=\"20\" xmlns=\"http://www.w3.org/2000/svg\"><rect fill=\"white\" height=\"19\" rx=\"3.5\" stroke=\"#6F6F6F\" width=\"19\" x=\"0.5\" y=\"0.5\"></rect></svg></span>Maine Crisp (4)</label></li><li><label class=\"component--shop-sidebar-filters-checkbox global--form-text\"><input class=\"checkbox\" type=\"checkbox\"><span aria-hidden=\"true\" class=\"checkbox-icon\"><svg class=\"\" data-testid=\"IconCheckboxUnselected\" fill=\"none\" height=\"20\" viewBox=\"0 0 20 20\" width=\"20\" xmlns=\"http://www.w3.org/2000/svg\"><rect fill=\"white\" height=\"19\" rx=\"3.5\" stroke=\"#6F6F6F\" width=\"19\" x=\"0.5\" y=\"0.5\"></rect></svg></span>Natural Delights (4)</label></li><li><label class=\"component--shop-sidebar-filters-checkbox global--form-text\"><input class=\"checkbox\" type=\"checkbox\"><span aria-hidden=\"true\" class=\"checkbox-icon\"><svg class=\"\" data-testid=\"IconCheckboxUnselected\" fill=\"none\" height=\"20\" viewBox=\"0 0 20 20\" width=\"20\" xmlns=\"http://www.w3.org/2000/svg\"><rect fill=\"white\" height=\"19\" rx=\"3.5\" stroke=\"#6F6F6F\" width=\"19\" x=\"0.5\" y=\"0.5\"></rect></svg></span>Nilla (4)</label></li><li><label class=\"component--shop-sidebar-filters-checkbox global--form-text\"><input class=\"checkbox\" type=\"checkbox\"><span aria-hidden=\"true\" class=\"checkbox-icon\"><svg class=\"\" data-testid=\"IconCheckboxUnselected\" fill=\"none\" height=\"20\" viewBox=\"0 0 20 20\" width=\"20\" xmlns=\"http://www.w3.org/2000/svg\"><rect fill=\"white\" height=\"19\" rx=\"3.5\" stroke=\"#6F6F6F\" width=\"19\" x=\"0.5\" y=\"0.5\"></rect></svg></span>Nutter Butter (4)</label></li><li><label class=\"component--shop-sidebar-filters-checkbox global--form-text\"><input class=\"checkbox\" type=\"checkbox\"><span aria-hidden=\"true\" class=\"checkbox-icon\"><svg class=\"\" data-testid=\"IconCheckboxUnselected\" fill=\"none\" height=\"20\" viewBox=\"0 0 20 20\" width=\"20\" xmlns=\"http://www.w3.org/2000/svg\"><rect fill=\"white\" height=\"19\" rx=\"3.5\" stroke=\"#6F6F6F\" width=\"19\" x=\"0.5\" y=\"0.5\"></rect></svg></span>Parm Crisps (4)</label></li><li><label class=\"component--shop-sidebar-filters-checkbox global--form-text\"><input class=\"checkbox\" type=\"checkbox\"><span aria-hidden=\"true\" class=\"checkbox-icon\"><svg class=\"\" data-testid=\"IconCheckboxUnselected\" fill=\"none\" height=\"20\" viewBox=\"0 0 20 20\" width=\"20\" xmlns=\"http://www.w3.org/2000/svg\"><rect fill=\"white\" height=\"19\" rx=\"3.5\" stroke=\"#6F6F6F\" width=\"19\" x=\"0.5\" y=\"0.5\"></rect></svg></span>Pop-Secret (4)</label></li><li><label class=\"component--shop-sidebar-filters-checkbox global--form-text\"><input class=\"checkbox\" type=\"checkbox\"><span aria-hidden=\"true\" class=\"checkbox-icon\"><svg class=\"\" data-testid=\"IconCheckboxUnselected\" fill=\"none\" height=\"20\" viewBox=\"0 0 20 20\" width=\"20\" xmlns=\"http://www.w3.org/2000/svg\"><rect fill=\"white\" height=\"19\" rx=\"3.5\" stroke=\"#6F6F6F\" width=\"19\" x=\"0.5\" y=\"0.5\"></rect></svg></span>Simply 7 (4)</label></li><li><label class=\"component--shop-sidebar-filters-checkbox global--form-text\"><input class=\"checkbox\" type=\"checkbox\"><span aria-hidden=\"true\" class=\"checkbox-icon\"><svg class=\"\" data-testid=\"IconCheckboxUnselected\" fill=\"none\" height=\"20\" viewBox=\"0 0 20 20\" width=\"20\" xmlns=\"http://www.w3.org/2000/svg\"><rect fill=\"white\" height=\"19\" rx=\"3.5\" stroke=\"#6F6F6F\" width=\"19\" x=\"0.5\" y=\"0.5\"></rect></svg></span>SkinnyDipped (4)</label></li><li><label class=\"component--shop-sidebar-filters-checkbox global--form-text\"><input class=\"checkbox\" type=\"checkbox\"><span aria-hidden=\"true\" class=\"checkbox-icon\"><svg class=\"\" data-testid=\"IconCheckboxUnselected\" fill=\"none\" height=\"20\" viewBox=\"0 0 20 20\" width=\"20\" xmlns=\"http://www.w3.org/2000/svg\"><rect fill=\"white\" height=\"19\" rx=\"3.5\" stroke=\"#6F6F6F\" width=\"19\" x=\"0.5\" y=\"0.5\"></rect></svg></span>Tastykake (4)</label></li><li><label class=\"component--shop-sidebar-filters-checkbox global--form-text\"><input class=\"checkbox\" type=\"checkbox\"><span aria-hidden=\"true\" class=\"checkbox-icon\"><svg class=\"\" data-testid=\"IconCheckboxUnselected\" fill=\"none\" height=\"20\" viewBox=\"0 0 20 20\" width=\"20\" xmlns=\"http://www.w3.org/2000/svg\"><rect fill=\"white\" height=\"19\" rx=\"3.5\" stroke=\"#6F6F6F\" width=\"19\" x=\"0.5\" y=\"0.5\"></rect></svg></span>Wasa (4)</label></li><li><label class=\"component--shop-sidebar-filters-checkbox global--form-text\"><input class=\"checkbox\" type=\"checkbox\"><span aria-hidden=\"true\" class=\"checkbox-icon\"><svg class=\"\" data-testid=\"IconCheckboxUnselected\" fill=\"none\" height=\"20\" viewBox=\"0 0 20 20\" width=\"20\" xmlns=\"http://www.w3.org/2000/svg\"><rect fill=\"white\" height=\"19\" rx=\"3.5\" stroke=\"#6F6F6F\" width=\"19\" x=\"0.5\" y=\"0.5\"></rect></svg></span>Bachman (3)</label></li><li><label class=\"component--shop-sidebar-filters-checkbox global--form-text\"><input class=\"checkbox\" type=\"checkbox\"><span aria-hidden=\"true\" class=\"checkbox-icon\"><svg class=\"\" data-testid=\"IconCheckboxUnselected\" fill=\"none\" height=\"20\" viewBox=\"0 0 20 20\" width=\"20\" xmlns=\"http://www.w3.org/2000/svg\"><rect fill=\"white\" height=\"19\" rx=\"3.5\" stroke=\"#6F6F6F\" width=\"19\" x=\"0.5\" y=\"0.5\"></rect></svg></span>Barnum's Animals (3)</label></li><li><label class=\"component--shop-sidebar-filters-checkbox global--form-text\"><input class=\"checkbox\" type=\"checkbox\"><span aria-hidden=\"true\" class=\"checkbox-icon\"><svg class=\"\" data-testid=\"IconCheckboxUnselected\" fill=\"none\" height=\"20\" viewBox=\"0 0 20 20\" width=\"20\" xmlns=\"http://www.w3.org/2000/svg\"><rect fill=\"white\" height=\"19\" rx=\"3.5\" stroke=\"#6F6F6F\" width=\"19\" x=\"0.5\" y=\"0.5\"></rect></svg></span>Bella Lucia (3)</label></li><li><label class=\"component--shop-sidebar-filters-checkbox global--form-text\"><input class=\"checkbox\" type=\"checkbox\"><span aria-hidden=\"true\" class=\"checkbox-icon\"><svg class=\"\" data-testid=\"IconCheckboxUnselected\" fill=\"none\" height=\"20\" viewBox=\"0 0 20 20\" width=\"20\" xmlns=\"http://www.w3.org/2000/svg\"><rect fill=\"white\" height=\"19\" rx=\"3.5\" stroke=\"#6F6F6F\" width=\"19\" x=\"0.5\" y=\"0.5\"></rect></svg></span>Blue Diamond (3)</label></li><li><label class=\"component--shop-sidebar-filters-checkbox global--form-text\"><input class=\"checkbox\" type=\"checkbox\"><span aria-hidden=\"true\" class=\"checkbox-icon\"><svg class=\"\" data-testid=\"IconCheckboxUnselected\" fill=\"none\" height=\"20\" viewBox=\"0 0 20 20\" width=\"20\" xmlns=\"http://www.w3.org/2000/svg\"><rect fill=\"white\" height=\"19\" rx=\"3.5\" stroke=\"#6F6F6F\" width=\"19\" x=\"0.5\" y=\"0.5\"></rect></svg></span>Breton (3)</label></li><li><label class=\"component--shop-sidebar-filters-checkbox global--form-text\"><input class=\"checkbox\" type=\"checkbox\"><span aria-hidden=\"true\" class=\"checkbox-icon\"><svg class=\"\" data-testid=\"IconCheckboxUnselected\" fill=\"none\" height=\"20\" viewBox=\"0 0 20 20\" width=\"20\" xmlns=\"http://www.w3.org/2000/svg\"><rect fill=\"white\" height=\"19\" rx=\"3.5\" stroke=\"#6F6F6F\" width=\"19\" x=\"0.5\" y=\"0.5\"></rect></svg></span>Catalina Crunch (3)</label></li><li><label class=\"component--shop-sidebar-filters-checkbox global--form-text\"><input class=\"checkbox\" type=\"checkbox\"><span aria-hidden=\"true\" class=\"checkbox-icon\"><svg class=\"\" data-testid=\"IconCheckboxUnselected\" fill=\"none\" height=\"20\" viewBox=\"0 0 20 20\" width=\"20\" xmlns=\"http://www.w3.org/2000/svg\"><rect fill=\"white\" height=\"19\" rx=\"3.5\" stroke=\"#6F6F6F\" width=\"19\" x=\"0.5\" y=\"0.5\"></rect></svg></span>Chi-Chi's (3)</label></li><li><label class=\"component--shop-sidebar-filters-checkbox global--form-text\"><input class=\"checkbox\" type=\"checkbox\"><span aria-hidden=\"true\" class=\"checkbox-icon\"><svg class=\"\" data-testid=\"IconCheckboxUnselected\" fill=\"none\" height=\"20\" viewBox=\"0 0 20 20\" width=\"20\" xmlns=\"http://www.w3.org/2000/svg\"><rect fill=\"white\" height=\"19\" rx=\"3.5\" stroke=\"#6F6F6F\" width=\"19\" x=\"0.5\" y=\"0.5\"></rect></svg></span>Country Archer Provisions (3)</label></li><li><label class=\"component--shop-sidebar-filters-checkbox global--form-text\"><input class=\"checkbox\" type=\"checkbox\"><span aria-hidden=\"true\" class=\"checkbox-icon\"><svg class=\"\" data-testid=\"IconCheckboxUnselected\" fill=\"none\" height=\"20\" viewBox=\"0 0 20 20\" width=\"20\" xmlns=\"http://www.w3.org/2000/svg\"><rect fill=\"white\" height=\"19\" rx=\"3.5\" stroke=\"#6F6F6F\" width=\"19\" x=\"0.5\" y=\"0.5\"></rect></svg></span>Craize (3)</label></li><li><label class=\"component--shop-sidebar-filters-checkbox global--form-text\"><input class=\"checkbox\" type=\"checkbox\"><span aria-hidden=\"true\" class=\"checkbox-icon\"><svg class=\"\" data-testid=\"IconCheckboxUnselected\" fill=\"none\" height=\"20\" viewBox=\"0 0 20 20\" width=\"20\" xmlns=\"http://www.w3.org/2000/svg\"><rect fill=\"white\" height=\"19\" rx=\"3.5\" stroke=\"#6F6F6F\" width=\"19\" x=\"0.5\" y=\"0.5\"></rect></svg></span>Cybele's (3)</label></li><li><label class=\"component--shop-sidebar-filters-checkbox global--form-text\"><input class=\"checkbox\" type=\"checkbox\"><span aria-hidden=\"true\" class=\"checkbox-icon\"><svg class=\"\" data-testid=\"IconCheckboxUnselected\" fill=\"none\" height=\"20\" viewBox=\"0 0 20 20\" width=\"20\" xmlns=\"http://www.w3.org/2000/svg\"><rect fill=\"white\" height=\"19\" rx=\"3.5\" stroke=\"#6F6F6F\" width=\"19\" x=\"0.5\" y=\"0.5\"></rect></svg></span>Drybox (3)</label></li><li><label class=\"component--shop-sidebar-filters-checkbox global--form-text\"><input class=\"checkbox\" type=\"checkbox\"><span aria-hidden=\"true\" class=\"checkbox-icon\"><svg class=\"\" data-testid=\"IconCheckboxUnselected\" fill=\"none\" height=\"20\" viewBox=\"0 0 20 20\" width=\"20\" xmlns=\"http://www.w3.org/2000/svg\"><rect fill=\"white\" height=\"19\" rx=\"3.5\" stroke=\"#6F6F6F\" width=\"19\" x=\"0.5\" y=\"0.5\"></rect></svg></span>Edward &amp; Sons (3)</label></li><li><label class=\"component--shop-sidebar-filters-checkbox global--form-text\"><input class=\"checkbox\" type=\"checkbox\"><span aria-hidden=\"true\" class=\"checkbox-icon\"><svg class=\"\" data-testid=\"IconCheckboxUnselected\" fill=\"none\" height=\"20\" viewBox=\"0 0 20 20\" width=\"20\" xmlns=\"http://www.w3.org/2000/svg\"><rect fill=\"white\" height=\"19\" rx=\"3.5\" stroke=\"#6F6F6F\" width=\"19\" x=\"0.5\" y=\"0.5\"></rect></svg></span>Firehook (3)</label></li><li><label class=\"component--shop-sidebar-filters-checkbox global--form-text\"><input class=\"checkbox\" type=\"checkbox\"><span aria-hidden=\"true\" class=\"checkbox-icon\"><svg class=\"\" data-testid=\"IconCheckboxUnselected\" fill=\"none\" height=\"20\" viewBox=\"0 0 20 20\" width=\"20\" xmlns=\"http://www.w3.org/2000/svg\"><rect fill=\"white\" height=\"19\" rx=\"3.5\" stroke=\"#6F6F6F\" width=\"19\" x=\"0.5\" y=\"0.5\"></rect></svg></span>Funyuns (3)</label></li><li><label class=\"component--shop-sidebar-filters-checkbox global--form-text\"><input class=\"checkbox\" type=\"checkbox\"><span aria-hidden=\"true\" class=\"checkbox-icon\"><svg class=\"\" data-testid=\"IconCheckboxUnselected\" fill=\"none\" height=\"20\" viewBox=\"0 0 20 20\" width=\"20\" xmlns=\"http://www.w3.org/2000/svg\"><rect fill=\"white\" height=\"19\" rx=\"3.5\" stroke=\"#6F6F6F\" width=\"19\" x=\"0.5\" y=\"0.5\"></rect></svg></span>Go Raw (3)</label></li><li><label class=\"component--shop-sidebar-filters-checkbox global--form-text\"><input class=\"checkbox\" type=\"checkbox\"><span aria-hidden=\"true\" class=\"checkbox-icon\"><svg class=\"\" data-testid=\"IconCheckboxUnselected\" fill=\"none\" height=\"20\" viewBox=\"0 0 20 20\" width=\"20\" xmlns=\"http://www.w3.org/2000/svg\"><rect fill=\"white\" height=\"19\" rx=\"3.5\" stroke=\"#6F6F6F\" width=\"19\" x=\"0.5\" y=\"0.5\"></rect></svg></span>Goya (3)</label></li><li><label class=\"component--shop-sidebar-filters-checkbox global--form-text\"><input class=\"checkbox\" type=\"checkbox\"><span aria-hidden=\"true\" class=\"checkbox-icon\"><svg class=\"\" data-testid=\"IconCheckboxUnselected\" fill=\"none\" height=\"20\" viewBox=\"0 0 20 20\" width=\"20\" xmlns=\"http://www.w3.org/2000/svg\"><rect fill=\"white\" height=\"19\" rx=\"3.5\" stroke=\"#6F6F6F\" width=\"19\" x=\"0.5\" y=\"0.5\"></rect></svg></span>Happy Snacks (3)</label></li><li><label class=\"component--shop-sidebar-filters-checkbox global--form-text\"><input class=\"checkbox\" type=\"checkbox\"><span aria-hidden=\"true\" class=\"checkbox-icon\"><svg class=\"\" data-testid=\"IconCheckboxUnselected\" fill=\"none\" height=\"20\" viewBox=\"0 0 20 20\" width=\"20\" xmlns=\"http://www.w3.org/2000/svg\"><rect fill=\"white\" height=\"19\" rx=\"3.5\" stroke=\"#6F6F6F\" width=\"19\" x=\"0.5\" y=\"0.5\"></rect></svg></span>Healing Home Foods (3)</label></li><li><label class=\"component--shop-sidebar-filters-checkbox global--form-text\"><input class=\"checkbox\" type=\"checkbox\"><span aria-hidden=\"true\" class=\"checkbox-icon\"><svg class=\"\" data-testid=\"IconCheckboxUnselected\" fill=\"none\" height=\"20\" viewBox=\"0 0 20 20\" width=\"20\" xmlns=\"http://www.w3.org/2000/svg\"><rect fill=\"white\" height=\"19\" rx=\"3.5\" stroke=\"#6F6F6F\" width=\"19\" x=\"0.5\" y=\"0.5\"></rect></svg></span>Hubs (3)</label></li><li><label class=\"component--shop-sidebar-filters-checkbox global--form-text\"><input class=\"checkbox\" type=\"checkbox\"><span aria-hidden=\"true\" class=\"checkbox-icon\"><svg class=\"\" data-testid=\"IconCheckboxUnselected\" fill=\"none\" height=\"20\" viewBox=\"0 0 20 20\" width=\"20\" xmlns=\"http://www.w3.org/2000/svg\"><rect fill=\"white\" height=\"19\" rx=\"3.5\" stroke=\"#6F6F6F\" width=\"19\" x=\"0.5\" y=\"0.5\"></rect></svg></span>Khloud (3)</label></li><li><label class=\"component--shop-sidebar-filters-checkbox global--form-text\"><input class=\"checkbox\" type=\"checkbox\"><span aria-hidden=\"true\" class=\"checkbox-icon\"><svg class=\"\" data-testid=\"IconCheckboxUnselected\" fill=\"none\" height=\"20\" viewBox=\"0 0 20 20\" width=\"20\" xmlns=\"http://www.w3.org/2000/svg\"><rect fill=\"white\" height=\"19\" rx=\"3.5\" stroke=\"#6F6F6F\" width=\"19\" x=\"0.5\" y=\"0.5\"></rect></svg></span>Kinnikinnick (3)</label></li><li><label class=\"component--shop-sidebar-filters-checkbox global--form-text\"><input class=\"checkbox\" type=\"checkbox\"><span aria-hidden=\"true\" class=\"checkbox-icon\"><svg class=\"\" data-testid=\"IconCheckboxUnselected\" fill=\"none\" height=\"20\" viewBox=\"0 0 20 20\" width=\"20\" xmlns=\"http://www.w3.org/2000/svg\"><rect fill=\"white\" height=\"19\" rx=\"3.5\" stroke=\"#6F6F6F\" width=\"19\" x=\"0.5\" y=\"0.5\"></rect></svg></span>Mateo's (3)</label></li><li><label class=\"component--shop-sidebar-filters-checkbox global--form-text\"><input class=\"checkbox\" type=\"checkbox\"><span aria-hidden=\"true\" class=\"checkbox-icon\"><svg class=\"\" data-testid=\"IconCheckboxUnselected\" fill=\"none\" height=\"20\" viewBox=\"0 0 20 20\" width=\"20\" xmlns=\"http://www.w3.org/2000/svg\"><rect fill=\"white\" height=\"19\" rx=\"3.5\" stroke=\"#6F6F6F\" width=\"19\" x=\"0.5\" y=\"0.5\"></rect></svg></span>Moon Cheese (3)</label></li><li><label class=\"component--shop-sidebar-filters-checkbox global--form-text\"><input class=\"checkbox\" type=\"checkbox\"><span aria-hidden=\"true\" class=\"checkbox-icon\"><svg class=\"\" data-testid=\"IconCheckboxUnselected\" fill=\"none\" height=\"20\" viewBox=\"0 0 20 20\" width=\"20\" xmlns=\"http://www.w3.org/2000/svg\"><rect fill=\"white\" height=\"19\" rx=\"3.5\" stroke=\"#6F6F6F\" width=\"19\" x=\"0.5\" y=\"0.5\"></rect></svg></span>Mother's (3)</label></li><li><label class=\"component--shop-sidebar-filters-checkbox global--form-text\"><input class=\"checkbox\" type=\"checkbox\"><span aria-hidden=\"true\" class=\"checkbox-icon\"><svg class=\"\" data-testid=\"IconCheckboxUnselected\" fill=\"none\" height=\"20\" viewBox=\"0 0 20 20\" width=\"20\" xmlns=\"http://www.w3.org/2000/svg\"><rect fill=\"white\" height=\"19\" rx=\"3.5\" stroke=\"#6F6F6F\" width=\"19\" x=\"0.5\" y=\"0.5\"></rect></svg></span>Newtons (3)</label></li><li><label class=\"component--shop-sidebar-filters-checkbox global--form-text\"><input class=\"checkbox\" type=\"checkbox\"><span aria-hidden=\"true\" class=\"checkbox-icon\"><svg class=\"\" data-testid=\"IconCheckboxUnselected\" fill=\"none\" height=\"20\" viewBox=\"0 0 20 20\" width=\"20\" xmlns=\"http://www.w3.org/2000/svg\"><rect fill=\"white\" height=\"19\" rx=\"3.5\" stroke=\"#6F6F6F\" width=\"19\" x=\"0.5\" y=\"0.5\"></rect></svg></span>Nonni's (3)</label></li><li><label class=\"component--shop-sidebar-filters-checkbox global--form-text\"><input class=\"checkbox\" type=\"checkbox\"><span aria-hidden=\"true\" class=\"checkbox-icon\"><svg class=\"\" data-testid=\"IconCheckboxUnselected\" fill=\"none\" height=\"20\" viewBox=\"0 0 20 20\" width=\"20\" xmlns=\"http://www.w3.org/2000/svg\"><rect fill=\"white\" height=\"19\" rx=\"3.5\" stroke=\"#6F6F6F\" width=\"19\" x=\"0.5\" y=\"0.5\"></rect></svg></span>Pirate's Booty (3)</label></li><li><label class=\"component--shop-sidebar-filters-checkbox global--form-text\"><input class=\"checkbox\" type=\"checkbox\"><span aria-hidden=\"true\" class=\"checkbox-icon\"><svg class=\"\" data-testid=\"IconCheckboxUnselected\" fill=\"none\" height=\"20\" viewBox=\"0 0 20 20\" width=\"20\" xmlns=\"http://www.w3.org/2000/svg\"><rect fill=\"white\" height=\"19\" rx=\"3.5\" stroke=\"#6F6F6F\" width=\"19\" x=\"0.5\" y=\"0.5\"></rect></svg></span>RW Garcia (3)</label></li><li><label class=\"component--shop-sidebar-filters-checkbox global--form-text\"><input class=\"checkbox\" type=\"checkbox\"><span aria-hidden=\"true\" class=\"checkbox-icon\"><svg class=\"\" data-testid=\"IconCheckboxUnselected\" fill=\"none\" height=\"20\" viewBox=\"0 0 20 20\" width=\"20\" xmlns=\"http://www.w3.org/2000/svg\"><rect fill=\"white\" height=\"19\" rx=\"3.5\" stroke=\"#6F6F6F\" width=\"19\" x=\"0.5\" y=\"0.5\"></rect></svg></span>Real Foods (3)</label></li><li><label class=\"component--shop-sidebar-filters-checkbox global--form-text\"><input class=\"checkbox\" type=\"checkbox\"><span aria-hidden=\"true\" class=\"checkbox-icon\"><svg class=\"\" data-testid=\"IconCheckboxUnselected\" fill=\"none\" height=\"20\" viewBox=\"0 0 20 20\" width=\"20\" xmlns=\"http://www.w3.org/2000/svg\"><rect fill=\"white\" height=\"19\" rx=\"3.5\" stroke=\"#6F6F6F\" width=\"19\" x=\"0.5\" y=\"0.5\"></rect></svg></span>Realsy Foods, Inc. (3)</label></li><li><label class=\"component--shop-sidebar-filters-checkbox global--form-text\"><input class=\"checkbox\" type=\"checkbox\"><span aria-hidden=\"true\" class=\"checkbox-icon\"><svg class=\"\" data-testid=\"IconCheckboxUnselected\" fill=\"none\" height=\"20\" viewBox=\"0 0 20 20\" width=\"20\" xmlns=\"http://www.w3.org/2000/svg\"><rect fill=\"white\" height=\"19\" rx=\"3.5\" stroke=\"#6F6F6F\" width=\"19\" x=\"0.5\" y=\"0.5\"></rect></svg></span>Reese's (3)</label></li><li><label class=\"component--shop-sidebar-filters-checkbox global--form-text\"><input class=\"checkbox\" type=\"checkbox\"><span aria-hidden=\"true\" class=\"checkbox-icon\"><svg class=\"\" data-testid=\"IconCheckboxUnselected\" fill=\"none\" height=\"20\" viewBox=\"0 0 20 20\" width=\"20\" xmlns=\"http://www.w3.org/2000/svg\"><rect fill=\"white\" height=\"19\" rx=\"3.5\" stroke=\"#6F6F6F\" width=\"19\" x=\"0.5\" y=\"0.5\"></rect></svg></span>Rule Breaker (3)</label></li><li><label class=\"component--shop-sidebar-filters-checkbox global--form-text\"><input class=\"checkbox\" type=\"checkbox\"><span aria-hidden=\"true\" class=\"checkbox-icon\"><svg class=\"\" data-testid=\"IconCheckboxUnselected\" fill=\"none\" height=\"20\" viewBox=\"0 0 20 20\" width=\"20\" xmlns=\"http://www.w3.org/2000/svg\"><rect fill=\"white\" height=\"19\" rx=\"3.5\" stroke=\"#6F6F6F\" width=\"19\" x=\"0.5\" y=\"0.5\"></rect></svg></span>Santitas (3)</label></li><li><label class=\"component--shop-sidebar-filters-checkbox global--form-text\"><input class=\"checkbox\" type=\"checkbox\"><span aria-hidden=\"true\" class=\"checkbox-icon\"><svg class=\"\" data-testid=\"IconCheckboxUnselected\" fill=\"none\" height=\"20\" viewBox=\"0 0 20 20\" width=\"20\" xmlns=\"http://www.w3.org/2000/svg\"><rect fill=\"white\" height=\"19\" rx=\"3.5\" stroke=\"#6F6F6F\" width=\"19\" x=\"0.5\" y=\"0.5\"></rect></svg></span>Sensible Portions (3)</label></li><li><label class=\"component--shop-sidebar-filters-checkbox global--form-text\"><input class=\"checkbox\" type=\"checkbox\"><span aria-hidden=\"true\" class=\"checkbox-icon\"><svg class=\"\" data-testid=\"IconCheckboxUnselected\" fill=\"none\" height=\"20\" viewBox=\"0 0 20 20\" width=\"20\" xmlns=\"http://www.w3.org/2000/svg\"><rect fill=\"white\" height=\"19\" rx=\"3.5\" stroke=\"#6F6F6F\" width=\"19\" x=\"0.5\" y=\"0.5\"></rect></svg></span>Solely (3)</label></li><li><label class=\"component--shop-sidebar-filters-checkbox global--form-text\"><input class=\"checkbox\" type=\"checkbox\"><span aria-hidden=\"true\" class=\"checkbox-icon\"><svg class=\"\" data-testid=\"IconCheckboxUnselected\" fill=\"none\" height=\"20\" viewBox=\"0 0 20 20\" width=\"20\" xmlns=\"http://www.w3.org/2000/svg\"><rect fill=\"white\" height=\"19\" rx=\"3.5\" stroke=\"#6F6F6F\" width=\"19\" x=\"0.5\" y=\"0.5\"></rect></svg></span>Spudsy (3)</label></li><li><label class=\"component--shop-sidebar-filters-checkbox global--form-text\"><input class=\"checkbox\" type=\"checkbox\"><span aria-hidden=\"true\" class=\"checkbox-icon\"><svg class=\"\" data-testid=\"IconCheckboxUnselected\" fill=\"none\" height=\"20\" viewBox=\"0 0 20 20\" width=\"20\" xmlns=\"http://www.w3.org/2000/svg\"><rect fill=\"white\" height=\"19\" rx=\"3.5\" stroke=\"#6F6F6F\" width=\"19\" x=\"0.5\" y=\"0.5\"></rect></svg></span>Steve &amp; Andy's (3)</label></li><li><label class=\"component--shop-sidebar-filters-checkbox global--form-text\"><input class=\"checkbox\" type=\"checkbox\"><span aria-hidden=\"true\" class=\"checkbox-icon\"><svg class=\"\" data-testid=\"IconCheckboxUnselected\" fill=\"none\" height=\"20\" viewBox=\"0 0 20 20\" width=\"20\" xmlns=\"http://www.w3.org/2000/svg\"><rect fill=\"white\" height=\"19\" rx=\"3.5\" stroke=\"#6F6F6F\" width=\"19\" x=\"0.5\" y=\"0.5\"></rect></svg></span>Sweet Loren's (3)</label></li><li><label class=\"component--shop-sidebar-filters-checkbox global--form-text\"><input class=\"checkbox\" type=\"checkbox\"><span aria-hidden=\"true\" class=\"checkbox-icon\"><svg class=\"\" data-testid=\"IconCheckboxUnselected\" fill=\"none\" height=\"20\" viewBox=\"0 0 20 20\" width=\"20\" xmlns=\"http://www.w3.org/2000/svg\"><rect fill=\"white\" height=\"19\" rx=\"3.5\" stroke=\"#6F6F6F\" width=\"19\" x=\"0.5\" y=\"0.5\"></rect></svg></span>The GFB (3)</label></li><li><label class=\"component--shop-sidebar-filters-checkbox global--form-text\"><input class=\"checkbox\" type=\"checkbox\"><span aria-hidden=\"true\" class=\"checkbox-icon\"><svg class=\"\" data-testid=\"IconCheckboxUnselected\" fill=\"none\" height=\"20\" viewBox=\"0 0 20 20\" width=\"20\" xmlns=\"http://www.w3.org/2000/svg\"><rect fill=\"white\" height=\"19\" rx=\"3.5\" stroke=\"#6F6F6F\" width=\"19\" x=\"0.5\" y=\"0.5\"></rect></svg></span>The Greater Knead (3)</label></li><li><label class=\"component--shop-sidebar-filters-checkbox global--form-text\"><input class=\"checkbox\" type=\"checkbox\"><span aria-hidden=\"true\" class=\"checkbox-icon\"><svg class=\"\" data-testid=\"IconCheckboxUnselected\" fill=\"none\" height=\"20\" viewBox=\"0 0 20 20\" width=\"20\" xmlns=\"http://www.w3.org/2000/svg\"><rect fill=\"white\" height=\"19\" rx=\"3.5\" stroke=\"#6F6F6F\" width=\"19\" x=\"0.5\" y=\"0.5\"></rect></svg></span>Tochi (3)</label></li><li><label class=\"component--shop-sidebar-filters-checkbox global--form-text\"><input class=\"checkbox\" type=\"checkbox\"><span aria-hidden=\"true\" class=\"checkbox-icon\"><svg class=\"\" data-testid=\"IconCheckboxUnselected\" fill=\"none\" height=\"20\" viewBox=\"0 0 20 20\" width=\"20\" xmlns=\"http://www.w3.org/2000/svg\"><rect fill=\"white\" height=\"19\" rx=\"3.5\" stroke=\"#6F6F6F\" width=\"19\" x=\"0.5\" y=\"0.5\"></rect></svg></span>Tutti (3)</label></li><li><label class=\"component--shop-sidebar-filters-checkbox global--form-text\"><input class=\"checkbox\" type=\"checkbox\"><span aria-hidden=\"true\" class=\"checkbox-icon\"><svg class=\"\" data-testid=\"IconCheckboxUnselected\" fill=\"none\" height=\"20\" viewBox=\"0 0 20 20\" width=\"20\" xmlns=\"http://www.w3.org/2000/svg\"><rect fill=\"white\" height=\"19\" rx=\"3.5\" stroke=\"#6F6F6F\" width=\"19\" x=\"0.5\" y=\"0.5\"></rect></svg></span>Vermont Smoke &amp; Cure (3)</label></li><li><label class=\"component--shop-sidebar-filters-checkbox global--form-text\"><input class=\"checkbox\" type=\"checkbox\"><span aria-hidden=\"true\" class=\"checkbox-icon\"><svg class=\"\" data-testid=\"IconCheckboxUnselected\" fill=\"none\" height=\"20\" viewBox=\"0 0 20 20\" width=\"20\" xmlns=\"http://www.w3.org/2000/svg\"><rect fill=\"white\" height=\"19\" rx=\"3.5\" stroke=\"#6F6F6F\" width=\"19\" x=\"0.5\" y=\"0.5\"></rect></svg></span>Wonderful (3)</label></li><li><label class=\"component--shop-sidebar-filters-checkbox global--form-text\"><input class=\"checkbox\" type=\"checkbox\"><span aria-hidden=\"true\" class=\"checkbox-icon\"><svg class=\"\" data-testid=\"IconCheckboxUnselected\" fill=\"none\" height=\"20\" viewBox=\"0 0 20 20\" width=\"20\" xmlns=\"http://www.w3.org/2000/svg\"><rect fill=\"white\" height=\"19\" rx=\"3.5\" stroke=\"#6F6F6F\" width=\"19\" x=\"0.5\" y=\"0.5\"></rect></svg></span>4505 Meats (2)</label></li><li><label class=\"component--shop-sidebar-filters-checkbox global--form-text\"><input class=\"checkbox\" type=\"checkbox\"><span aria-hidden=\"true\" class=\"checkbox-icon\"><svg class=\"\" data-testid=\"IconCheckboxUnselected\" fill=\"none\" height=\"20\" viewBox=\"0 0 20 20\" width=\"20\" xmlns=\"http://www.w3.org/2000/svg\"><rect fill=\"white\" height=\"19\" rx=\"3.5\" stroke=\"#6F6F6F\" width=\"19\" x=\"0.5\" y=\"0.5\"></rect></svg></span>Artisan Tropic (2)</label></li><li><label class=\"component--shop-sidebar-filters-checkbox global--form-text\"><input class=\"checkbox\" type=\"checkbox\"><span aria-hidden=\"true\" class=\"checkbox-icon\"><svg class=\"\" data-testid=\"IconCheckboxUnselected\" fill=\"none\" height=\"20\" viewBox=\"0 0 20 20\" width=\"20\" xmlns=\"http://www.w3.org/2000/svg\"><rect fill=\"white\" height=\"19\" rx=\"3.5\" stroke=\"#6F6F6F\" width=\"19\" x=\"0.5\" y=\"0.5\"></rect></svg></span>Bear (2)</label></li><li><label class=\"component--shop-sidebar-filters-checkbox global--form-text\"><input class=\"checkbox\" type=\"checkbox\"><span aria-hidden=\"true\" class=\"checkbox-icon\"><svg class=\"\" data-testid=\"IconCheckboxUnselected\" fill=\"none\" height=\"20\" viewBox=\"0 0 20 20\" width=\"20\" xmlns=\"http://www.w3.org/2000/svg\"><rect fill=\"white\" height=\"19\" rx=\"3.5\" stroke=\"#6F6F6F\" width=\"19\" x=\"0.5\" y=\"0.5\"></rect></svg></span>Biscoff (2)</label></li><li><label class=\"component--shop-sidebar-filters-checkbox global--form-text\"><input class=\"checkbox\" type=\"checkbox\"><span aria-hidden=\"true\" class=\"checkbox-icon\"><svg class=\"\" data-testid=\"IconCheckboxUnselected\" fill=\"none\" height=\"20\" viewBox=\"0 0 20 20\" width=\"20\" xmlns=\"http://www.w3.org/2000/svg\"><rect fill=\"white\" height=\"19\" rx=\"3.5\" stroke=\"#6F6F6F\" width=\"19\" x=\"0.5\" y=\"0.5\"></rect></svg></span>Black Jewell (2)</label></li><li><label class=\"component--shop-sidebar-filters-checkbox global--form-text\"><input class=\"checkbox\" type=\"checkbox\"><span aria-hidden=\"true\" class=\"checkbox-icon\"><svg class=\"\" data-testid=\"IconCheckboxUnselected\" fill=\"none\" height=\"20\" viewBox=\"0 0 20 20\" width=\"20\" xmlns=\"http://www.w3.org/2000/svg\"><rect fill=\"white\" height=\"19\" rx=\"3.5\" stroke=\"#6F6F6F\" width=\"19\" x=\"0.5\" y=\"0.5\"></rect></svg></span>Brami (2)</label></li><li><label class=\"component--shop-sidebar-filters-checkbox global--form-text\"><input class=\"checkbox\" type=\"checkbox\"><span aria-hidden=\"true\" class=\"checkbox-icon\"><svg class=\"\" data-testid=\"IconCheckboxUnselected\" fill=\"none\" height=\"20\" viewBox=\"0 0 20 20\" width=\"20\" xmlns=\"http://www.w3.org/2000/svg\"><rect fill=\"white\" height=\"19\" rx=\"3.5\" stroke=\"#6F6F6F\" width=\"19\" x=\"0.5\" y=\"0.5\"></rect></svg></span>Brownie Brittle (2)</label></li><li><label class=\"component--shop-sidebar-filters-checkbox global--form-text\"><input class=\"checkbox\" type=\"checkbox\"><span aria-hidden=\"true\" class=\"checkbox-icon\"><svg class=\"\" data-testid=\"IconCheckboxUnselected\" fill=\"none\" height=\"20\" viewBox=\"0 0 20 20\" width=\"20\" xmlns=\"http://www.w3.org/2000/svg\"><rect fill=\"white\" height=\"19\" rx=\"3.5\" stroke=\"#6F6F6F\" width=\"19\" x=\"0.5\" y=\"0.5\"></rect></svg></span>Cabot (2)</label></li><li><label class=\"component--shop-sidebar-filters-checkbox global--form-text\"><input class=\"checkbox\" type=\"checkbox\"><span aria-hidden=\"true\" class=\"checkbox-icon\"><svg class=\"\" data-testid=\"IconCheckboxUnselected\" fill=\"none\" height=\"20\" viewBox=\"0 0 20 20\" width=\"20\" xmlns=\"http://www.w3.org/2000/svg\"><rect fill=\"white\" height=\"19\" rx=\"3.5\" stroke=\"#6F6F6F\" width=\"19\" x=\"0.5\" y=\"0.5\"></rect></svg></span>Combos (2)</label></li><li><label class=\"component--shop-sidebar-filters-checkbox global--form-text\"><input class=\"checkbox\" type=\"checkbox\"><span aria-hidden=\"true\" class=\"checkbox-icon\"><svg class=\"\" data-testid=\"IconCheckboxUnselected\" fill=\"none\" height=\"20\" viewBox=\"0 0 20 20\" width=\"20\" xmlns=\"http://www.w3.org/2000/svg\"><rect fill=\"white\" height=\"19\" rx=\"3.5\" stroke=\"#6F6F6F\" width=\"19\" x=\"0.5\" y=\"0.5\"></rect></svg></span>David (2)</label></li><li><label class=\"component--shop-sidebar-filters-checkbox global--form-text\"><input class=\"checkbox\" type=\"checkbox\"><span aria-hidden=\"true\" class=\"checkbox-icon\"><svg class=\"\" data-testid=\"IconCheckboxUnselected\" fill=\"none\" height=\"20\" viewBox=\"0 0 20 20\" width=\"20\" xmlns=\"http://www.w3.org/2000/svg\"><rect fill=\"white\" height=\"19\" rx=\"3.5\" stroke=\"#6F6F6F\" width=\"19\" x=\"0.5\" y=\"0.5\"></rect></svg></span>Drake's (2)</label></li><li><label class=\"component--shop-sidebar-filters-checkbox global--form-text\"><input class=\"checkbox\" type=\"checkbox\"><span aria-hidden=\"true\" class=\"checkbox-icon\"><svg class=\"\" data-testid=\"IconCheckboxUnselected\" fill=\"none\" height=\"20\" viewBox=\"0 0 20 20\" width=\"20\" xmlns=\"http://www.w3.org/2000/svg\"><rect fill=\"white\" height=\"19\" rx=\"3.5\" stroke=\"#6F6F6F\" width=\"19\" x=\"0.5\" y=\"0.5\"></rect></svg></span>Easy Cheese (2)</label></li><li><label class=\"component--shop-sidebar-filters-checkbox global--form-text\"><input class=\"checkbox\" type=\"checkbox\"><span aria-hidden=\"true\" class=\"checkbox-icon\"><svg class=\"\" data-testid=\"IconCheckboxUnselected\" fill=\"none\" height=\"20\" viewBox=\"0 0 20 20\" width=\"20\" xmlns=\"http://www.w3.org/2000/svg\"><rect fill=\"white\" height=\"19\" rx=\"3.5\" stroke=\"#6F6F6F\" width=\"19\" x=\"0.5\" y=\"0.5\"></rect></svg></span>Element (2)</label></li><li><label class=\"component--shop-sidebar-filters-checkbox global--form-text\"><input class=\"checkbox\" type=\"checkbox\"><span aria-hidden=\"true\" class=\"checkbox-icon\"><svg class=\"\" data-testid=\"IconCheckboxUnselected\" fill=\"none\" height=\"20\" viewBox=\"0 0 20 20\" width=\"20\" xmlns=\"http://www.w3.org/2000/svg\"><rect fill=\"white\" height=\"19\" rx=\"3.5\" stroke=\"#6F6F6F\" width=\"19\" x=\"0.5\" y=\"0.5\"></rect></svg></span>Ella's Flats (2)</label></li><li><label class=\"component--shop-sidebar-filters-checkbox global--form-text\"><input class=\"checkbox\" type=\"checkbox\"><span aria-hidden=\"true\" class=\"checkbox-icon\"><svg class=\"\" data-testid=\"IconCheckboxUnselected\" fill=\"none\" height=\"20\" viewBox=\"0 0 20 20\" width=\"20\" xmlns=\"http://www.w3.org/2000/svg\"><rect fill=\"white\" height=\"19\" rx=\"3.5\" stroke=\"#6F6F6F\" width=\"19\" x=\"0.5\" y=\"0.5\"></rect></svg></span>Famous Amos (2)</label></li><li><label class=\"component--shop-sidebar-filters-checkbox global--form-text\"><input class=\"checkbox\" type=\"checkbox\"><span aria-hidden=\"true\" class=\"checkbox-icon\"><svg class=\"\" data-testid=\"IconCheckboxUnselected\" fill=\"none\" height=\"20\" viewBox=\"0 0 20 20\" width=\"20\" xmlns=\"http://www.w3.org/2000/svg\"><rect fill=\"white\" height=\"19\" rx=\"3.5\" stroke=\"#6F6F6F\" width=\"19\" x=\"0.5\" y=\"0.5\"></rect></svg></span>Farmer Jon's (2)</label></li><li><label class=\"component--shop-sidebar-filters-checkbox global--form-text\"><input class=\"checkbox\" type=\"checkbox\"><span aria-hidden=\"true\" class=\"checkbox-icon\"><svg class=\"\" data-testid=\"IconCheckboxUnselected\" fill=\"none\" height=\"20\" viewBox=\"0 0 20 20\" width=\"20\" xmlns=\"http://www.w3.org/2000/svg\"><rect fill=\"white\" height=\"19\" rx=\"3.5\" stroke=\"#6F6F6F\" width=\"19\" x=\"0.5\" y=\"0.5\"></rect></svg></span>Flock (2)</label></li><li><label class=\"component--shop-sidebar-filters-checkbox global--form-text\"><input class=\"checkbox\" type=\"checkbox\"><span aria-hidden=\"true\" class=\"checkbox-icon\"><svg class=\"\" data-testid=\"IconCheckboxUnselected\" fill=\"none\" height=\"20\" viewBox=\"0 0 20 20\" width=\"20\" xmlns=\"http://www.w3.org/2000/svg\"><rect fill=\"white\" height=\"19\" rx=\"3.5\" stroke=\"#6F6F6F\" width=\"19\" x=\"0.5\" y=\"0.5\"></rect></svg></span>Flora (2)</label></li><li><label class=\"component--shop-sidebar-filters-checkbox global--form-text\"><input class=\"checkbox\" type=\"checkbox\"><span aria-hidden=\"true\" class=\"checkbox-icon\"><svg class=\"\" data-testid=\"IconCheckboxUnselected\" fill=\"none\" height=\"20\" viewBox=\"0 0 20 20\" width=\"20\" xmlns=\"http://www.w3.org/2000/svg\"><rect fill=\"white\" height=\"19\" rx=\"3.5\" stroke=\"#6F6F6F\" width=\"19\" x=\"0.5\" y=\"0.5\"></rect></svg></span>Food Should Taste Good (2)</label></li><li><label class=\"component--shop-sidebar-filters-checkbox global--form-text\"><input class=\"checkbox\" type=\"checkbox\"><span aria-hidden=\"true\" class=\"checkbox-icon\"><svg class=\"\" data-testid=\"IconCheckboxUnselected\" fill=\"none\" height=\"20\" viewBox=\"0 0 20 20\" width=\"20\" xmlns=\"http://www.w3.org/2000/svg\"><rect fill=\"white\" height=\"19\" rx=\"3.5\" stroke=\"#6F6F6F\" width=\"19\" x=\"0.5\" y=\"0.5\"></rect></svg></span>Freakin' Wholesome® (2)</label></li><li><label class=\"component--shop-sidebar-filters-checkbox global--form-text\"><input class=\"checkbox\" type=\"checkbox\"><span aria-hidden=\"true\" class=\"checkbox-icon\"><svg class=\"\" data-testid=\"IconCheckboxUnselected\" fill=\"none\" height=\"20\" viewBox=\"0 0 20 20\" width=\"20\" xmlns=\"http://www.w3.org/2000/svg\"><rect fill=\"white\" height=\"19\" rx=\"3.5\" stroke=\"#6F6F6F\" width=\"19\" x=\"0.5\" y=\"0.5\"></rect></svg></span>Free To Eat (2)</label></li><li><label class=\"component--shop-sidebar-filters-checkbox global--form-text\"><input class=\"checkbox\" type=\"checkbox\"><span aria-hidden=\"true\" class=\"checkbox-icon\"><svg class=\"\" data-testid=\"IconCheckboxUnselected\" fill=\"none\" height=\"20\" viewBox=\"0 0 20 20\" width=\"20\" xmlns=\"http://www.w3.org/2000/svg\"><rect fill=\"white\" height=\"19\" rx=\"3.5\" stroke=\"#6F6F6F\" width=\"19\" x=\"0.5\" y=\"0.5\"></rect></svg></span>Funables (2)</label></li><li><label class=\"component--shop-sidebar-filters-checkbox global--form-text\"><input class=\"checkbox\" type=\"checkbox\"><span aria-hidden=\"true\" class=\"checkbox-icon\"><svg class=\"\" data-testid=\"IconCheckboxUnselected\" fill=\"none\" height=\"20\" viewBox=\"0 0 20 20\" width=\"20\" xmlns=\"http://www.w3.org/2000/svg\"><rect fill=\"white\" height=\"19\" rx=\"3.5\" stroke=\"#6F6F6F\" width=\"19\" x=\"0.5\" y=\"0.5\"></rect></svg></span>Garden of Eatin' (2)</label></li><li><label class=\"component--shop-sidebar-filters-checkbox global--form-text\"><input class=\"checkbox\" type=\"checkbox\"><span aria-hidden=\"true\" class=\"checkbox-icon\"><svg class=\"\" data-testid=\"IconCheckboxUnselected\" fill=\"none\" height=\"20\" viewBox=\"0 0 20 20\" width=\"20\" xmlns=\"http://www.w3.org/2000/svg\"><rect fill=\"white\" height=\"19\" rx=\"3.5\" stroke=\"#6F6F6F\" width=\"19\" x=\"0.5\" y=\"0.5\"></rect></svg></span>Golden Oreo (2)</label></li><li><label class=\"component--shop-sidebar-filters-checkbox global--form-text\"><input class=\"checkbox\" type=\"checkbox\"><span aria-hidden=\"true\" class=\"checkbox-icon\"><svg class=\"\" data-testid=\"IconCheckboxUnselected\" fill=\"none\" height=\"20\" viewBox=\"0 0 20 20\" width=\"20\" xmlns=\"http://www.w3.org/2000/svg\"><rect fill=\"white\" height=\"19\" rx=\"3.5\" stroke=\"#6F6F6F\" width=\"19\" x=\"0.5\" y=\"0.5\"></rect></svg></span>Gushers (2)</label></li><li><label class=\"component--shop-sidebar-filters-checkbox global--form-text\"><input class=\"checkbox\" type=\"checkbox\"><span aria-hidden=\"true\" class=\"checkbox-icon\"><svg class=\"\" data-testid=\"IconCheckboxUnselected\" fill=\"none\" height=\"20\" viewBox=\"0 0 20 20\" width=\"20\" xmlns=\"http://www.w3.org/2000/svg\"><rect fill=\"white\" height=\"19\" rx=\"3.5\" stroke=\"#6F6F6F\" width=\"19\" x=\"0.5\" y=\"0.5\"></rect></svg></span>Hippie Snacks (2)</label></li><li><label class=\"component--shop-sidebar-filters-checkbox global--form-text\"><input class=\"checkbox\" type=\"checkbox\"><span aria-hidden=\"true\" class=\"checkbox-icon\"><svg class=\"\" data-testid=\"IconCheckboxUnselected\" fill=\"none\" height=\"20\" viewBox=\"0 0 20 20\" width=\"20\" xmlns=\"http://www.w3.org/2000/svg\"><rect fill=\"white\" height=\"19\" rx=\"3.5\" stroke=\"#6F6F6F\" width=\"19\" x=\"0.5\" y=\"0.5\"></rect></svg></span>Irvins (2)</label></li><li><label class=\"component--shop-sidebar-filters-checkbox global--form-text\"><input class=\"checkbox\" type=\"checkbox\"><span aria-hidden=\"true\" class=\"checkbox-icon\"><svg class=\"\" data-testid=\"IconCheckboxUnselected\" fill=\"none\" height=\"20\" viewBox=\"0 0 20 20\" width=\"20\" xmlns=\"http://www.w3.org/2000/svg\"><rect fill=\"white\" height=\"19\" rx=\"3.5\" stroke=\"#6F6F6F\" width=\"19\" x=\"0.5\" y=\"0.5\"></rect></svg></span>Jackson's (2)</label></li><li><label class=\"component--shop-sidebar-filters-checkbox global--form-text\"><input class=\"checkbox\" type=\"checkbox\"><span aria-hidden=\"true\" class=\"checkbox-icon\"><svg class=\"\" data-testid=\"IconCheckboxUnselected\" fill=\"none\" height=\"20\" viewBox=\"0 0 20 20\" width=\"20\" xmlns=\"http://www.w3.org/2000/svg\"><rect fill=\"white\" height=\"19\" rx=\"3.5\" stroke=\"#6F6F6F\" width=\"19\" x=\"0.5\" y=\"0.5\"></rect></svg></span>Like Air (2)</label></li><li><label class=\"component--shop-sidebar-filters-checkbox global--form-text\"><input class=\"checkbox\" type=\"checkbox\"><span aria-hidden=\"true\" class=\"checkbox-icon\"><svg class=\"\" data-testid=\"IconCheckboxUnselected\" fill=\"none\" height=\"20\" viewBox=\"0 0 20 20\" width=\"20\" xmlns=\"http://www.w3.org/2000/svg\"><rect fill=\"white\" height=\"19\" rx=\"3.5\" stroke=\"#6F6F6F\" width=\"19\" x=\"0.5\" y=\"0.5\"></rect></svg></span>Loacker (2)</label></li><li><label class=\"component--shop-sidebar-filters-checkbox global--form-text\"><input class=\"checkbox\" type=\"checkbox\"><span aria-hidden=\"true\" class=\"checkbox-icon\"><svg class=\"\" data-testid=\"IconCheckboxUnselected\" fill=\"none\" height=\"20\" viewBox=\"0 0 20 20\" width=\"20\" xmlns=\"http://www.w3.org/2000/svg\"><rect fill=\"white\" height=\"19\" rx=\"3.5\" stroke=\"#6F6F6F\" width=\"19\" x=\"0.5\" y=\"0.5\"></rect></svg></span>Made Good (2)</label></li><li><label class=\"component--shop-sidebar-filters-checkbox global--form-text\"><input class=\"checkbox\" type=\"checkbox\"><span aria-hidden=\"true\" class=\"checkbox-icon\"><svg class=\"\" data-testid=\"IconCheckboxUnselected\" fill=\"none\" height=\"20\" viewBox=\"0 0 20 20\" width=\"20\" xmlns=\"http://www.w3.org/2000/svg\"><rect fill=\"white\" height=\"19\" rx=\"3.5\" stroke=\"#6F6F6F\" width=\"19\" x=\"0.5\" y=\"0.5\"></rect></svg></span>Made in Nature (2)</label></li><li><label class=\"component--shop-sidebar-filters-checkbox global--form-text\"><input class=\"checkbox\" type=\"checkbox\"><span aria-hidden=\"true\" class=\"checkbox-icon\"><svg class=\"\" data-testid=\"IconCheckboxUnselected\" fill=\"none\" height=\"20\" viewBox=\"0 0 20 20\" width=\"20\" xmlns=\"http://www.w3.org/2000/svg\"><rect fill=\"white\" height=\"19\" rx=\"3.5\" stroke=\"#6F6F6F\" width=\"19\" x=\"0.5\" y=\"0.5\"></rect></svg></span>Mariani (2)</label></li><li><label class=\"component--shop-sidebar-filters-checkbox global--form-text\"><input class=\"checkbox\" type=\"checkbox\"><span aria-hidden=\"true\" class=\"checkbox-icon\"><svg class=\"\" data-testid=\"IconCheckboxUnselected\" fill=\"none\" height=\"20\" viewBox=\"0 0 20 20\" width=\"20\" xmlns=\"http://www.w3.org/2000/svg\"><rect fill=\"white\" height=\"19\" rx=\"3.5\" stroke=\"#6F6F6F\" width=\"19\" x=\"0.5\" y=\"0.5\"></rect></svg></span>Maxine's Heavenly (2)</label></li><li><label class=\"component--shop-sidebar-filters-checkbox global--form-text\"><input class=\"checkbox\" type=\"checkbox\"><span aria-hidden=\"true\" class=\"checkbox-icon\"><svg class=\"\" data-testid=\"IconCheckboxUnselected\" fill=\"none\" height=\"20\" viewBox=\"0 0 20 20\" width=\"20\" xmlns=\"http://www.w3.org/2000/svg\"><rect fill=\"white\" height=\"19\" rx=\"3.5\" stroke=\"#6F6F6F\" width=\"19\" x=\"0.5\" y=\"0.5\"></rect></svg></span>Mrs. Renfro's (2)</label></li><li><label class=\"component--shop-sidebar-filters-checkbox global--form-text\"><input class=\"checkbox\" type=\"checkbox\"><span aria-hidden=\"true\" class=\"checkbox-icon\"><svg class=\"\" data-testid=\"IconCheckboxUnselected\" fill=\"none\" height=\"20\" viewBox=\"0 0 20 20\" width=\"20\" xmlns=\"http://www.w3.org/2000/svg\"><rect fill=\"white\" height=\"19\" rx=\"3.5\" stroke=\"#6F6F6F\" width=\"19\" x=\"0.5\" y=\"0.5\"></rect></svg></span>Munchies (2)</label></li><li><label class=\"component--shop-sidebar-filters-checkbox global--form-text\"><input class=\"checkbox\" type=\"checkbox\"><span aria-hidden=\"true\" class=\"checkbox-icon\"><svg class=\"\" data-testid=\"IconCheckboxUnselected\" fill=\"none\" height=\"20\" viewBox=\"0 0 20 20\" width=\"20\" xmlns=\"http://www.w3.org/2000/svg\"><rect fill=\"white\" height=\"19\" rx=\"3.5\" stroke=\"#6F6F6F\" width=\"19\" x=\"0.5\" y=\"0.5\"></rect></svg></span>New York Chips (2)</label></li><li><label class=\"component--shop-sidebar-filters-checkbox global--form-text\"><input class=\"checkbox\" type=\"checkbox\"><span aria-hidden=\"true\" class=\"checkbox-icon\"><svg class=\"\" data-testid=\"IconCheckboxUnselected\" fill=\"none\" height=\"20\" viewBox=\"0 0 20 20\" width=\"20\" xmlns=\"http://www.w3.org/2000/svg\"><rect fill=\"white\" height=\"19\" rx=\"3.5\" stroke=\"#6F6F6F\" width=\"19\" x=\"0.5\" y=\"0.5\"></rect></svg></span>Old London (2)</label></li><li><label class=\"component--shop-sidebar-filters-checkbox global--form-text\"><input class=\"checkbox\" type=\"checkbox\"><span aria-hidden=\"true\" class=\"checkbox-icon\"><svg class=\"\" data-testid=\"IconCheckboxUnselected\" fill=\"none\" height=\"20\" viewBox=\"0 0 20 20\" width=\"20\" xmlns=\"http://www.w3.org/2000/svg\"><rect fill=\"white\" height=\"19\" rx=\"3.5\" stroke=\"#6F6F6F\" width=\"19\" x=\"0.5\" y=\"0.5\"></rect></svg></span>P-Nuff Crunch (2)</label></li><li><label class=\"component--shop-sidebar-filters-checkbox global--form-text\"><input class=\"checkbox\" type=\"checkbox\"><span aria-hidden=\"true\" class=\"checkbox-icon\"><svg class=\"\" data-testid=\"IconCheckboxUnselected\" fill=\"none\" height=\"20\" viewBox=\"0 0 20 20\" width=\"20\" xmlns=\"http://www.w3.org/2000/svg\"><rect fill=\"white\" height=\"19\" rx=\"3.5\" stroke=\"#6F6F6F\" width=\"19\" x=\"0.5\" y=\"0.5\"></rect></svg></span>Patagonia (2)</label></li><li><label class=\"component--shop-sidebar-filters-checkbox global--form-text\"><input class=\"checkbox\" type=\"checkbox\"><span aria-hidden=\"true\" class=\"checkbox-icon\"><svg class=\"\" data-testid=\"IconCheckboxUnselected\" fill=\"none\" height=\"20\" viewBox=\"0 0 20 20\" width=\"20\" xmlns=\"http://www.w3.org/2000/svg\"><rect fill=\"white\" height=\"19\" rx=\"3.5\" stroke=\"#6F6F6F\" width=\"19\" x=\"0.5\" y=\"0.5\"></rect></svg></span>Pepperidge Farm® (2)</label></li><li><label class=\"component--shop-sidebar-filters-checkbox global--form-text\"><input class=\"checkbox\" type=\"checkbox\"><span aria-hidden=\"true\" class=\"checkbox-icon\"><svg class=\"\" data-testid=\"IconCheckboxUnselected\" fill=\"none\" height=\"20\" viewBox=\"0 0 20 20\" width=\"20\" xmlns=\"http://www.w3.org/2000/svg\"><rect fill=\"white\" height=\"19\" rx=\"3.5\" stroke=\"#6F6F6F\" width=\"19\" x=\"0.5\" y=\"0.5\"></rect></svg></span>Pipcorn (2)</label></li><li><label class=\"component--shop-sidebar-filters-checkbox global--form-text\"><input class=\"checkbox\" type=\"checkbox\"><span aria-hidden=\"true\" class=\"checkbox-icon\"><svg class=\"\" data-testid=\"IconCheckboxUnselected\" fill=\"none\" height=\"20\" viewBox=\"0 0 20 20\" width=\"20\" xmlns=\"http://www.w3.org/2000/svg\"><rect fill=\"white\" height=\"19\" rx=\"3.5\" stroke=\"#6F6F6F\" width=\"19\" x=\"0.5\" y=\"0.5\"></rect></svg></span>Pirates Booty (2)</label></li><li><label class=\"component--shop-sidebar-filters-checkbox global--form-text\"><input class=\"checkbox\" type=\"checkbox\"><span aria-hidden=\"true\" class=\"checkbox-icon\"><svg class=\"\" data-testid=\"IconCheckboxUnselected\" fill=\"none\" height=\"20\" viewBox=\"0 0 20 20\" width=\"20\" xmlns=\"http://www.w3.org/2000/svg\"><rect fill=\"white\" height=\"19\" rx=\"3.5\" stroke=\"#6F6F6F\" width=\"19\" x=\"0.5\" y=\"0.5\"></rect></svg></span>Popchips (2)</label></li><li><label class=\"component--shop-sidebar-filters-checkbox global--form-text\"><input class=\"checkbox\" type=\"checkbox\"><span aria-hidden=\"true\" class=\"checkbox-icon\"><svg class=\"\" data-testid=\"IconCheckboxUnselected\" fill=\"none\" height=\"20\" viewBox=\"0 0 20 20\" width=\"20\" xmlns=\"http://www.w3.org/2000/svg\"><rect fill=\"white\" height=\"19\" rx=\"3.5\" stroke=\"#6F6F6F\" width=\"19\" x=\"0.5\" y=\"0.5\"></rect></svg></span>Poppy (2)</label></li><li><label class=\"component--shop-sidebar-filters-checkbox global--form-text\"><input class=\"checkbox\" type=\"checkbox\"><span aria-hidden=\"true\" class=\"checkbox-icon\"><svg class=\"\" data-testid=\"IconCheckboxUnselected\" fill=\"none\" height=\"20\" viewBox=\"0 0 20 20\" width=\"20\" xmlns=\"http://www.w3.org/2000/svg\"><rect fill=\"white\" height=\"19\" rx=\"3.5\" stroke=\"#6F6F6F\" width=\"19\" x=\"0.5\" y=\"0.5\"></rect></svg></span>Prana Organic (2)</label></li><li><label class=\"component--shop-sidebar-filters-checkbox global--form-text\"><input class=\"checkbox\" type=\"checkbox\"><span aria-hidden=\"true\" class=\"checkbox-icon\"><svg class=\"\" data-testid=\"IconCheckboxUnselected\" fill=\"none\" height=\"20\" viewBox=\"0 0 20 20\" width=\"20\" xmlns=\"http://www.w3.org/2000/svg\"><rect fill=\"white\" height=\"19\" rx=\"3.5\" stroke=\"#6F6F6F\" width=\"19\" x=\"0.5\" y=\"0.5\"></rect></svg></span>Pretzelized Snacks (2)</label></li><li><label class=\"component--shop-sidebar-filters-checkbox global--form-text\"><input class=\"checkbox\" type=\"checkbox\"><span aria-hidden=\"true\" class=\"checkbox-icon\"><svg class=\"\" data-testid=\"IconCheckboxUnselected\" fill=\"none\" height=\"20\" viewBox=\"0 0 20 20\" width=\"20\" xmlns=\"http://www.w3.org/2000/svg\"><rect fill=\"white\" height=\"19\" rx=\"3.5\" stroke=\"#6F6F6F\" width=\"19\" x=\"0.5\" y=\"0.5\"></rect></svg></span>Primo &amp; Marys (2)</label></li><li><label class=\"component--shop-sidebar-filters-checkbox global--form-text\"><input class=\"checkbox\" type=\"checkbox\"><span aria-hidden=\"true\" class=\"checkbox-icon\"><svg class=\"\" data-testid=\"IconCheckboxUnselected\" fill=\"none\" height=\"20\" viewBox=\"0 0 20 20\" width=\"20\" xmlns=\"http://www.w3.org/2000/svg\"><rect fill=\"white\" height=\"19\" rx=\"3.5\" stroke=\"#6F6F6F\" width=\"19\" x=\"0.5\" y=\"0.5\"></rect></svg></span>Purplesful Snacking (2)</label></li><li><label class=\"component--shop-sidebar-filters-checkbox global--form-text\"><input class=\"checkbox\" type=\"checkbox\"><span aria-hidden=\"true\" class=\"checkbox-icon\"><svg class=\"\" data-testid=\"IconCheckboxUnselected\" fill=\"none\" height=\"20\" viewBox=\"0 0 20 20\" width=\"20\" xmlns=\"http://www.w3.org/2000/svg\"><rect fill=\"white\" height=\"19\" rx=\"3.5\" stroke=\"#6F6F6F\" width=\"19\" x=\"0.5\" y=\"0.5\"></rect></svg></span>Quest (2)</label></li><li><label class=\"component--shop-sidebar-filters-checkbox global--form-text\"><input class=\"checkbox\" type=\"checkbox\"><span aria-hidden=\"true\" class=\"checkbox-icon\"><svg class=\"\" data-testid=\"IconCheckboxUnselected\" fill=\"none\" height=\"20\" viewBox=\"0 0 20 20\" width=\"20\" xmlns=\"http://www.w3.org/2000/svg\"><rect fill=\"white\" height=\"19\" rx=\"3.5\" stroke=\"#6F6F6F\" width=\"19\" x=\"0.5\" y=\"0.5\"></rect></svg></span>Rib Rack (2)</label></li><li><label class=\"component--shop-sidebar-filters-checkbox global--form-text\"><input class=\"checkbox\" type=\"checkbox\"><span aria-hidden=\"true\" class=\"checkbox-icon\"><svg class=\"\" data-testid=\"IconCheckboxUnselected\" fill=\"none\" height=\"20\" viewBox=\"0 0 20 20\" width=\"20\" xmlns=\"http://www.w3.org/2000/svg\"><rect fill=\"white\" height=\"19\" rx=\"3.5\" stroke=\"#6F6F6F\" width=\"19\" x=\"0.5\" y=\"0.5\"></rect></svg></span>Rivalz (2)</label></li><li><label class=\"component--shop-sidebar-filters-checkbox global--form-text\"><input class=\"checkbox\" type=\"checkbox\"><span aria-hidden=\"true\" class=\"checkbox-icon\"><svg class=\"\" data-testid=\"IconCheckboxUnselected\" fill=\"none\" height=\"20\" viewBox=\"0 0 20 20\" width=\"20\" xmlns=\"http://www.w3.org/2000/svg\"><rect fill=\"white\" height=\"19\" rx=\"3.5\" stroke=\"#6F6F6F\" width=\"19\" x=\"0.5\" y=\"0.5\"></rect></svg></span>SeedWise (2)</label></li><li><label class=\"component--shop-sidebar-filters-checkbox global--form-text\"><input class=\"checkbox\" type=\"checkbox\"><span aria-hidden=\"true\" class=\"checkbox-icon\"><svg class=\"\" data-testid=\"IconCheckboxUnselected\" fill=\"none\" height=\"20\" viewBox=\"0 0 20 20\" width=\"20\" xmlns=\"http://www.w3.org/2000/svg\"><rect fill=\"white\" height=\"19\" rx=\"3.5\" stroke=\"#6F6F6F\" width=\"19\" x=\"0.5\" y=\"0.5\"></rect></svg></span>Seneca (2)</label></li><li><label class=\"component--shop-sidebar-filters-checkbox global--form-text\"><input class=\"checkbox\" type=\"checkbox\"><span aria-hidden=\"true\" class=\"checkbox-icon\"><svg class=\"\" data-testid=\"IconCheckboxUnselected\" fill=\"none\" height=\"20\" viewBox=\"0 0 20 20\" width=\"20\" xmlns=\"http://www.w3.org/2000/svg\"><rect fill=\"white\" height=\"19\" rx=\"3.5\" stroke=\"#6F6F6F\" width=\"19\" x=\"0.5\" y=\"0.5\"></rect></svg></span>Sheila G's (2)</label></li><li><label class=\"component--shop-sidebar-filters-checkbox global--form-text\"><input class=\"checkbox\" type=\"checkbox\"><span aria-hidden=\"true\" class=\"checkbox-icon\"><svg class=\"\" data-testid=\"IconCheckboxUnselected\" fill=\"none\" height=\"20\" viewBox=\"0 0 20 20\" width=\"20\" xmlns=\"http://www.w3.org/2000/svg\"><rect fill=\"white\" height=\"19\" rx=\"3.5\" stroke=\"#6F6F6F\" width=\"19\" x=\"0.5\" y=\"0.5\"></rect></svg></span>Slim Jim (2)</label></li><li><label class=\"component--shop-sidebar-filters-checkbox global--form-text\"><input class=\"checkbox\" type=\"checkbox\"><span aria-hidden=\"true\" class=\"checkbox-icon\"><svg class=\"\" data-testid=\"IconCheckboxUnselected\" fill=\"none\" height=\"20\" viewBox=\"0 0 20 20\" width=\"20\" xmlns=\"http://www.w3.org/2000/svg\"><rect fill=\"white\" height=\"19\" rx=\"3.5\" stroke=\"#6F6F6F\" width=\"19\" x=\"0.5\" y=\"0.5\"></rect></svg></span>Snack Mates (2)</label></li><li><label class=\"component--shop-sidebar-filters-checkbox global--form-text\"><input class=\"checkbox\" type=\"checkbox\"><span aria-hidden=\"true\" class=\"checkbox-icon\"><svg class=\"\" data-testid=\"IconCheckboxUnselected\" fill=\"none\" height=\"20\" viewBox=\"0 0 20 20\" width=\"20\" xmlns=\"http://www.w3.org/2000/svg\"><rect fill=\"white\" height=\"19\" rx=\"3.5\" stroke=\"#6F6F6F\" width=\"19\" x=\"0.5\" y=\"0.5\"></rect></svg></span>Snyder's-Lance (2)</label></li><li><label class=\"component--shop-sidebar-filters-checkbox global--form-text\"><input class=\"checkbox\" type=\"checkbox\"><span aria-hidden=\"true\" class=\"checkbox-icon\"><svg class=\"\" data-testid=\"IconCheckboxUnselected\" fill=\"none\" height=\"20\" viewBox=\"0 0 20 20\" width=\"20\" xmlns=\"http://www.w3.org/2000/svg\"><rect fill=\"white\" height=\"19\" rx=\"3.5\" stroke=\"#6F6F6F\" width=\"19\" x=\"0.5\" y=\"0.5\"></rect></svg></span>Stellar (2)</label></li><li><label class=\"component--shop-sidebar-filters-checkbox global--form-text\"><input class=\"checkbox\" type=\"checkbox\"><span aria-hidden=\"true\" class=\"checkbox-icon\"><svg class=\"\" data-testid=\"IconCheckboxUnselected\" fill=\"none\" height=\"20\" viewBox=\"0 0 20 20\" width=\"20\" xmlns=\"http://www.w3.org/2000/svg\"><rect fill=\"white\" height=\"19\" rx=\"3.5\" stroke=\"#6F6F6F\" width=\"19\" x=\"0.5\" y=\"0.5\"></rect></svg></span>Stonehedge Farms (2)</label></li><li><label class=\"component--shop-sidebar-filters-checkbox global--form-text\"><input class=\"checkbox\" type=\"checkbox\"><span aria-hidden=\"true\" class=\"checkbox-icon\"><svg class=\"\" data-testid=\"IconCheckboxUnselected\" fill=\"none\" height=\"20\" viewBox=\"0 0 20 20\" width=\"20\" xmlns=\"http://www.w3.org/2000/svg\"><rect fill=\"white\" height=\"19\" rx=\"3.5\" stroke=\"#6F6F6F\" width=\"19\" x=\"0.5\" y=\"0.5\"></rect></svg></span>Stony Brook (2)</label></li><li><label class=\"component--shop-sidebar-filters-checkbox global--form-text\"><input class=\"checkbox\" type=\"checkbox\"><span aria-hidden=\"true\" class=\"checkbox-icon\"><svg class=\"\" data-testid=\"IconCheckboxUnselected\" fill=\"none\" height=\"20\" viewBox=\"0 0 20 20\" width=\"20\" xmlns=\"http://www.w3.org/2000/svg\"><rect fill=\"white\" height=\"19\" rx=\"3.5\" stroke=\"#6F6F6F\" width=\"19\" x=\"0.5\" y=\"0.5\"></rect></svg></span>Sun Tropics (2)</label></li><li><label class=\"component--shop-sidebar-filters-checkbox global--form-text\"><input class=\"checkbox\" type=\"checkbox\"><span aria-hidden=\"true\" class=\"checkbox-icon\"><svg class=\"\" data-testid=\"IconCheckboxUnselected\" fill=\"none\" height=\"20\" viewBox=\"0 0 20 20\" width=\"20\" xmlns=\"http://www.w3.org/2000/svg\"><rect fill=\"white\" height=\"19\" rx=\"3.5\" stroke=\"#6F6F6F\" width=\"19\" x=\"0.5\" y=\"0.5\"></rect></svg></span>Taali (2)</label></li><li><label class=\"component--shop-sidebar-filters-checkbox global--form-text\"><input class=\"checkbox\" type=\"checkbox\"><span aria-hidden=\"true\" class=\"checkbox-icon\"><svg class=\"\" data-testid=\"IconCheckboxUnselected\" fill=\"none\" height=\"20\" viewBox=\"0 0 20 20\" width=\"20\" xmlns=\"http://www.w3.org/2000/svg\"><rect fill=\"white\" height=\"19\" rx=\"3.5\" stroke=\"#6F6F6F\" width=\"19\" x=\"0.5\" y=\"0.5\"></rect></svg></span>Terrell's (2)</label></li><li><label class=\"component--shop-sidebar-filters-checkbox global--form-text\"><input class=\"checkbox\" type=\"checkbox\"><span aria-hidden=\"true\" class=\"checkbox-icon\"><svg class=\"\" data-testid=\"IconCheckboxUnselected\" fill=\"none\" height=\"20\" viewBox=\"0 0 20 20\" width=\"20\" xmlns=\"http://www.w3.org/2000/svg\"><rect fill=\"white\" height=\"19\" rx=\"3.5\" stroke=\"#6F6F6F\" width=\"19\" x=\"0.5\" y=\"0.5\"></rect></svg></span>Tillamook Country Smoker (2)</label></li><li><label class=\"component--shop-sidebar-filters-checkbox global--form-text\"><input class=\"checkbox\" type=\"checkbox\"><span aria-hidden=\"true\" class=\"checkbox-icon\"><svg class=\"\" data-testid=\"IconCheckboxUnselected\" fill=\"none\" height=\"20\" viewBox=\"0 0 20 20\" width=\"20\" xmlns=\"http://www.w3.org/2000/svg\"><rect fill=\"white\" height=\"19\" rx=\"3.5\" stroke=\"#6F6F6F\" width=\"19\" x=\"0.5\" y=\"0.5\"></rect></svg></span>Todd's Better Snacks (2)</label></li><li><label class=\"component--shop-sidebar-filters-checkbox global--form-text\"><input class=\"checkbox\" type=\"checkbox\"><span aria-hidden=\"true\" class=\"checkbox-icon\"><svg class=\"\" data-testid=\"IconCheckboxUnselected\" fill=\"none\" height=\"20\" viewBox=\"0 0 20 20\" width=\"20\" xmlns=\"http://www.w3.org/2000/svg\"><rect fill=\"white\" height=\"19\" rx=\"3.5\" stroke=\"#6F6F6F\" width=\"19\" x=\"0.5\" y=\"0.5\"></rect></svg></span>VERMONT (2)</label></li><li><label class=\"component--shop-sidebar-filters-checkbox global--form-text\"><input class=\"checkbox\" type=\"checkbox\"><span aria-hidden=\"true\" class=\"checkbox-icon\"><svg class=\"\" data-testid=\"IconCheckboxUnselected\" fill=\"none\" height=\"20\" viewBox=\"0 0 20 20\" width=\"20\" xmlns=\"http://www.w3.org/2000/svg\"><rect fill=\"white\" height=\"19\" rx=\"3.5\" stroke=\"#6F6F6F\" width=\"19\" x=\"0.5\" y=\"0.5\"></rect></svg></span>Veggie Rob's (2)</label></li><li><label class=\"component--shop-sidebar-filters-checkbox global--form-text\"><input class=\"checkbox\" type=\"checkbox\"><span aria-hidden=\"true\" class=\"checkbox-icon\"><svg class=\"\" data-testid=\"IconCheckboxUnselected\" fill=\"none\" height=\"20\" viewBox=\"0 0 20 20\" width=\"20\" xmlns=\"http://www.w3.org/2000/svg\"><rect fill=\"white\" height=\"19\" rx=\"3.5\" stroke=\"#6F6F6F\" width=\"19\" x=\"0.5\" y=\"0.5\"></rect></svg></span>Walker's (2)</label></li><li><label class=\"component--shop-sidebar-filters-checkbox global--form-text\"><input class=\"checkbox\" type=\"checkbox\"><span aria-hidden=\"true\" class=\"checkbox-icon\"><svg class=\"\" data-testid=\"IconCheckboxUnselected\" fill=\"none\" height=\"20\" viewBox=\"0 0 20 20\" width=\"20\" xmlns=\"http://www.w3.org/2000/svg\"><rect fill=\"white\" height=\"19\" rx=\"3.5\" stroke=\"#6F6F6F\" width=\"19\" x=\"0.5\" y=\"0.5\"></rect></svg></span>Wege of Hanover (2)</label></li><li><label class=\"component--shop-sidebar-filters-checkbox global--form-text\"><input class=\"checkbox\" type=\"checkbox\"><span aria-hidden=\"true\" class=\"checkbox-icon\"><svg class=\"\" data-testid=\"IconCheckboxUnselected\" fill=\"none\" height=\"20\" viewBox=\"0 0 20 20\" width=\"20\" xmlns=\"http://www.w3.org/2000/svg\"><rect fill=\"white\" height=\"19\" rx=\"3.5\" stroke=\"#6F6F6F\" width=\"19\" x=\"0.5\" y=\"0.5\"></rect></svg></span>Westminster Bakers Co. (2)</label></li><li><label class=\"component--shop-sidebar-filters-checkbox global--form-text\"><input class=\"checkbox\" type=\"checkbox\"><span aria-hidden=\"true\" class=\"checkbox-icon\"><svg class=\"\" data-testid=\"IconCheckboxUnselected\" fill=\"none\" height=\"20\" viewBox=\"0 0 20 20\" width=\"20\" xmlns=\"http://www.w3.org/2000/svg\"><rect fill=\"white\" height=\"19\" rx=\"3.5\" stroke=\"#6F6F6F\" width=\"19\" x=\"0.5\" y=\"0.5\"></rect></svg></span>Wow Baking Company (2)</label></li><li><label class=\"component--shop-sidebar-filters-checkbox global--form-text\"><input class=\"checkbox\" type=\"checkbox\"><span aria-hidden=\"true\" class=\"checkbox-icon\"><svg class=\"\" data-testid=\"IconCheckboxUnselected\" fill=\"none\" height=\"20\" viewBox=\"0 0 20 20\" width=\"20\" xmlns=\"http://www.w3.org/2000/svg\"><rect fill=\"white\" height=\"19\" rx=\"3.5\" stroke=\"#6F6F6F\" width=\"19\" x=\"0.5\" y=\"0.5\"></rect></svg></span>Zesty Z (2)</label></li><li><label class=\"component--shop-sidebar-filters-checkbox global--form-text\"><input class=\"checkbox\" type=\"checkbox\"><span aria-hidden=\"true\" class=\"checkbox-icon\"><svg class=\"\" data-testid=\"IconCheckboxUnselected\" fill=\"none\" height=\"20\" viewBox=\"0 0 20 20\" width=\"20\" xmlns=\"http://www.w3.org/2000/svg\"><rect fill=\"white\" height=\"19\" rx=\"3.5\" stroke=\"#6F6F6F\" width=\"19\" x=\"0.5\" y=\"0.5\"></rect></svg></span>34 Degrees (1)</label></li><li><label class=\"component--shop-sidebar-filters-checkbox global--form-text\"><input class=\"checkbox\" type=\"checkbox\"><span aria-hidden=\"true\" class=\"checkbox-icon\"><svg class=\"\" data-testid=\"IconCheckboxUnselected\" fill=\"none\" height=\"20\" viewBox=\"0 0 20 20\" width=\"20\" xmlns=\"http://www.w3.org/2000/svg\"><rect fill=\"white\" height=\"19\" rx=\"3.5\" stroke=\"#6F6F6F\" width=\"19\" x=\"0.5\" y=\"0.5\"></rect></svg></span>5th Season (1)</label></li><li><label class=\"component--shop-sidebar-filters-checkbox global--form-text\"><input class=\"checkbox\" type=\"checkbox\"><span aria-hidden=\"true\" class=\"checkbox-icon\"><svg class=\"\" data-testid=\"IconCheckboxUnselected\" fill=\"none\" height=\"20\" viewBox=\"0 0 20 20\" width=\"20\" xmlns=\"http://www.w3.org/2000/svg\"><rect fill=\"white\" height=\"19\" rx=\"3.5\" stroke=\"#6F6F6F\" width=\"19\" x=\"0.5\" y=\"0.5\"></rect></svg></span>Andy Capp's (1)</label></li><li><label class=\"component--shop-sidebar-filters-checkbox global--form-text\"><input class=\"checkbox\" type=\"checkbox\"><span aria-hidden=\"true\" class=\"checkbox-icon\"><svg class=\"\" data-testid=\"IconCheckboxUnselected\" fill=\"none\" height=\"20\" viewBox=\"0 0 20 20\" width=\"20\" xmlns=\"http://www.w3.org/2000/svg\"><rect fill=\"white\" height=\"19\" rx=\"3.5\" stroke=\"#6F6F6F\" width=\"19\" x=\"0.5\" y=\"0.5\"></rect></svg></span>Anthem Snacks (1)</label></li><li><label class=\"component--shop-sidebar-filters-checkbox global--form-text\"><input class=\"checkbox\" type=\"checkbox\"><span aria-hidden=\"true\" class=\"checkbox-icon\"><svg class=\"\" data-testid=\"IconCheckboxUnselected\" fill=\"none\" height=\"20\" viewBox=\"0 0 20 20\" width=\"20\" xmlns=\"http://www.w3.org/2000/svg\"><rect fill=\"white\" height=\"19\" rx=\"3.5\" stroke=\"#6F6F6F\" width=\"19\" x=\"0.5\" y=\"0.5\"></rect></svg></span>Arrowhead Mills (1)</label></li><li><label class=\"component--shop-sidebar-filters-checkbox global--form-text\"><input class=\"checkbox\" type=\"checkbox\"><span aria-hidden=\"true\" class=\"checkbox-icon\"><svg class=\"\" data-testid=\"IconCheckboxUnselected\" fill=\"none\" height=\"20\" viewBox=\"0 0 20 20\" width=\"20\" xmlns=\"http://www.w3.org/2000/svg\"><rect fill=\"white\" height=\"19\" rx=\"3.5\" stroke=\"#6F6F6F\" width=\"19\" x=\"0.5\" y=\"0.5\"></rect></svg></span>Bada Bean Bada Boom (1)</label></li><li><label class=\"component--shop-sidebar-filters-checkbox global--form-text\"><input class=\"checkbox\" type=\"checkbox\"><span aria-hidden=\"true\" class=\"checkbox-icon\"><svg class=\"\" data-testid=\"IconCheckboxUnselected\" fill=\"none\" height=\"20\" viewBox=\"0 0 20 20\" width=\"20\" xmlns=\"http://www.w3.org/2000/svg\"><rect fill=\"white\" height=\"19\" rx=\"3.5\" stroke=\"#6F6F6F\" width=\"19\" x=\"0.5\" y=\"0.5\"></rect></svg></span>Betty Crocker (1)</label></li><li><label class=\"component--shop-sidebar-filters-checkbox global--form-text\"><input class=\"checkbox\" type=\"checkbox\"><span aria-hidden=\"true\" class=\"checkbox-icon\"><svg class=\"\" data-testid=\"IconCheckboxUnselected\" fill=\"none\" height=\"20\" viewBox=\"0 0 20 20\" width=\"20\" xmlns=\"http://www.w3.org/2000/svg\"><rect fill=\"white\" height=\"19\" rx=\"3.5\" stroke=\"#6F6F6F\" width=\"19\" x=\"0.5\" y=\"0.5\"></rect></svg></span>Biscos (1)</label></li><li><label class=\"component--shop-sidebar-filters-checkbox global--form-text\"><input class=\"checkbox\" type=\"checkbox\"><span aria-hidden=\"true\" class=\"checkbox-icon\"><svg class=\"\" data-testid=\"IconCheckboxUnselected\" fill=\"none\" height=\"20\" viewBox=\"0 0 20 20\" width=\"20\" xmlns=\"http://www.w3.org/2000/svg\"><rect fill=\"white\" height=\"19\" rx=\"3.5\" stroke=\"#6F6F6F\" width=\"19\" x=\"0.5\" y=\"0.5\"></rect></svg></span>Black Forest (1)</label></li><li><label class=\"component--shop-sidebar-filters-checkbox global--form-text\"><input class=\"checkbox\" type=\"checkbox\"><span aria-hidden=\"true\" class=\"checkbox-icon\"><svg class=\"\" data-testid=\"IconCheckboxUnselected\" fill=\"none\" height=\"20\" viewBox=\"0 0 20 20\" width=\"20\" xmlns=\"http://www.w3.org/2000/svg\"><rect fill=\"white\" height=\"19\" rx=\"3.5\" stroke=\"#6F6F6F\" width=\"19\" x=\"0.5\" y=\"0.5\"></rect></svg></span>Boulder (1)</label></li><li><label class=\"component--shop-sidebar-filters-checkbox global--form-text\"><input class=\"checkbox\" type=\"checkbox\"><span aria-hidden=\"true\" class=\"checkbox-icon\"><svg class=\"\" data-testid=\"IconCheckboxUnselected\" fill=\"none\" height=\"20\" viewBox=\"0 0 20 20\" width=\"20\" xmlns=\"http://www.w3.org/2000/svg\"><rect fill=\"white\" height=\"19\" rx=\"3.5\" stroke=\"#6F6F6F\" width=\"19\" x=\"0.5\" y=\"0.5\"></rect></svg></span>Brothers (1)</label></li><li><label class=\"component--shop-sidebar-filters-checkbox global--form-text\"><input class=\"checkbox\" type=\"checkbox\"><span aria-hidden=\"true\" class=\"checkbox-icon\"><svg class=\"\" data-testid=\"IconCheckboxUnselected\" fill=\"none\" height=\"20\" viewBox=\"0 0 20 20\" width=\"20\" xmlns=\"http://www.w3.org/2000/svg\"><rect fill=\"white\" height=\"19\" rx=\"3.5\" stroke=\"#6F6F6F\" width=\"19\" x=\"0.5\" y=\"0.5\"></rect></svg></span>Bugles (1)</label></li><li><label class=\"component--shop-sidebar-filters-checkbox global--form-text\"><input class=\"checkbox\" type=\"checkbox\"><span aria-hidden=\"true\" class=\"checkbox-icon\"><svg class=\"\" data-testid=\"IconCheckboxUnselected\" fill=\"none\" height=\"20\" viewBox=\"0 0 20 20\" width=\"20\" xmlns=\"http://www.w3.org/2000/svg\"><rect fill=\"white\" height=\"19\" rx=\"3.5\" stroke=\"#6F6F6F\" width=\"19\" x=\"0.5\" y=\"0.5\"></rect></svg></span>Cabaret (1)</label></li><li><label class=\"component--shop-sidebar-filters-checkbox global--form-text\"><input class=\"checkbox\" type=\"checkbox\"><span aria-hidden=\"true\" class=\"checkbox-icon\"><svg class=\"\" data-testid=\"IconCheckboxUnselected\" fill=\"none\" height=\"20\" viewBox=\"0 0 20 20\" width=\"20\" xmlns=\"http://www.w3.org/2000/svg\"><rect fill=\"white\" height=\"19\" rx=\"3.5\" stroke=\"#6F6F6F\" width=\"19\" x=\"0.5\" y=\"0.5\"></rect></svg></span>Candy Pop (1)</label></li><li><label class=\"component--shop-sidebar-filters-checkbox global--form-text\"><input class=\"checkbox\" type=\"checkbox\"><span aria-hidden=\"true\" class=\"checkbox-icon\"><svg class=\"\" data-testid=\"IconCheckboxUnselected\" fill=\"none\" height=\"20\" viewBox=\"0 0 20 20\" width=\"20\" xmlns=\"http://www.w3.org/2000/svg\"><rect fill=\"white\" height=\"19\" rx=\"3.5\" stroke=\"#6F6F6F\" width=\"19\" x=\"0.5\" y=\"0.5\"></rect></svg></span>Chessmen (1)</label></li><li><label class=\"component--shop-sidebar-filters-checkbox global--form-text\"><input class=\"checkbox\" type=\"checkbox\"><span aria-hidden=\"true\" class=\"checkbox-icon\"><svg class=\"\" data-testid=\"IconCheckboxUnselected\" fill=\"none\" height=\"20\" viewBox=\"0 0 20 20\" width=\"20\" xmlns=\"http://www.w3.org/2000/svg\"><rect fill=\"white\" height=\"19\" rx=\"3.5\" stroke=\"#6F6F6F\" width=\"19\" x=\"0.5\" y=\"0.5\"></rect></svg></span>Chicken in a Biskit (1)</label></li><li><label class=\"component--shop-sidebar-filters-checkbox global--form-text\"><input class=\"checkbox\" type=\"checkbox\"><span aria-hidden=\"true\" class=\"checkbox-icon\"><svg class=\"\" data-testid=\"IconCheckboxUnselected\" fill=\"none\" height=\"20\" viewBox=\"0 0 20 20\" width=\"20\" xmlns=\"http://www.w3.org/2000/svg\"><rect fill=\"white\" height=\"19\" rx=\"3.5\" stroke=\"#6F6F6F\" width=\"19\" x=\"0.5\" y=\"0.5\"></rect></svg></span>Cracker Jack (1)</label></li><li><label class=\"component--shop-sidebar-filters-checkbox global--form-text\"><input class=\"checkbox\" type=\"checkbox\"><span aria-hidden=\"true\" class=\"checkbox-icon\"><svg class=\"\" data-testid=\"IconCheckboxUnselected\" fill=\"none\" height=\"20\" viewBox=\"0 0 20 20\" width=\"20\" xmlns=\"http://www.w3.org/2000/svg\"><rect fill=\"white\" height=\"19\" rx=\"3.5\" stroke=\"#6F6F6F\" width=\"19\" x=\"0.5\" y=\"0.5\"></rect></svg></span>Craigs Creamery (1)</label></li><li><label class=\"component--shop-sidebar-filters-checkbox global--form-text\"><input class=\"checkbox\" type=\"checkbox\"><span aria-hidden=\"true\" class=\"checkbox-icon\"><svg class=\"\" data-testid=\"IconCheckboxUnselected\" fill=\"none\" height=\"20\" viewBox=\"0 0 20 20\" width=\"20\" xmlns=\"http://www.w3.org/2000/svg\"><rect fill=\"white\" height=\"19\" rx=\"3.5\" stroke=\"#6F6F6F\" width=\"19\" x=\"0.5\" y=\"0.5\"></rect></svg></span>Cybeles (1)</label></li><li><label class=\"component--shop-sidebar-filters-checkbox global--form-text\"><input class=\"checkbox\" type=\"checkbox\"><span aria-hidden=\"true\" class=\"checkbox-icon\"><svg class=\"\" data-testid=\"IconCheckboxUnselected\" fill=\"none\" height=\"20\" viewBox=\"0 0 20 20\" width=\"20\" xmlns=\"http://www.w3.org/2000/svg\"><rect fill=\"white\" height=\"19\" rx=\"3.5\" stroke=\"#6F6F6F\" width=\"19\" x=\"0.5\" y=\"0.5\"></rect></svg></span>Daily Crave (1)</label></li><li><label class=\"component--shop-sidebar-filters-checkbox global--form-text\"><input class=\"checkbox\" type=\"checkbox\"><span aria-hidden=\"true\" class=\"checkbox-icon\"><svg class=\"\" data-testid=\"IconCheckboxUnselected\" fill=\"none\" height=\"20\" viewBox=\"0 0 20 20\" width=\"20\" xmlns=\"http://www.w3.org/2000/svg\"><rect fill=\"white\" height=\"19\" rx=\"3.5\" stroke=\"#6F6F6F\" width=\"19\" x=\"0.5\" y=\"0.5\"></rect></svg></span>Daily Crunch (1)</label></li><li><label class=\"component--shop-sidebar-filters-checkbox global--form-text\"><input class=\"checkbox\" type=\"checkbox\"><span aria-hidden=\"true\" class=\"checkbox-icon\"><svg class=\"\" data-testid=\"IconCheckboxUnselected\" fill=\"none\" height=\"20\" viewBox=\"0 0 20 20\" width=\"20\" xmlns=\"http://www.w3.org/2000/svg\"><rect fill=\"white\" height=\"19\" rx=\"3.5\" stroke=\"#6F6F6F\" width=\"19\" x=\"0.5\" y=\"0.5\"></rect></svg></span>Dare (1)</label></li><li><label class=\"component--shop-sidebar-filters-checkbox global--form-text\"><input class=\"checkbox\" type=\"checkbox\"><span aria-hidden=\"true\" class=\"checkbox-icon\"><svg class=\"\" data-testid=\"IconCheckboxUnselected\" fill=\"none\" height=\"20\" viewBox=\"0 0 20 20\" width=\"20\" xmlns=\"http://www.w3.org/2000/svg\"><rect fill=\"white\" height=\"19\" rx=\"3.5\" stroke=\"#6F6F6F\" width=\"19\" x=\"0.5\" y=\"0.5\"></rect></svg></span>DeLallo (1)</label></li><li><label class=\"component--shop-sidebar-filters-checkbox global--form-text\"><input class=\"checkbox\" type=\"checkbox\"><span aria-hidden=\"true\" class=\"checkbox-icon\"><svg class=\"\" data-testid=\"IconCheckboxUnselected\" fill=\"none\" height=\"20\" viewBox=\"0 0 20 20\" width=\"20\" xmlns=\"http://www.w3.org/2000/svg\"><rect fill=\"white\" height=\"19\" rx=\"3.5\" stroke=\"#6F6F6F\" width=\"19\" x=\"0.5\" y=\"0.5\"></rect></svg></span>Earth Balance (1)</label></li><li><label class=\"component--shop-sidebar-filters-checkbox global--form-text\"><input class=\"checkbox\" type=\"checkbox\"><span aria-hidden=\"true\" class=\"checkbox-icon\"><svg class=\"\" data-testid=\"IconCheckboxUnselected\" fill=\"none\" height=\"20\" viewBox=\"0 0 20 20\" width=\"20\" xmlns=\"http://www.w3.org/2000/svg\"><rect fill=\"white\" height=\"19\" rx=\"3.5\" stroke=\"#6F6F6F\" width=\"19\" x=\"0.5\" y=\"0.5\"></rect></svg></span>Eat Smart (1)</label></li><li><label class=\"component--shop-sidebar-filters-checkbox global--form-text\"><input class=\"checkbox\" type=\"checkbox\"><span aria-hidden=\"true\" class=\"checkbox-icon\"><svg class=\"\" data-testid=\"IconCheckboxUnselected\" fill=\"none\" height=\"20\" viewBox=\"0 0 20 20\" width=\"20\" xmlns=\"http://www.w3.org/2000/svg\"><rect fill=\"white\" height=\"19\" rx=\"3.5\" stroke=\"#6F6F6F\" width=\"19\" x=\"0.5\" y=\"0.5\"></rect></svg></span>Epic (1)</label></li><li><label class=\"component--shop-sidebar-filters-checkbox global--form-text\"><input class=\"checkbox\" type=\"checkbox\"><span aria-hidden=\"true\" class=\"checkbox-icon\"><svg class=\"\" data-testid=\"IconCheckboxUnselected\" fill=\"none\" height=\"20\" viewBox=\"0 0 20 20\" width=\"20\" xmlns=\"http://www.w3.org/2000/svg\"><rect fill=\"white\" height=\"19\" rx=\"3.5\" stroke=\"#6F6F6F\" width=\"19\" x=\"0.5\" y=\"0.5\"></rect></svg></span>Evil Snacks (1)</label></li><li><label class=\"component--shop-sidebar-filters-checkbox global--form-text\"><input class=\"checkbox\" type=\"checkbox\"><span aria-hidden=\"true\" class=\"checkbox-icon\"><svg class=\"\" data-testid=\"IconCheckboxUnselected\" fill=\"none\" height=\"20\" viewBox=\"0 0 20 20\" width=\"20\" xmlns=\"http://www.w3.org/2000/svg\"><rect fill=\"white\" height=\"19\" rx=\"3.5\" stroke=\"#6F6F6F\" width=\"19\" x=\"0.5\" y=\"0.5\"></rect></svg></span>Fruit Roll-Ups (1)</label></li><li><label class=\"component--shop-sidebar-filters-checkbox global--form-text\"><input class=\"checkbox\" type=\"checkbox\"><span aria-hidden=\"true\" class=\"checkbox-icon\"><svg class=\"\" data-testid=\"IconCheckboxUnselected\" fill=\"none\" height=\"20\" viewBox=\"0 0 20 20\" width=\"20\" xmlns=\"http://www.w3.org/2000/svg\"><rect fill=\"white\" height=\"19\" rx=\"3.5\" stroke=\"#6F6F6F\" width=\"19\" x=\"0.5\" y=\"0.5\"></rect></svg></span>Fruit by the Foot (1)</label></li><li><label class=\"component--shop-sidebar-filters-checkbox global--form-text\"><input class=\"checkbox\" type=\"checkbox\"><span aria-hidden=\"true\" class=\"checkbox-icon\"><svg class=\"\" data-testid=\"IconCheckboxUnselected\" fill=\"none\" height=\"20\" viewBox=\"0 0 20 20\" width=\"20\" xmlns=\"http://www.w3.org/2000/svg\"><rect fill=\"white\" height=\"19\" rx=\"3.5\" stroke=\"#6F6F6F\" width=\"19\" x=\"0.5\" y=\"0.5\"></rect></svg></span>G.H. Cretors (1)</label></li><li><label class=\"component--shop-sidebar-filters-checkbox global--form-text\"><input class=\"checkbox\" type=\"checkbox\"><span aria-hidden=\"true\" class=\"checkbox-icon\"><svg class=\"\" data-testid=\"IconCheckboxUnselected\" fill=\"none\" height=\"20\" viewBox=\"0 0 20 20\" width=\"20\" xmlns=\"http://www.w3.org/2000/svg\"><rect fill=\"white\" height=\"19\" rx=\"3.5\" stroke=\"#6F6F6F\" width=\"19\" x=\"0.5\" y=\"0.5\"></rect></svg></span>Galil (1)</label></li><li><label class=\"component--shop-sidebar-filters-checkbox global--form-text\"><input class=\"checkbox\" type=\"checkbox\"><span aria-hidden=\"true\" class=\"checkbox-icon\"><svg class=\"\" data-testid=\"IconCheckboxUnselected\" fill=\"none\" height=\"20\" viewBox=\"0 0 20 20\" width=\"20\" xmlns=\"http://www.w3.org/2000/svg\"><rect fill=\"white\" height=\"19\" rx=\"3.5\" stroke=\"#6F6F6F\" width=\"19\" x=\"0.5\" y=\"0.5\"></rect></svg></span>General Mills (1)</label></li><li><label class=\"component--shop-sidebar-filters-checkbox global--form-text\"><input class=\"checkbox\" type=\"checkbox\"><span aria-hidden=\"true\" class=\"checkbox-icon\"><svg class=\"\" data-testid=\"IconCheckboxUnselected\" fill=\"none\" height=\"20\" viewBox=\"0 0 20 20\" width=\"20\" xmlns=\"http://www.w3.org/2000/svg\"><rect fill=\"white\" height=\"19\" rx=\"3.5\" stroke=\"#6F6F6F\" width=\"19\" x=\"0.5\" y=\"0.5\"></rect></svg></span>Ginger Snaps (1)</label></li><li><label class=\"component--shop-sidebar-filters-checkbox global--form-text\"><input class=\"checkbox\" type=\"checkbox\"><span aria-hidden=\"true\" class=\"checkbox-icon\"><svg class=\"\" data-testid=\"IconCheckboxUnselected\" fill=\"none\" height=\"20\" viewBox=\"0 0 20 20\" width=\"20\" xmlns=\"http://www.w3.org/2000/svg\"><rect fill=\"white\" height=\"19\" rx=\"3.5\" stroke=\"#6F6F6F\" width=\"19\" x=\"0.5\" y=\"0.5\"></rect></svg></span>Grains First (1)</label></li><li><label class=\"component--shop-sidebar-filters-checkbox global--form-text\"><input class=\"checkbox\" type=\"checkbox\"><span aria-hidden=\"true\" class=\"checkbox-icon\"><svg class=\"\" data-testid=\"IconCheckboxUnselected\" fill=\"none\" height=\"20\" viewBox=\"0 0 20 20\" width=\"20\" xmlns=\"http://www.w3.org/2000/svg\"><rect fill=\"white\" height=\"19\" rx=\"3.5\" stroke=\"#6F6F6F\" width=\"19\" x=\"0.5\" y=\"0.5\"></rect></svg></span>Guinness (1)</label></li><li><label class=\"component--shop-sidebar-filters-checkbox global--form-text\"><input class=\"checkbox\" type=\"checkbox\"><span aria-hidden=\"true\" class=\"checkbox-icon\"><svg class=\"\" data-testid=\"IconCheckboxUnselected\" fill=\"none\" height=\"20\" viewBox=\"0 0 20 20\" width=\"20\" xmlns=\"http://www.w3.org/2000/svg\"><rect fill=\"white\" height=\"19\" rx=\"3.5\" stroke=\"#6F6F6F\" width=\"19\" x=\"0.5\" y=\"0.5\"></rect></svg></span>Hawaiian Host (1)</label></li><li><label class=\"component--shop-sidebar-filters-checkbox global--form-text\"><input class=\"checkbox\" type=\"checkbox\"><span aria-hidden=\"true\" class=\"checkbox-icon\"><svg class=\"\" data-testid=\"IconCheckboxUnselected\" fill=\"none\" height=\"20\" viewBox=\"0 0 20 20\" width=\"20\" xmlns=\"http://www.w3.org/2000/svg\"><rect fill=\"white\" height=\"19\" rx=\"3.5\" stroke=\"#6F6F6F\" width=\"19\" x=\"0.5\" y=\"0.5\"></rect></svg></span>Hershey's (1)</label></li><li><label class=\"component--shop-sidebar-filters-checkbox global--form-text\"><input class=\"checkbox\" type=\"checkbox\"><span aria-hidden=\"true\" class=\"checkbox-icon\"><svg class=\"\" data-testid=\"IconCheckboxUnselected\" fill=\"none\" height=\"20\" viewBox=\"0 0 20 20\" width=\"20\" xmlns=\"http://www.w3.org/2000/svg\"><rect fill=\"white\" height=\"19\" rx=\"3.5\" stroke=\"#6F6F6F\" width=\"19\" x=\"0.5\" y=\"0.5\"></rect></svg></span>Iwon (1)</label></li><li><label class=\"component--shop-sidebar-filters-checkbox global--form-text\"><input class=\"checkbox\" type=\"checkbox\"><span aria-hidden=\"true\" class=\"checkbox-icon\"><svg class=\"\" data-testid=\"IconCheckboxUnselected\" fill=\"none\" height=\"20\" viewBox=\"0 0 20 20\" width=\"20\" xmlns=\"http://www.w3.org/2000/svg\"><rect fill=\"white\" height=\"19\" rx=\"3.5\" stroke=\"#6F6F6F\" width=\"19\" x=\"0.5\" y=\"0.5\"></rect></svg></span>Iwon Organics (1)</label></li><li><label class=\"component--shop-sidebar-filters-checkbox global--form-text\"><input class=\"checkbox\" type=\"checkbox\"><span aria-hidden=\"true\" class=\"checkbox-icon\"><svg class=\"\" data-testid=\"IconCheckboxUnselected\" fill=\"none\" height=\"20\" viewBox=\"0 0 20 20\" width=\"20\" xmlns=\"http://www.w3.org/2000/svg\"><rect fill=\"white\" height=\"19\" rx=\"3.5\" stroke=\"#6F6F6F\" width=\"19\" x=\"0.5\" y=\"0.5\"></rect></svg></span>Jax (1)</label></li><li><label class=\"component--shop-sidebar-filters-checkbox global--form-text\"><input class=\"checkbox\" type=\"checkbox\"><span aria-hidden=\"true\" class=\"checkbox-icon\"><svg class=\"\" data-testid=\"IconCheckboxUnselected\" fill=\"none\" height=\"20\" viewBox=\"0 0 20 20\" width=\"20\" xmlns=\"http://www.w3.org/2000/svg\"><rect fill=\"white\" height=\"19\" rx=\"3.5\" stroke=\"#6F6F6F\" width=\"19\" x=\"0.5\" y=\"0.5\"></rect></svg></span>Jiffy Pop (1)</label></li><li><label class=\"component--shop-sidebar-filters-checkbox global--form-text\"><input class=\"checkbox\" type=\"checkbox\"><span aria-hidden=\"true\" class=\"checkbox-icon\"><svg class=\"\" data-testid=\"IconCheckboxUnselected\" fill=\"none\" height=\"20\" viewBox=\"0 0 20 20\" width=\"20\" xmlns=\"http://www.w3.org/2000/svg\"><rect fill=\"white\" height=\"19\" rx=\"3.5\" stroke=\"#6F6F6F\" width=\"19\" x=\"0.5\" y=\"0.5\"></rect></svg></span>Kettle (1)</label></li><li><label class=\"component--shop-sidebar-filters-checkbox global--form-text\"><input class=\"checkbox\" type=\"checkbox\"><span aria-hidden=\"true\" class=\"checkbox-icon\"><svg class=\"\" data-testid=\"IconCheckboxUnselected\" fill=\"none\" height=\"20\" viewBox=\"0 0 20 20\" width=\"20\" xmlns=\"http://www.w3.org/2000/svg\"><rect fill=\"white\" height=\"19\" rx=\"3.5\" stroke=\"#6F6F6F\" width=\"19\" x=\"0.5\" y=\"0.5\"></rect></svg></span>Kim's (1)</label></li><li><label class=\"component--shop-sidebar-filters-checkbox global--form-text\"><input class=\"checkbox\" type=\"checkbox\"><span aria-hidden=\"true\" class=\"checkbox-icon\"><svg class=\"\" data-testid=\"IconCheckboxUnselected\" fill=\"none\" height=\"20\" viewBox=\"0 0 20 20\" width=\"20\" xmlns=\"http://www.w3.org/2000/svg\"><rect fill=\"white\" height=\"19\" rx=\"3.5\" stroke=\"#6F6F6F\" width=\"19\" x=\"0.5\" y=\"0.5\"></rect></svg></span>Kinder (1)</label></li><li><label class=\"component--shop-sidebar-filters-checkbox global--form-text\"><input class=\"checkbox\" type=\"checkbox\"><span aria-hidden=\"true\" class=\"checkbox-icon\"><svg class=\"\" data-testid=\"IconCheckboxUnselected\" fill=\"none\" height=\"20\" viewBox=\"0 0 20 20\" width=\"20\" xmlns=\"http://www.w3.org/2000/svg\"><rect fill=\"white\" height=\"19\" rx=\"3.5\" stroke=\"#6F6F6F\" width=\"19\" x=\"0.5\" y=\"0.5\"></rect></svg></span>LE PAIN DES FLEURS (1)</label></li><li><label class=\"component--shop-sidebar-filters-checkbox global--form-text\"><input class=\"checkbox\" type=\"checkbox\"><span aria-hidden=\"true\" class=\"checkbox-icon\"><svg class=\"\" data-testid=\"IconCheckboxUnselected\" fill=\"none\" height=\"20\" viewBox=\"0 0 20 20\" width=\"20\" xmlns=\"http://www.w3.org/2000/svg\"><rect fill=\"white\" height=\"19\" rx=\"3.5\" stroke=\"#6F6F6F\" width=\"19\" x=\"0.5\" y=\"0.5\"></rect></svg></span>La Dolce Vita (1)</label></li><li><label class=\"component--shop-sidebar-filters-checkbox global--form-text\"><input class=\"checkbox\" type=\"checkbox\"><span aria-hidden=\"true\" class=\"checkbox-icon\"><svg class=\"\" data-testid=\"IconCheckboxUnselected\" fill=\"none\" height=\"20\" viewBox=\"0 0 20 20\" width=\"20\" xmlns=\"http://www.w3.org/2000/svg\"><rect fill=\"white\" height=\"19\" rx=\"3.5\" stroke=\"#6F6F6F\" width=\"19\" x=\"0.5\" y=\"0.5\"></rect></svg></span>La Preferida (1)</label></li><li><label class=\"component--shop-sidebar-filters-checkbox global--form-text\"><input class=\"checkbox\" type=\"checkbox\"><span aria-hidden=\"true\" class=\"checkbox-icon\"><svg class=\"\" data-testid=\"IconCheckboxUnselected\" fill=\"none\" height=\"20\" viewBox=\"0 0 20 20\" width=\"20\" xmlns=\"http://www.w3.org/2000/svg\"><rect fill=\"white\" height=\"19\" rx=\"3.5\" stroke=\"#6F6F6F\" width=\"19\" x=\"0.5\" y=\"0.5\"></rect></svg></span>Lays (1)</label></li><li><label class=\"component--shop-sidebar-filters-checkbox global--form-text\"><input class=\"checkbox\" type=\"checkbox\"><span aria-hidden=\"true\" class=\"checkbox-icon\"><svg class=\"\" data-testid=\"IconCheckboxUnselected\" fill=\"none\" height=\"20\" viewBox=\"0 0 20 20\" width=\"20\" xmlns=\"http://www.w3.org/2000/svg\"><rect fill=\"white\" height=\"19\" rx=\"3.5\" stroke=\"#6F6F6F\" width=\"19\" x=\"0.5\" y=\"0.5\"></rect></svg></span>Live Love Pop (1)</label></li><li><label class=\"component--shop-sidebar-filters-checkbox global--form-text\"><input class=\"checkbox\" type=\"checkbox\"><span aria-hidden=\"true\" class=\"checkbox-icon\"><svg class=\"\" data-testid=\"IconCheckboxUnselected\" fill=\"none\" height=\"20\" viewBox=\"0 0 20 20\" width=\"20\" xmlns=\"http://www.w3.org/2000/svg\"><rect fill=\"white\" height=\"19\" rx=\"3.5\" stroke=\"#6F6F6F\" width=\"19\" x=\"0.5\" y=\"0.5\"></rect></svg></span>Lorna Doone (1)</label></li><li><label class=\"component--shop-sidebar-filters-checkbox global--form-text\"><input class=\"checkbox\" type=\"checkbox\"><span aria-hidden=\"true\" class=\"checkbox-icon\"><svg class=\"\" data-testid=\"IconCheckboxUnselected\" fill=\"none\" height=\"20\" viewBox=\"0 0 20 20\" width=\"20\" xmlns=\"http://www.w3.org/2000/svg\"><rect fill=\"white\" height=\"19\" rx=\"3.5\" stroke=\"#6F6F6F\" width=\"19\" x=\"0.5\" y=\"0.5\"></rect></svg></span>Louisville Vegan Jerky (1)</label></li><li><label class=\"component--shop-sidebar-filters-checkbox global--form-text\"><input class=\"checkbox\" type=\"checkbox\"><span aria-hidden=\"true\" class=\"checkbox-icon\"><svg class=\"\" data-testid=\"IconCheckboxUnselected\" fill=\"none\" height=\"20\" viewBox=\"0 0 20 20\" width=\"20\" xmlns=\"http://www.w3.org/2000/svg\"><rect fill=\"white\" height=\"19\" rx=\"3.5\" stroke=\"#6F6F6F\" width=\"19\" x=\"0.5\" y=\"0.5\"></rect></svg></span>Louisville Vegan Jerky Co (1)</label></li><li><label class=\"component--shop-sidebar-filters-checkbox global--form-text\"><input class=\"checkbox\" type=\"checkbox\"><span aria-hidden=\"true\" class=\"checkbox-icon\"><svg class=\"\" data-testid=\"IconCheckboxUnselected\" fill=\"none\" height=\"20\" viewBox=\"0 0 20 20\" width=\"20\" xmlns=\"http://www.w3.org/2000/svg\"><rect fill=\"white\" height=\"19\" rx=\"3.5\" stroke=\"#6F6F6F\" width=\"19\" x=\"0.5\" y=\"0.5\"></rect></svg></span>Mary's Gone Crackers (1)</label></li><li><label class=\"component--shop-sidebar-filters-checkbox global--form-text\"><input class=\"checkbox\" type=\"checkbox\"><span aria-hidden=\"true\" class=\"checkbox-icon\"><svg class=\"\" data-testid=\"IconCheckboxUnselected\" fill=\"none\" height=\"20\" viewBox=\"0 0 20 20\" width=\"20\" xmlns=\"http://www.w3.org/2000/svg\"><rect fill=\"white\" height=\"19\" rx=\"3.5\" stroke=\"#6F6F6F\" width=\"19\" x=\"0.5\" y=\"0.5\"></rect></svg></span>Matilde Vicenzi (1)</label></li><li><label class=\"component--shop-sidebar-filters-checkbox global--form-text\"><input class=\"checkbox\" type=\"checkbox\"><span aria-hidden=\"true\" class=\"checkbox-icon\"><svg class=\"\" data-testid=\"IconCheckboxUnselected\" fill=\"none\" height=\"20\" viewBox=\"0 0 20 20\" width=\"20\" xmlns=\"http://www.w3.org/2000/svg\"><rect fill=\"white\" height=\"19\" rx=\"3.5\" stroke=\"#6F6F6F\" width=\"19\" x=\"0.5\" y=\"0.5\"></rect></svg></span>Mi Nina (1)</label></li><li><label class=\"component--shop-sidebar-filters-checkbox global--form-text\"><input class=\"checkbox\" type=\"checkbox\"><span aria-hidden=\"true\" class=\"checkbox-icon\"><svg class=\"\" data-testid=\"IconCheckboxUnselected\" fill=\"none\" height=\"20\" viewBox=\"0 0 20 20\" width=\"20\" xmlns=\"http://www.w3.org/2000/svg\"><rect fill=\"white\" height=\"19\" rx=\"3.5\" stroke=\"#6F6F6F\" width=\"19\" x=\"0.5\" y=\"0.5\"></rect></svg></span>Mi-Del (1)</label></li><li><label class=\"component--shop-sidebar-filters-checkbox global--form-text\"><input class=\"checkbox\" type=\"checkbox\"><span aria-hidden=\"true\" class=\"checkbox-icon\"><svg class=\"\" data-testid=\"IconCheckboxUnselected\" fill=\"none\" height=\"20\" viewBox=\"0 0 20 20\" width=\"20\" xmlns=\"http://www.w3.org/2000/svg\"><rect fill=\"white\" height=\"19\" rx=\"3.5\" stroke=\"#6F6F6F\" width=\"19\" x=\"0.5\" y=\"0.5\"></rect></svg></span>Mott's (1)</label></li><li><label class=\"component--shop-sidebar-filters-checkbox global--form-text\"><input class=\"checkbox\" type=\"checkbox\"><span aria-hidden=\"true\" class=\"checkbox-icon\"><svg class=\"\" data-testid=\"IconCheckboxUnselected\" fill=\"none\" height=\"20\" viewBox=\"0 0 20 20\" width=\"20\" xmlns=\"http://www.w3.org/2000/svg\"><rect fill=\"white\" height=\"19\" rx=\"3.5\" stroke=\"#6F6F6F\" width=\"19\" x=\"0.5\" y=\"0.5\"></rect></svg></span>Munchos (1)</label></li><li><label class=\"component--shop-sidebar-filters-checkbox global--form-text\"><input class=\"checkbox\" type=\"checkbox\"><span aria-hidden=\"true\" class=\"checkbox-icon\"><svg class=\"\" data-testid=\"IconCheckboxUnselected\" fill=\"none\" height=\"20\" viewBox=\"0 0 20 20\" width=\"20\" xmlns=\"http://www.w3.org/2000/svg\"><rect fill=\"white\" height=\"19\" rx=\"3.5\" stroke=\"#6F6F6F\" width=\"19\" x=\"0.5\" y=\"0.5\"></rect></svg></span>Nut-rition (1)</label></li><li><label class=\"component--shop-sidebar-filters-checkbox global--form-text\"><input class=\"checkbox\" type=\"checkbox\"><span aria-hidden=\"true\" class=\"checkbox-icon\"><svg class=\"\" data-testid=\"IconCheckboxUnselected\" fill=\"none\" height=\"20\" viewBox=\"0 0 20 20\" width=\"20\" xmlns=\"http://www.w3.org/2000/svg\"><rect fill=\"white\" height=\"19\" rx=\"3.5\" stroke=\"#6F6F6F\" width=\"19\" x=\"0.5\" y=\"0.5\"></rect></svg></span>Nutella B-Ready (1)</label></li><li><label class=\"component--shop-sidebar-filters-checkbox global--form-text\"><input class=\"checkbox\" type=\"checkbox\"><span aria-hidden=\"true\" class=\"checkbox-icon\"><svg class=\"\" data-testid=\"IconCheckboxUnselected\" fill=\"none\" height=\"20\" viewBox=\"0 0 20 20\" width=\"20\" xmlns=\"http://www.w3.org/2000/svg\"><rect fill=\"white\" height=\"19\" rx=\"3.5\" stroke=\"#6F6F6F\" width=\"19\" x=\"0.5\" y=\"0.5\"></rect></svg></span>Nutella Biscuits (1)</label></li><li><label class=\"component--shop-sidebar-filters-checkbox global--form-text\"><input class=\"checkbox\" type=\"checkbox\"><span aria-hidden=\"true\" class=\"checkbox-icon\"><svg class=\"\" data-testid=\"IconCheckboxUnselected\" fill=\"none\" height=\"20\" viewBox=\"0 0 20 20\" width=\"20\" xmlns=\"http://www.w3.org/2000/svg\"><rect fill=\"white\" height=\"19\" rx=\"3.5\" stroke=\"#6F6F6F\" width=\"19\" x=\"0.5\" y=\"0.5\"></rect></svg></span>Orville Redenbachers (1)</label></li><li><label class=\"component--shop-sidebar-filters-checkbox global--form-text\"><input class=\"checkbox\" type=\"checkbox\"><span aria-hidden=\"true\" class=\"checkbox-icon\"><svg class=\"\" data-testid=\"IconCheckboxUnselected\" fill=\"none\" height=\"20\" viewBox=\"0 0 20 20\" width=\"20\" xmlns=\"http://www.w3.org/2000/svg\"><rect fill=\"white\" height=\"19\" rx=\"3.5\" stroke=\"#6F6F6F\" width=\"19\" x=\"0.5\" y=\"0.5\"></rect></svg></span>Patagonia Provisions (1)</label></li><li><label class=\"component--shop-sidebar-filters-checkbox global--form-text\"><input class=\"checkbox\" type=\"checkbox\"><span aria-hidden=\"true\" class=\"checkbox-icon\"><svg class=\"\" data-testid=\"IconCheckboxUnselected\" fill=\"none\" height=\"20\" viewBox=\"0 0 20 20\" width=\"20\" xmlns=\"http://www.w3.org/2000/svg\"><rect fill=\"white\" height=\"19\" rx=\"3.5\" stroke=\"#6F6F6F\" width=\"19\" x=\"0.5\" y=\"0.5\"></rect></svg></span>Pinwheels (1)</label></li><li><label class=\"component--shop-sidebar-filters-checkbox global--form-text\"><input class=\"checkbox\" type=\"checkbox\"><span aria-hidden=\"true\" class=\"checkbox-icon\"><svg class=\"\" data-testid=\"IconCheckboxUnselected\" fill=\"none\" height=\"20\" viewBox=\"0 0 20 20\" width=\"20\" xmlns=\"http://www.w3.org/2000/svg\"><rect fill=\"white\" height=\"19\" rx=\"3.5\" stroke=\"#6F6F6F\" width=\"19\" x=\"0.5\" y=\"0.5\"></rect></svg></span>Qwackers (1)</label></li><li><label class=\"component--shop-sidebar-filters-checkbox global--form-text\"><input class=\"checkbox\" type=\"checkbox\"><span aria-hidden=\"true\" class=\"checkbox-icon\"><svg class=\"\" data-testid=\"IconCheckboxUnselected\" fill=\"none\" height=\"20\" viewBox=\"0 0 20 20\" width=\"20\" xmlns=\"http://www.w3.org/2000/svg\"><rect fill=\"white\" height=\"19\" rx=\"3.5\" stroke=\"#6F6F6F\" width=\"19\" x=\"0.5\" y=\"0.5\"></rect></svg></span>Royal Dansk (1)</label></li><li><label class=\"component--shop-sidebar-filters-checkbox global--form-text\"><input class=\"checkbox\" type=\"checkbox\"><span aria-hidden=\"true\" class=\"checkbox-icon\"><svg class=\"\" data-testid=\"IconCheckboxUnselected\" fill=\"none\" height=\"20\" viewBox=\"0 0 20 20\" width=\"20\" xmlns=\"http://www.w3.org/2000/svg\"><rect fill=\"white\" height=\"19\" rx=\"3.5\" stroke=\"#6F6F6F\" width=\"19\" x=\"0.5\" y=\"0.5\"></rect></svg></span>SARATOGA CHIPS (1)</label></li><li><label class=\"component--shop-sidebar-filters-checkbox global--form-text\"><input class=\"checkbox\" type=\"checkbox\"><span aria-hidden=\"true\" class=\"checkbox-icon\"><svg class=\"\" data-testid=\"IconCheckboxUnselected\" fill=\"none\" height=\"20\" viewBox=\"0 0 20 20\" width=\"20\" xmlns=\"http://www.w3.org/2000/svg\"><rect fill=\"white\" height=\"19\" rx=\"3.5\" stroke=\"#6F6F6F\" width=\"19\" x=\"0.5\" y=\"0.5\"></rect></svg></span>Saratoga (1)</label></li><li><label class=\"component--shop-sidebar-filters-checkbox global--form-text\"><input class=\"checkbox\" type=\"checkbox\"><span aria-hidden=\"true\" class=\"checkbox-icon\"><svg class=\"\" data-testid=\"IconCheckboxUnselected\" fill=\"none\" height=\"20\" viewBox=\"0 0 20 20\" width=\"20\" xmlns=\"http://www.w3.org/2000/svg\"><rect fill=\"white\" height=\"19\" rx=\"3.5\" stroke=\"#6F6F6F\" width=\"19\" x=\"0.5\" y=\"0.5\"></rect></svg></span>Savor by Suzie (1)</label></li><li><label class=\"component--shop-sidebar-filters-checkbox global--form-text\"><input class=\"checkbox\" type=\"checkbox\"><span aria-hidden=\"true\" class=\"checkbox-icon\"><svg class=\"\" data-testid=\"IconCheckboxUnselected\" fill=\"none\" height=\"20\" viewBox=\"0 0 20 20\" width=\"20\" xmlns=\"http://www.w3.org/2000/svg\"><rect fill=\"white\" height=\"19\" rx=\"3.5\" stroke=\"#6F6F6F\" width=\"19\" x=\"0.5\" y=\"0.5\"></rect></svg></span>Seapoint Farms (1)</label></li><li><label class=\"component--shop-sidebar-filters-checkbox global--form-text\"><input class=\"checkbox\" type=\"checkbox\"><span aria-hidden=\"true\" class=\"checkbox-icon\"><svg class=\"\" data-testid=\"IconCheckboxUnselected\" fill=\"none\" height=\"20\" viewBox=\"0 0 20 20\" width=\"20\" xmlns=\"http://www.w3.org/2000/svg\"><rect fill=\"white\" height=\"19\" rx=\"3.5\" stroke=\"#6F6F6F\" width=\"19\" x=\"0.5\" y=\"0.5\"></rect></svg></span>Sensational Brands (1)</label></li><li><label class=\"component--shop-sidebar-filters-checkbox global--form-text\"><input class=\"checkbox\" type=\"checkbox\"><span aria-hidden=\"true\" class=\"checkbox-icon\"><svg class=\"\" data-testid=\"IconCheckboxUnselected\" fill=\"none\" height=\"20\" viewBox=\"0 0 20 20\" width=\"20\" xmlns=\"http://www.w3.org/2000/svg\"><rect fill=\"white\" height=\"19\" rx=\"3.5\" stroke=\"#6F6F6F\" width=\"19\" x=\"0.5\" y=\"0.5\"></rect></svg></span>Sesmark (1)</label></li><li><label class=\"component--shop-sidebar-filters-checkbox global--form-text\"><input class=\"checkbox\" type=\"checkbox\"><span aria-hidden=\"true\" class=\"checkbox-icon\"><svg class=\"\" data-testid=\"IconCheckboxUnselected\" fill=\"none\" height=\"20\" viewBox=\"0 0 20 20\" width=\"20\" xmlns=\"http://www.w3.org/2000/svg\"><rect fill=\"white\" height=\"19\" rx=\"3.5\" stroke=\"#6F6F6F\" width=\"19\" x=\"0.5\" y=\"0.5\"></rect></svg></span>Simply (1)</label></li><li><label class=\"component--shop-sidebar-filters-checkbox global--form-text\"><input class=\"checkbox\" type=\"checkbox\"><span aria-hidden=\"true\" class=\"checkbox-icon\"><svg class=\"\" data-testid=\"IconCheckboxUnselected\" fill=\"none\" height=\"20\" viewBox=\"0 0 20 20\" width=\"20\" xmlns=\"http://www.w3.org/2000/svg\"><rect fill=\"white\" height=\"19\" rx=\"3.5\" stroke=\"#6F6F6F\" width=\"19\" x=\"0.5\" y=\"0.5\"></rect></svg></span>Snacklins (1)</label></li><li><label class=\"component--shop-sidebar-filters-checkbox global--form-text\"><input class=\"checkbox\" type=\"checkbox\"><span aria-hidden=\"true\" class=\"checkbox-icon\"><svg class=\"\" data-testid=\"IconCheckboxUnselected\" fill=\"none\" height=\"20\" viewBox=\"0 0 20 20\" width=\"20\" xmlns=\"http://www.w3.org/2000/svg\"><rect fill=\"white\" height=\"19\" rx=\"3.5\" stroke=\"#6F6F6F\" width=\"19\" x=\"0.5\" y=\"0.5\"></rect></svg></span>Snake River Farms (1)</label></li><li><label class=\"component--shop-sidebar-filters-checkbox global--form-text\"><input class=\"checkbox\" type=\"checkbox\"><span aria-hidden=\"true\" class=\"checkbox-icon\"><svg class=\"\" data-testid=\"IconCheckboxUnselected\" fill=\"none\" height=\"20\" viewBox=\"0 0 20 20\" width=\"20\" xmlns=\"http://www.w3.org/2000/svg\"><rect fill=\"white\" height=\"19\" rx=\"3.5\" stroke=\"#6F6F6F\" width=\"19\" x=\"0.5\" y=\"0.5\"></rect></svg></span>Sociables (1)</label></li><li><label class=\"component--shop-sidebar-filters-checkbox global--form-text\"><input class=\"checkbox\" type=\"checkbox\"><span aria-hidden=\"true\" class=\"checkbox-icon\"><svg class=\"\" data-testid=\"IconCheckboxUnselected\" fill=\"none\" height=\"20\" viewBox=\"0 0 20 20\" width=\"20\" xmlns=\"http://www.w3.org/2000/svg\"><rect fill=\"white\" height=\"19\" rx=\"3.5\" stroke=\"#6F6F6F\" width=\"19\" x=\"0.5\" y=\"0.5\"></rect></svg></span>Tate's (1)</label></li><li><label class=\"component--shop-sidebar-filters-checkbox global--form-text\"><input class=\"checkbox\" type=\"checkbox\"><span aria-hidden=\"true\" class=\"checkbox-icon\"><svg class=\"\" data-testid=\"IconCheckboxUnselected\" fill=\"none\" height=\"20\" viewBox=\"0 0 20 20\" width=\"20\" xmlns=\"http://www.w3.org/2000/svg\"><rect fill=\"white\" height=\"19\" rx=\"3.5\" stroke=\"#6F6F6F\" width=\"19\" x=\"0.5\" y=\"0.5\"></rect></svg></span>Tillamook (1)</label></li><li><label class=\"component--shop-sidebar-filters-checkbox global--form-text\"><input class=\"checkbox\" type=\"checkbox\"><span aria-hidden=\"true\" class=\"checkbox-icon\"><svg class=\"\" data-testid=\"IconCheckboxUnselected\" fill=\"none\" height=\"20\" viewBox=\"0 0 20 20\" width=\"20\" xmlns=\"http://www.w3.org/2000/svg\"><rect fill=\"white\" height=\"19\" rx=\"3.5\" stroke=\"#6F6F6F\" width=\"19\" x=\"0.5\" y=\"0.5\"></rect></svg></span>Toasted (1)</label></li><li><label class=\"component--shop-sidebar-filters-checkbox global--form-text\"><input class=\"checkbox\" type=\"checkbox\"><span aria-hidden=\"true\" class=\"checkbox-icon\"><svg class=\"\" data-testid=\"IconCheckboxUnselected\" fill=\"none\" height=\"20\" viewBox=\"0 0 20 20\" width=\"20\" xmlns=\"http://www.w3.org/2000/svg\"><rect fill=\"white\" height=\"19\" rx=\"3.5\" stroke=\"#6F6F6F\" width=\"19\" x=\"0.5\" y=\"0.5\"></rect></svg></span>Tortilleria Mi Nina (1)</label></li><li><label class=\"component--shop-sidebar-filters-checkbox global--form-text\"><input class=\"checkbox\" type=\"checkbox\"><span aria-hidden=\"true\" class=\"checkbox-icon\"><svg class=\"\" data-testid=\"IconCheckboxUnselected\" fill=\"none\" height=\"20\" viewBox=\"0 0 20 20\" width=\"20\" xmlns=\"http://www.w3.org/2000/svg\"><rect fill=\"white\" height=\"19\" rx=\"3.5\" stroke=\"#6F6F6F\" width=\"19\" x=\"0.5\" y=\"0.5\"></rect></svg></span>Vacadillos (1)</label></li><li><label class=\"component--shop-sidebar-filters-checkbox global--form-text\"><input class=\"checkbox\" type=\"checkbox\"><span aria-hidden=\"true\" class=\"checkbox-icon\"><svg class=\"\" data-testid=\"IconCheckboxUnselected\" fill=\"none\" height=\"20\" viewBox=\"0 0 20 20\" width=\"20\" xmlns=\"http://www.w3.org/2000/svg\"><rect fill=\"white\" height=\"19\" rx=\"3.5\" stroke=\"#6F6F6F\" width=\"19\" x=\"0.5\" y=\"0.5\"></rect></svg></span>Vegan Rob's (1)</label></li><li><label class=\"component--shop-sidebar-filters-checkbox global--form-text\"><input class=\"checkbox\" type=\"checkbox\"><span aria-hidden=\"true\" class=\"checkbox-icon\"><svg class=\"\" data-testid=\"IconCheckboxUnselected\" fill=\"none\" height=\"20\" viewBox=\"0 0 20 20\" width=\"20\" xmlns=\"http://www.w3.org/2000/svg\"><rect fill=\"white\" height=\"19\" rx=\"3.5\" stroke=\"#6F6F6F\" width=\"19\" x=\"0.5\" y=\"0.5\"></rect></svg></span>Vinta (1)</label></li><li><label class=\"component--shop-sidebar-filters-checkbox global--form-text\"><input class=\"checkbox\" type=\"checkbox\"><span aria-hidden=\"true\" class=\"checkbox-icon\"><svg class=\"\" data-testid=\"IconCheckboxUnselected\" fill=\"none\" height=\"20\" viewBox=\"0 0 20 20\" width=\"20\" xmlns=\"http://www.w3.org/2000/svg\"><rect fill=\"white\" height=\"19\" rx=\"3.5\" stroke=\"#6F6F6F\" width=\"19\" x=\"0.5\" y=\"0.5\"></rect></svg></span>Wilde Chips (1)</label></li><li><label class=\"component--shop-sidebar-filters-checkbox global--form-text\"><input class=\"checkbox\" type=\"checkbox\"><span aria-hidden=\"true\" class=\"checkbox-icon\"><svg class=\"\" data-testid=\"IconCheckboxUnselected\" fill=\"none\" height=\"20\" viewBox=\"0 0 20 20\" width=\"20\" xmlns=\"http://www.w3.org/2000/svg\"><rect fill=\"white\" height=\"19\" rx=\"3.5\" stroke=\"#6F6F6F\" width=\"19\" x=\"0.5\" y=\"0.5\"></rect></svg></span>Woodstock (1)</label></li><li><label class=\"component--shop-sidebar-filters-checkbox global--form-text\"><input class=\"checkbox\" type=\"checkbox\"><span aria-hidden=\"true\" class=\"checkbox-icon\"><svg class=\"\" data-testid=\"IconCheckboxUnselected\" fill=\"none\" height=\"20\" viewBox=\"0 0 20 20\" width=\"20\" xmlns=\"http://www.w3.org/2000/svg\"><rect fill=\"white\" height=\"19\" rx=\"3.5\" stroke=\"#6F6F6F\" width=\"19\" x=\"0.5\" y=\"0.5\"></rect></svg></span>Wow (1)</label></li><li><label class=\"component--shop-sidebar-filters-checkbox global--form-text\"><input class=\"checkbox\" type=\"checkbox\"><span aria-hidden=\"true\" class=\"checkbox-icon\"><svg class=\"\" data-testid=\"IconCheckboxUnselected\" fill=\"none\" height=\"20\" viewBox=\"0 0 20 20\" width=\"20\" xmlns=\"http://www.w3.org/2000/svg\"><rect fill=\"white\" height=\"19\" rx=\"3.5\" stroke=\"#6F6F6F\" width=\"19\" x=\"0.5\" y=\"0.5\"></rect></svg></span>Zapp's (1)</label></li></ul>\n",
    "\"\"\""
   ]
  },
  {
   "cell_type": "code",
   "execution_count": 375,
   "id": "4ee8f229",
   "metadata": {},
   "outputs": [
    {
     "name": "stdout",
     "output_type": "stream",
     "text": [
      "['Wegmans (310)', 'Pepperidge Farm (54)', 'Goldfish (43)', \"Lay's (41)\", \"Snyder's of Hanover (41)\", 'Oreo (38)', 'Tostitos (34)', 'Utz (34)', 'Ritz (33)', 'Cheez-It (28)', 'Doritos (26)', 'Triscuit (26)', 'Cape Cod (25)', 'Little Debbie (23)', 'Chips Ahoy! (22)', 'Simple Mills (22)', 'Siete (20)', 'Keebler (19)', 'Voortman Bakery (17)', 'Pringles (16)', 'Schar (16)', 'Snack Factory (16)', 'Frito Lay (15)', \"Tate's Bake Shop (15)\", \"Annie's (14)\", 'Cheetos (14)', 'Hostess (14)', 'Wise (14)', 'belVita (14)', \"Kernel Season's (13)\", 'Lance (13)', \"Jack Link's (12)\", 'Ruffles (12)', \"Welch's (11)\", 'Planters (10)', 'Quaker (10)', 'The Good Crisp Company (10)', 'Wheat Thins (10)', 'Archway (9)', 'Crunchmaster (9)', 'Fritos (9)', 'LesserEvil (9)', 'Lundberg Family Farms (9)', \"Orville Redenbacher's (9)\", 'Partake (9)', 'Smartfood (9)', \"Stacy's (9)\", 'Country Archer (8)', \"Entenmann's (8)\", 'Goodie Girl (8)', 'MadeGood (8)', 'PopCorners (8)', 'Premium (8)', 'Real Food From the Ground Up (8)', 'Rold Gold (8)', 'Xochitl (8)', 'Back to Nature (7)', 'Club (7)', 'Pace (7)', 'Setton Farms (7)', 'SkinnyPop (7)', \"Stauffer's (7)\", 'Sun-Maid (7)', \"Angie's Boomchickapop (6)\", 'Chomps (6)', \"Dot's Homestyle Pretzels (6)\", 'Good Thins (6)', 'Honey Maid (6)', 'Kettle Brand (6)', \"Mary Macleod's Shortbread (6)\", 'Mauna Loa (6)', \"Milton's (6)\", \"Newman's Own (6)\", 'Ocean Spray (6)', 'Rustic Bakery (6)', \"Stella D'oro (6)\", 'SunChips (6)', 'THE DAILY CRAVE (6)', 'Toasteds (6)', 'Town House (6)', 'Boulder Canyon (5)', \"Chester's (5)\", 'Chex Mix (5)', 'Drizzilicious (5)', 'From The Ground Up (5)', 'Harvest Snaps (5)', 'Herdez (5)', 'Jolly Time (5)', 'Nabisco (5)', 'Nutty & Fruity (5)', \"Pamela's (5)\", 'Quinn (5)', 'Sunsweet (5)', 'Teddy Grahams (5)', 'Terra (5)', 'Top Seedz (5)', 'Unique Snacks (5)', 'Wilde (5)', 'Wonderful Pistachios (5)', 'Absolutely! Gluten Free (4)', 'Bare (4)', 'Biena (4)', 'Blue Diamond Almonds (4)', 'Brothers All Natural (4)', \"Carr's (4)\", \"Dewey's Bakery (4)\", \"Emmy's Organics (4)\", 'Every Body Eat (4)', 'Fit Joy (4)', 'Glutino (4)', 'Good Health (4)', 'Gratify (4)', 'Hippeas (4)', 'Jennies (4)', \"Kellogg's (4)\", 'Late July (4)', 'Maine Crisp (4)', 'Natural Delights (4)', 'Nilla (4)', 'Nutter Butter (4)', 'Parm Crisps (4)', 'Pop-Secret (4)', 'Simply 7 (4)', 'SkinnyDipped (4)', 'Tastykake (4)', 'Wasa (4)', 'Bachman (3)', \"Barnum's Animals (3)\", 'Bella Lucia (3)', 'Blue Diamond (3)', 'Breton (3)', 'Catalina Crunch (3)', \"Chi-Chi's (3)\", 'Country Archer Provisions (3)', 'Craize (3)', \"Cybele's (3)\", 'Drybox (3)', 'Edward & Sons (3)', 'Firehook (3)', 'Funyuns (3)', 'Go Raw (3)', 'Goya (3)', 'Happy Snacks (3)', 'Healing Home Foods (3)', 'Hubs (3)', 'Khloud (3)', 'Kinnikinnick (3)', \"Mateo's (3)\", 'Moon Cheese (3)', \"Mother's (3)\", 'Newtons (3)', \"Nonni's (3)\", \"Pirate's Booty (3)\", 'RW Garcia (3)', 'Real Foods (3)', 'Realsy Foods, Inc. (3)', \"Reese's (3)\", 'Rule Breaker (3)', 'Santitas (3)', 'Sensible Portions (3)', 'Solely (3)', 'Spudsy (3)', \"Steve & Andy's (3)\", \"Sweet Loren's (3)\", 'The GFB (3)', 'The Greater Knead (3)', 'Tochi (3)', 'Tutti (3)', 'Vermont Smoke & Cure (3)', 'Wonderful (3)', '4505 Meats (2)', 'Artisan Tropic (2)', 'Bear (2)', 'Biscoff (2)', 'Black Jewell (2)', 'Brami (2)', 'Brownie Brittle (2)', 'Cabot (2)', 'Combos (2)', 'David (2)', \"Drake's (2)\", 'Easy Cheese (2)', 'Element (2)', \"Ella's Flats (2)\", 'Famous Amos (2)', \"Farmer Jon's (2)\", 'Flock (2)', 'Flora (2)', 'Food Should Taste Good (2)', \"Freakin' Wholesome® (2)\", 'Free To Eat (2)', 'Funables (2)', \"Garden of Eatin' (2)\", 'Golden Oreo (2)', 'Gushers (2)', 'Hippie Snacks (2)', 'Irvins (2)', \"Jackson's (2)\", 'Like Air (2)', 'Loacker (2)', 'Made Good (2)', 'Made in Nature (2)', 'Mariani (2)', \"Maxine's Heavenly (2)\", \"Mrs. Renfro's (2)\", 'Munchies (2)', 'New York Chips (2)', 'Old London (2)', 'P-Nuff Crunch (2)', 'Patagonia (2)', 'Pepperidge Farm® (2)', 'Pipcorn (2)', 'Pirates Booty (2)', 'Popchips (2)', 'Poppy (2)', 'Prana Organic (2)', 'Pretzelized Snacks (2)', 'Primo & Marys (2)', 'Purplesful Snacking (2)', 'Quest (2)', 'Rib Rack (2)', 'Rivalz (2)', 'SeedWise (2)', 'Seneca (2)', \"Sheila G's (2)\", 'Slim Jim (2)', 'Snack Mates (2)', \"Snyder's-Lance (2)\", 'Stellar (2)', 'Stonehedge Farms (2)', 'Stony Brook (2)', 'Sun Tropics (2)', 'Taali (2)', \"Terrell's (2)\", 'Tillamook Country Smoker (2)', \"Todd's Better Snacks (2)\", 'VERMONT (2)', \"Veggie Rob's (2)\", \"Walker's (2)\", 'Wege of Hanover (2)', 'Westminster Bakers Co. (2)', 'Wow Baking Company (2)', 'Zesty Z (2)', '34 Degrees (1)', '5th Season (1)', \"Andy Capp's (1)\", 'Anthem Snacks (1)', 'Arrowhead Mills (1)', 'Bada Bean Bada Boom (1)', 'Betty Crocker (1)', 'Biscos (1)', 'Black Forest (1)', 'Boulder (1)', 'Brothers (1)', 'Bugles (1)', 'Cabaret (1)', 'Candy Pop (1)', 'Chessmen (1)', 'Chicken in a Biskit (1)', 'Cracker Jack (1)', 'Craigs Creamery (1)', 'Cybeles (1)', 'Daily Crave (1)', 'Daily Crunch (1)', 'Dare (1)', 'DeLallo (1)', 'Earth Balance (1)', 'Eat Smart (1)', 'Epic (1)', 'Evil Snacks (1)', 'Fruit Roll-Ups (1)', 'Fruit by the Foot (1)', 'G.H. Cretors (1)', 'Galil (1)', 'General Mills (1)', 'Ginger Snaps (1)', 'Grains First (1)', 'Guinness (1)', 'Hawaiian Host (1)', \"Hershey's (1)\", 'Iwon (1)', 'Iwon Organics (1)', 'Jax (1)', 'Jiffy Pop (1)', 'Kettle (1)', \"Kim's (1)\", 'Kinder (1)', 'LE PAIN DES FLEURS (1)', 'La Dolce Vita (1)', 'La Preferida (1)', 'Lays (1)', 'Live Love Pop (1)', 'Lorna Doone (1)', 'Louisville Vegan Jerky (1)', 'Louisville Vegan Jerky Co (1)', \"Mary's Gone Crackers (1)\", 'Matilde Vicenzi (1)', 'Mi Nina (1)', 'Mi-Del (1)', \"Mott's (1)\", 'Munchos (1)', 'Nut-rition (1)', 'Nutella B-Ready (1)', 'Nutella Biscuits (1)', 'Orville Redenbachers (1)', 'Patagonia Provisions (1)', 'Pinwheels (1)', 'Qwackers (1)', 'Royal Dansk (1)', 'SARATOGA CHIPS (1)', 'Saratoga (1)', 'Savor by Suzie (1)', 'Seapoint Farms (1)', 'Sensational Brands (1)', 'Sesmark (1)', 'Simply (1)', 'Snacklins (1)', 'Snake River Farms (1)', 'Sociables (1)', \"Tate's (1)\", 'Tillamook (1)', 'Toasted (1)', 'Tortilleria Mi Nina (1)', 'Vacadillos (1)', \"Vegan Rob's (1)\", 'Vinta (1)', 'Wilde Chips (1)', 'Woodstock (1)', 'Wow (1)', \"Zapp's (1)\"]\n"
     ]
    }
   ],
   "source": [
    "from bs4 import BeautifulSoup\n",
    "\n",
    "# 2. Construct a BeautifulSoup object\n",
    "soup = BeautifulSoup(html_, \"html.parser\")\n",
    "\n",
    "# 3. Find the <ul> (or all of them)\n",
    "ul = soup.find(\"ul\")         # or soup.find_all(\"ul\") for multiple lists\n",
    "\n",
    "# 4. Pull out each <li>’s text\n",
    "items = [li.get_text(strip=True) for li in ul.find_all(\"li\")]\n",
    "\n",
    "print(items)\n",
    "# → ['First item', 'Second item with bold text', 'Third item']\n"
   ]
  },
  {
   "cell_type": "code",
   "execution_count": 383,
   "id": "63bdbeb6",
   "metadata": {},
   "outputs": [
    {
     "data": {
      "text/plain": [
       "1977"
      ]
     },
     "execution_count": 383,
     "metadata": {},
     "output_type": "execute_result"
    }
   ],
   "source": [
    "sum([int(i.split(\" \")[-1].strip(\"()\")) for i in items])"
   ]
  },
  {
   "cell_type": "code",
   "execution_count": 385,
   "id": "fc8d8443",
   "metadata": {},
   "outputs": [],
   "source": [
    "final = getSubCategoryDataBlobs('5108174', 1)"
   ]
  },
  {
   "cell_type": "code",
   "execution_count": 387,
   "id": "a96fbf57",
   "metadata": {},
   "outputs": [
    {
     "data": {
      "text/plain": [
       "1977"
      ]
     },
     "execution_count": 387,
     "metadata": {},
     "output_type": "execute_result"
    }
   ],
   "source": [
    "len(final)"
   ]
  },
  {
   "cell_type": "markdown",
   "id": "9fb43887",
   "metadata": {},
   "source": [
    "some notes:\n",
    "- I validated that the sum of all the brands matches w/ the website\n",
    "- Lays salt & vinegar potato chips party size 12.5 oz"
   ]
  },
  {
   "cell_type": "markdown",
   "id": "9d4ac3f0",
   "metadata": {},
   "source": []
  }
 ],
 "metadata": {
  "kernelspec": {
   "display_name": "base",
   "language": "python",
   "name": "python3"
  },
  "language_info": {
   "codemirror_mode": {
    "name": "ipython",
    "version": 3
   },
   "file_extension": ".py",
   "mimetype": "text/x-python",
   "name": "python",
   "nbconvert_exporter": "python",
   "pygments_lexer": "ipython3",
   "version": "3.11.5"
  }
 },
 "nbformat": 4,
 "nbformat_minor": 5
}
